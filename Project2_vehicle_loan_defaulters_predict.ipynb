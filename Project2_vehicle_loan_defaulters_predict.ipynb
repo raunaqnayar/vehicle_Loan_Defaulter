{
 "cells": [
  {
   "cell_type": "markdown",
   "id": "299fd786",
   "metadata": {},
   "source": [
    "# Project on observation of factors affecting loan defaulters and model creation to predict potential defaulters"
   ]
  },
  {
   "cell_type": "code",
   "execution_count": 313,
   "id": "57496d2e",
   "metadata": {},
   "outputs": [],
   "source": [
    "import numpy as np;\n",
    "import pandas as pd;\n",
    "import openpyxl;\n",
    "import matplotlib.pyplot as plt;\n",
    "import seaborn as sns;\n",
    "from scipy.stats import spearmanr;\n",
    "from sklearn.linear_model import LogisticRegression;\n",
    "from sklearn.model_selection import train_test_split,RandomizedSearchCV,GridSearchCV;\n",
    "from sklearn.preprocessing import Normalizer;\n",
    "from sklearn.metrics import confusion_matrix;"
   ]
  },
  {
   "cell_type": "markdown",
   "id": "40c90b85",
   "metadata": {},
   "source": [
    "## Week 1: Importing, Understanding, and Inspecting Data"
   ]
  },
  {
   "cell_type": "code",
   "execution_count": 2,
   "id": "db0e5456",
   "metadata": {},
   "outputs": [],
   "source": [
    "loan_df=pd.read_excel(\"data.xlsx\");"
   ]
  },
  {
   "cell_type": "markdown",
   "id": "b5f927b0",
   "metadata": {},
   "source": [
    "### 1. Perform preliminary data inspection and report the findings as the structure of the data, missing values, duplicates, etc."
   ]
  },
  {
   "cell_type": "code",
   "execution_count": 3,
   "id": "fe3595d9",
   "metadata": {
    "scrolled": true
   },
   "outputs": [
    {
     "data": {
      "text/html": [
       "<div>\n",
       "<style scoped>\n",
       "    .dataframe tbody tr th:only-of-type {\n",
       "        vertical-align: middle;\n",
       "    }\n",
       "\n",
       "    .dataframe tbody tr th {\n",
       "        vertical-align: top;\n",
       "    }\n",
       "\n",
       "    .dataframe thead th {\n",
       "        text-align: right;\n",
       "    }\n",
       "</style>\n",
       "<table border=\"1\" class=\"dataframe\">\n",
       "  <thead>\n",
       "    <tr style=\"text-align: right;\">\n",
       "      <th></th>\n",
       "      <th>UniqueID</th>\n",
       "      <th>disbursed_amount</th>\n",
       "      <th>asset_cost</th>\n",
       "      <th>ltv</th>\n",
       "      <th>branch_id</th>\n",
       "      <th>supplier_id</th>\n",
       "      <th>manufacturer_id</th>\n",
       "      <th>Current_pincode_ID</th>\n",
       "      <th>Date.of.Birth</th>\n",
       "      <th>Employment.Type</th>\n",
       "      <th>...</th>\n",
       "      <th>SEC.SANCTIONED.AMOUNT</th>\n",
       "      <th>SEC.DISBURSED.AMOUNT</th>\n",
       "      <th>PRIMARY.INSTAL.AMT</th>\n",
       "      <th>SEC.INSTAL.AMT</th>\n",
       "      <th>NEW.ACCTS.IN.LAST.SIX.MONTHS</th>\n",
       "      <th>DELINQUENT.ACCTS.IN.LAST.SIX.MONTHS</th>\n",
       "      <th>AVERAGE.ACCT.AGE</th>\n",
       "      <th>CREDIT.HISTORY.LENGTH</th>\n",
       "      <th>NO.OF_INQUIRIES</th>\n",
       "      <th>loan_default</th>\n",
       "    </tr>\n",
       "  </thead>\n",
       "  <tbody>\n",
       "    <tr>\n",
       "      <th>0</th>\n",
       "      <td>420825</td>\n",
       "      <td>50578</td>\n",
       "      <td>58400</td>\n",
       "      <td>89.55</td>\n",
       "      <td>67</td>\n",
       "      <td>22807</td>\n",
       "      <td>45</td>\n",
       "      <td>1441</td>\n",
       "      <td>1984-01-01</td>\n",
       "      <td>Salaried</td>\n",
       "      <td>...</td>\n",
       "      <td>0</td>\n",
       "      <td>0</td>\n",
       "      <td>0</td>\n",
       "      <td>0</td>\n",
       "      <td>0</td>\n",
       "      <td>0</td>\n",
       "      <td>0yrs 0mon</td>\n",
       "      <td>0yrs 0mon</td>\n",
       "      <td>0</td>\n",
       "      <td>0</td>\n",
       "    </tr>\n",
       "    <tr>\n",
       "      <th>1</th>\n",
       "      <td>417566</td>\n",
       "      <td>53278</td>\n",
       "      <td>61360</td>\n",
       "      <td>89.63</td>\n",
       "      <td>67</td>\n",
       "      <td>22807</td>\n",
       "      <td>45</td>\n",
       "      <td>1497</td>\n",
       "      <td>1985-08-24</td>\n",
       "      <td>Self employed</td>\n",
       "      <td>...</td>\n",
       "      <td>0</td>\n",
       "      <td>0</td>\n",
       "      <td>0</td>\n",
       "      <td>0</td>\n",
       "      <td>0</td>\n",
       "      <td>0</td>\n",
       "      <td>0yrs 0mon</td>\n",
       "      <td>0yrs 0mon</td>\n",
       "      <td>0</td>\n",
       "      <td>0</td>\n",
       "    </tr>\n",
       "    <tr>\n",
       "      <th>2</th>\n",
       "      <td>539055</td>\n",
       "      <td>52378</td>\n",
       "      <td>60300</td>\n",
       "      <td>88.39</td>\n",
       "      <td>67</td>\n",
       "      <td>22807</td>\n",
       "      <td>45</td>\n",
       "      <td>1495</td>\n",
       "      <td>1977-12-09</td>\n",
       "      <td>Self employed</td>\n",
       "      <td>...</td>\n",
       "      <td>0</td>\n",
       "      <td>0</td>\n",
       "      <td>0</td>\n",
       "      <td>0</td>\n",
       "      <td>0</td>\n",
       "      <td>0</td>\n",
       "      <td>0yrs 0mon</td>\n",
       "      <td>0yrs 0mon</td>\n",
       "      <td>1</td>\n",
       "      <td>1</td>\n",
       "    </tr>\n",
       "    <tr>\n",
       "      <th>3</th>\n",
       "      <td>529269</td>\n",
       "      <td>46349</td>\n",
       "      <td>61500</td>\n",
       "      <td>76.42</td>\n",
       "      <td>67</td>\n",
       "      <td>22807</td>\n",
       "      <td>45</td>\n",
       "      <td>1502</td>\n",
       "      <td>1988-06-01</td>\n",
       "      <td>Salaried</td>\n",
       "      <td>...</td>\n",
       "      <td>0</td>\n",
       "      <td>0</td>\n",
       "      <td>0</td>\n",
       "      <td>0</td>\n",
       "      <td>0</td>\n",
       "      <td>0</td>\n",
       "      <td>0yrs 0mon</td>\n",
       "      <td>0yrs 0mon</td>\n",
       "      <td>0</td>\n",
       "      <td>0</td>\n",
       "    </tr>\n",
       "    <tr>\n",
       "      <th>4</th>\n",
       "      <td>563215</td>\n",
       "      <td>43594</td>\n",
       "      <td>78256</td>\n",
       "      <td>57.50</td>\n",
       "      <td>67</td>\n",
       "      <td>22744</td>\n",
       "      <td>86</td>\n",
       "      <td>1499</td>\n",
       "      <td>1994-07-14</td>\n",
       "      <td>Self employed</td>\n",
       "      <td>...</td>\n",
       "      <td>0</td>\n",
       "      <td>0</td>\n",
       "      <td>0</td>\n",
       "      <td>0</td>\n",
       "      <td>0</td>\n",
       "      <td>0</td>\n",
       "      <td>0yrs 0mon</td>\n",
       "      <td>0yrs 0mon</td>\n",
       "      <td>0</td>\n",
       "      <td>0</td>\n",
       "    </tr>\n",
       "    <tr>\n",
       "      <th>...</th>\n",
       "      <td>...</td>\n",
       "      <td>...</td>\n",
       "      <td>...</td>\n",
       "      <td>...</td>\n",
       "      <td>...</td>\n",
       "      <td>...</td>\n",
       "      <td>...</td>\n",
       "      <td>...</td>\n",
       "      <td>...</td>\n",
       "      <td>...</td>\n",
       "      <td>...</td>\n",
       "      <td>...</td>\n",
       "      <td>...</td>\n",
       "      <td>...</td>\n",
       "      <td>...</td>\n",
       "      <td>...</td>\n",
       "      <td>...</td>\n",
       "      <td>...</td>\n",
       "      <td>...</td>\n",
       "      <td>...</td>\n",
       "      <td>...</td>\n",
       "    </tr>\n",
       "    <tr>\n",
       "      <th>233149</th>\n",
       "      <td>561031</td>\n",
       "      <td>57759</td>\n",
       "      <td>76350</td>\n",
       "      <td>77.28</td>\n",
       "      <td>5</td>\n",
       "      <td>22289</td>\n",
       "      <td>51</td>\n",
       "      <td>3326</td>\n",
       "      <td>1981-11-10</td>\n",
       "      <td>Self employed</td>\n",
       "      <td>...</td>\n",
       "      <td>0</td>\n",
       "      <td>0</td>\n",
       "      <td>0</td>\n",
       "      <td>0</td>\n",
       "      <td>0</td>\n",
       "      <td>0</td>\n",
       "      <td>2yrs 4mon</td>\n",
       "      <td>2yrs 4mon</td>\n",
       "      <td>0</td>\n",
       "      <td>0</td>\n",
       "    </tr>\n",
       "    <tr>\n",
       "      <th>233150</th>\n",
       "      <td>649600</td>\n",
       "      <td>55009</td>\n",
       "      <td>71200</td>\n",
       "      <td>78.72</td>\n",
       "      <td>138</td>\n",
       "      <td>17408</td>\n",
       "      <td>51</td>\n",
       "      <td>3385</td>\n",
       "      <td>1992-10-15</td>\n",
       "      <td>Self employed</td>\n",
       "      <td>...</td>\n",
       "      <td>0</td>\n",
       "      <td>0</td>\n",
       "      <td>15209</td>\n",
       "      <td>0</td>\n",
       "      <td>0</td>\n",
       "      <td>0</td>\n",
       "      <td>1yrs 5mon</td>\n",
       "      <td>1yrs 5mon</td>\n",
       "      <td>1</td>\n",
       "      <td>0</td>\n",
       "    </tr>\n",
       "    <tr>\n",
       "      <th>233151</th>\n",
       "      <td>603445</td>\n",
       "      <td>58513</td>\n",
       "      <td>68000</td>\n",
       "      <td>88.24</td>\n",
       "      <td>135</td>\n",
       "      <td>23313</td>\n",
       "      <td>45</td>\n",
       "      <td>1797</td>\n",
       "      <td>1981-12-19</td>\n",
       "      <td>Self employed</td>\n",
       "      <td>...</td>\n",
       "      <td>0</td>\n",
       "      <td>0</td>\n",
       "      <td>257948</td>\n",
       "      <td>0</td>\n",
       "      <td>35</td>\n",
       "      <td>5</td>\n",
       "      <td>0yrs 9mon</td>\n",
       "      <td>3yrs 10mon</td>\n",
       "      <td>1</td>\n",
       "      <td>0</td>\n",
       "    </tr>\n",
       "    <tr>\n",
       "      <th>233152</th>\n",
       "      <td>442948</td>\n",
       "      <td>22824</td>\n",
       "      <td>40458</td>\n",
       "      <td>61.79</td>\n",
       "      <td>160</td>\n",
       "      <td>16212</td>\n",
       "      <td>48</td>\n",
       "      <td>96</td>\n",
       "      <td>1989-07-31</td>\n",
       "      <td>Self employed</td>\n",
       "      <td>...</td>\n",
       "      <td>0</td>\n",
       "      <td>0</td>\n",
       "      <td>26046</td>\n",
       "      <td>0</td>\n",
       "      <td>9</td>\n",
       "      <td>1</td>\n",
       "      <td>1yrs 2mon</td>\n",
       "      <td>3yrs 2mon</td>\n",
       "      <td>0</td>\n",
       "      <td>0</td>\n",
       "    </tr>\n",
       "    <tr>\n",
       "      <th>233153</th>\n",
       "      <td>545300</td>\n",
       "      <td>35299</td>\n",
       "      <td>72698</td>\n",
       "      <td>52.27</td>\n",
       "      <td>3</td>\n",
       "      <td>14573</td>\n",
       "      <td>45</td>\n",
       "      <td>17</td>\n",
       "      <td>1968-08-01</td>\n",
       "      <td>Self employed</td>\n",
       "      <td>...</td>\n",
       "      <td>0</td>\n",
       "      <td>0</td>\n",
       "      <td>293886</td>\n",
       "      <td>0</td>\n",
       "      <td>5</td>\n",
       "      <td>0</td>\n",
       "      <td>2yrs 11mon</td>\n",
       "      <td>5yrs 4mon</td>\n",
       "      <td>0</td>\n",
       "      <td>0</td>\n",
       "    </tr>\n",
       "  </tbody>\n",
       "</table>\n",
       "<p>233154 rows × 41 columns</p>\n",
       "</div>"
      ],
      "text/plain": [
       "        UniqueID  disbursed_amount  asset_cost    ltv  branch_id  supplier_id  \\\n",
       "0         420825             50578       58400  89.55         67        22807   \n",
       "1         417566             53278       61360  89.63         67        22807   \n",
       "2         539055             52378       60300  88.39         67        22807   \n",
       "3         529269             46349       61500  76.42         67        22807   \n",
       "4         563215             43594       78256  57.50         67        22744   \n",
       "...          ...               ...         ...    ...        ...          ...   \n",
       "233149    561031             57759       76350  77.28          5        22289   \n",
       "233150    649600             55009       71200  78.72        138        17408   \n",
       "233151    603445             58513       68000  88.24        135        23313   \n",
       "233152    442948             22824       40458  61.79        160        16212   \n",
       "233153    545300             35299       72698  52.27          3        14573   \n",
       "\n",
       "        manufacturer_id  Current_pincode_ID Date.of.Birth Employment.Type  \\\n",
       "0                    45                1441    1984-01-01        Salaried   \n",
       "1                    45                1497    1985-08-24   Self employed   \n",
       "2                    45                1495    1977-12-09   Self employed   \n",
       "3                    45                1502    1988-06-01        Salaried   \n",
       "4                    86                1499    1994-07-14   Self employed   \n",
       "...                 ...                 ...           ...             ...   \n",
       "233149               51                3326    1981-11-10   Self employed   \n",
       "233150               51                3385    1992-10-15   Self employed   \n",
       "233151               45                1797    1981-12-19   Self employed   \n",
       "233152               48                  96    1989-07-31   Self employed   \n",
       "233153               45                  17    1968-08-01   Self employed   \n",
       "\n",
       "        ... SEC.SANCTIONED.AMOUNT  SEC.DISBURSED.AMOUNT  PRIMARY.INSTAL.AMT  \\\n",
       "0       ...                     0                     0                   0   \n",
       "1       ...                     0                     0                   0   \n",
       "2       ...                     0                     0                   0   \n",
       "3       ...                     0                     0                   0   \n",
       "4       ...                     0                     0                   0   \n",
       "...     ...                   ...                   ...                 ...   \n",
       "233149  ...                     0                     0                   0   \n",
       "233150  ...                     0                     0               15209   \n",
       "233151  ...                     0                     0              257948   \n",
       "233152  ...                     0                     0               26046   \n",
       "233153  ...                     0                     0              293886   \n",
       "\n",
       "        SEC.INSTAL.AMT  NEW.ACCTS.IN.LAST.SIX.MONTHS  \\\n",
       "0                    0                             0   \n",
       "1                    0                             0   \n",
       "2                    0                             0   \n",
       "3                    0                             0   \n",
       "4                    0                             0   \n",
       "...                ...                           ...   \n",
       "233149               0                             0   \n",
       "233150               0                             0   \n",
       "233151               0                            35   \n",
       "233152               0                             9   \n",
       "233153               0                             5   \n",
       "\n",
       "        DELINQUENT.ACCTS.IN.LAST.SIX.MONTHS  AVERAGE.ACCT.AGE  \\\n",
       "0                                         0         0yrs 0mon   \n",
       "1                                         0         0yrs 0mon   \n",
       "2                                         0         0yrs 0mon   \n",
       "3                                         0         0yrs 0mon   \n",
       "4                                         0         0yrs 0mon   \n",
       "...                                     ...               ...   \n",
       "233149                                    0         2yrs 4mon   \n",
       "233150                                    0         1yrs 5mon   \n",
       "233151                                    5         0yrs 9mon   \n",
       "233152                                    1         1yrs 2mon   \n",
       "233153                                    0        2yrs 11mon   \n",
       "\n",
       "        CREDIT.HISTORY.LENGTH  NO.OF_INQUIRIES  loan_default  \n",
       "0                   0yrs 0mon                0             0  \n",
       "1                   0yrs 0mon                0             0  \n",
       "2                   0yrs 0mon                1             1  \n",
       "3                   0yrs 0mon                0             0  \n",
       "4                   0yrs 0mon                0             0  \n",
       "...                       ...              ...           ...  \n",
       "233149              2yrs 4mon                0             0  \n",
       "233150              1yrs 5mon                1             0  \n",
       "233151             3yrs 10mon                1             0  \n",
       "233152              3yrs 2mon                0             0  \n",
       "233153              5yrs 4mon                0             0  \n",
       "\n",
       "[233154 rows x 41 columns]"
      ]
     },
     "execution_count": 3,
     "metadata": {},
     "output_type": "execute_result"
    }
   ],
   "source": [
    "loan_df"
   ]
  },
  {
   "cell_type": "code",
   "execution_count": 4,
   "id": "2fdb23cf",
   "metadata": {
    "scrolled": false
   },
   "outputs": [
    {
     "name": "stdout",
     "output_type": "stream",
     "text": [
      "<class 'pandas.core.frame.DataFrame'>\n",
      "RangeIndex: 233154 entries, 0 to 233153\n",
      "Data columns (total 41 columns):\n",
      " #   Column                               Non-Null Count   Dtype         \n",
      "---  ------                               --------------   -----         \n",
      " 0   UniqueID                             233154 non-null  int64         \n",
      " 1   disbursed_amount                     233154 non-null  int64         \n",
      " 2   asset_cost                           233154 non-null  int64         \n",
      " 3   ltv                                  233154 non-null  float64       \n",
      " 4   branch_id                            233154 non-null  int64         \n",
      " 5   supplier_id                          233154 non-null  int64         \n",
      " 6   manufacturer_id                      233154 non-null  int64         \n",
      " 7   Current_pincode_ID                   233154 non-null  int64         \n",
      " 8   Date.of.Birth                        233154 non-null  datetime64[ns]\n",
      " 9   Employment.Type                      225493 non-null  object        \n",
      " 10  DisbursalDate                        233154 non-null  datetime64[ns]\n",
      " 11  State_ID                             233154 non-null  int64         \n",
      " 12  Employee_code_ID                     233154 non-null  int64         \n",
      " 13  MobileNo_Avl_Flag                    233154 non-null  int64         \n",
      " 14  Aadhar_flag                          233154 non-null  int64         \n",
      " 15  PAN_flag                             233154 non-null  int64         \n",
      " 16  VoterID_flag                         233154 non-null  int64         \n",
      " 17  Driving_flag                         233154 non-null  int64         \n",
      " 18  Passport_flag                        233154 non-null  int64         \n",
      " 19  PERFORM_CNS.SCORE                    233154 non-null  int64         \n",
      " 20  PERFORM_CNS.SCORE.DESCRIPTION        233154 non-null  object        \n",
      " 21  PRI.NO.OF.ACCTS                      233154 non-null  int64         \n",
      " 22  PRI.ACTIVE.ACCTS                     233154 non-null  int64         \n",
      " 23  PRI.OVERDUE.ACCTS                    233154 non-null  int64         \n",
      " 24  PRI.CURRENT.BALANCE                  233154 non-null  int64         \n",
      " 25  PRI.SANCTIONED.AMOUNT                233154 non-null  int64         \n",
      " 26  PRI.DISBURSED.AMOUNT                 233154 non-null  int64         \n",
      " 27  SEC.NO.OF.ACCTS                      233154 non-null  int64         \n",
      " 28  SEC.ACTIVE.ACCTS                     233154 non-null  int64         \n",
      " 29  SEC.OVERDUE.ACCTS                    233154 non-null  int64         \n",
      " 30  SEC.CURRENT.BALANCE                  233154 non-null  int64         \n",
      " 31  SEC.SANCTIONED.AMOUNT                233154 non-null  int64         \n",
      " 32  SEC.DISBURSED.AMOUNT                 233154 non-null  int64         \n",
      " 33  PRIMARY.INSTAL.AMT                   233154 non-null  int64         \n",
      " 34  SEC.INSTAL.AMT                       233154 non-null  int64         \n",
      " 35  NEW.ACCTS.IN.LAST.SIX.MONTHS         233154 non-null  int64         \n",
      " 36  DELINQUENT.ACCTS.IN.LAST.SIX.MONTHS  233154 non-null  int64         \n",
      " 37  AVERAGE.ACCT.AGE                     233154 non-null  object        \n",
      " 38  CREDIT.HISTORY.LENGTH                233154 non-null  object        \n",
      " 39  NO.OF_INQUIRIES                      233154 non-null  int64         \n",
      " 40  loan_default                         233154 non-null  int64         \n",
      "dtypes: datetime64[ns](2), float64(1), int64(34), object(4)\n",
      "memory usage: 72.9+ MB\n"
     ]
    }
   ],
   "source": [
    "loan_df.info()"
   ]
  },
  {
   "cell_type": "code",
   "execution_count": 5,
   "id": "c32ecf28",
   "metadata": {},
   "outputs": [
    {
     "data": {
      "text/plain": [
       "233154"
      ]
     },
     "execution_count": 5,
     "metadata": {},
     "output_type": "execute_result"
    }
   ],
   "source": [
    "len(loan_df['UniqueID'])"
   ]
  },
  {
   "cell_type": "code",
   "execution_count": 6,
   "id": "f8308d65",
   "metadata": {},
   "outputs": [
    {
     "data": {
      "text/plain": [
       "233154"
      ]
     },
     "execution_count": 6,
     "metadata": {},
     "output_type": "execute_result"
    }
   ],
   "source": [
    "len((loan_df['UniqueID']).unique())"
   ]
  },
  {
   "cell_type": "markdown",
   "id": "59d545cc",
   "metadata": {},
   "source": [
    "#### \"Employment.Type\" column has few missing values.  There are no duplicate IDs"
   ]
  },
  {
   "cell_type": "markdown",
   "id": "740d17b9",
   "metadata": {},
   "source": [
    "### 2. Variable names in the data may not be in accordance with the identifier naming in Python so, change the variable names accordingly"
   ]
  },
  {
   "cell_type": "code",
   "execution_count": 7,
   "id": "4acd0632",
   "metadata": {},
   "outputs": [
    {
     "data": {
      "text/plain": [
       "Index(['UniqueID', 'disbursed_amount', 'asset_cost', 'ltv', 'branch_id',\n",
       "       'supplier_id', 'manufacturer_id', 'Current_pincode_ID', 'Date.of.Birth',\n",
       "       'Employment.Type', 'DisbursalDate', 'State_ID', 'Employee_code_ID',\n",
       "       'MobileNo_Avl_Flag', 'Aadhar_flag', 'PAN_flag', 'VoterID_flag',\n",
       "       'Driving_flag', 'Passport_flag', 'PERFORM_CNS.SCORE',\n",
       "       'PERFORM_CNS.SCORE.DESCRIPTION', 'PRI.NO.OF.ACCTS', 'PRI.ACTIVE.ACCTS',\n",
       "       'PRI.OVERDUE.ACCTS', 'PRI.CURRENT.BALANCE', 'PRI.SANCTIONED.AMOUNT',\n",
       "       'PRI.DISBURSED.AMOUNT', 'SEC.NO.OF.ACCTS', 'SEC.ACTIVE.ACCTS',\n",
       "       'SEC.OVERDUE.ACCTS', 'SEC.CURRENT.BALANCE', 'SEC.SANCTIONED.AMOUNT',\n",
       "       'SEC.DISBURSED.AMOUNT', 'PRIMARY.INSTAL.AMT', 'SEC.INSTAL.AMT',\n",
       "       'NEW.ACCTS.IN.LAST.SIX.MONTHS', 'DELINQUENT.ACCTS.IN.LAST.SIX.MONTHS',\n",
       "       'AVERAGE.ACCT.AGE', 'CREDIT.HISTORY.LENGTH', 'NO.OF_INQUIRIES',\n",
       "       'loan_default'],\n",
       "      dtype='object')"
      ]
     },
     "execution_count": 7,
     "metadata": {},
     "output_type": "execute_result"
    }
   ],
   "source": [
    "loan_df.columns"
   ]
  },
  {
   "cell_type": "code",
   "execution_count": 8,
   "id": "3a264a8c",
   "metadata": {},
   "outputs": [],
   "source": [
    "loan_df.columns=[val.replace('.','_') for val in loan_df.columns]"
   ]
  },
  {
   "cell_type": "code",
   "execution_count": 9,
   "id": "a2435b8c",
   "metadata": {},
   "outputs": [
    {
     "data": {
      "text/plain": [
       "Index(['UniqueID', 'disbursed_amount', 'asset_cost', 'ltv', 'branch_id',\n",
       "       'supplier_id', 'manufacturer_id', 'Current_pincode_ID', 'Date_of_Birth',\n",
       "       'Employment_Type', 'DisbursalDate', 'State_ID', 'Employee_code_ID',\n",
       "       'MobileNo_Avl_Flag', 'Aadhar_flag', 'PAN_flag', 'VoterID_flag',\n",
       "       'Driving_flag', 'Passport_flag', 'PERFORM_CNS_SCORE',\n",
       "       'PERFORM_CNS_SCORE_DESCRIPTION', 'PRI_NO_OF_ACCTS', 'PRI_ACTIVE_ACCTS',\n",
       "       'PRI_OVERDUE_ACCTS', 'PRI_CURRENT_BALANCE', 'PRI_SANCTIONED_AMOUNT',\n",
       "       'PRI_DISBURSED_AMOUNT', 'SEC_NO_OF_ACCTS', 'SEC_ACTIVE_ACCTS',\n",
       "       'SEC_OVERDUE_ACCTS', 'SEC_CURRENT_BALANCE', 'SEC_SANCTIONED_AMOUNT',\n",
       "       'SEC_DISBURSED_AMOUNT', 'PRIMARY_INSTAL_AMT', 'SEC_INSTAL_AMT',\n",
       "       'NEW_ACCTS_IN_LAST_SIX_MONTHS', 'DELINQUENT_ACCTS_IN_LAST_SIX_MONTHS',\n",
       "       'AVERAGE_ACCT_AGE', 'CREDIT_HISTORY_LENGTH', 'NO_OF_INQUIRIES',\n",
       "       'loan_default'],\n",
       "      dtype='object')"
      ]
     },
     "execution_count": 9,
     "metadata": {},
     "output_type": "execute_result"
    }
   ],
   "source": [
    "loan_df.columns"
   ]
  },
  {
   "cell_type": "markdown",
   "id": "3e08063e",
   "metadata": {},
   "source": [
    "### 3. The presented data might also contain some missing values therefore, exploration will also lead to devising strategies to fill in the missing values while exploring the data"
   ]
  },
  {
   "cell_type": "code",
   "execution_count": 10,
   "id": "c364892e",
   "metadata": {},
   "outputs": [
    {
     "data": {
      "text/plain": [
       "7661"
      ]
     },
     "execution_count": 10,
     "metadata": {},
     "output_type": "execute_result"
    }
   ],
   "source": [
    "len(loan_df[loan_df.Employment_Type.isna()])"
   ]
  },
  {
   "cell_type": "code",
   "execution_count": 11,
   "id": "ec236feb",
   "metadata": {
    "scrolled": true
   },
   "outputs": [
    {
     "data": {
      "text/plain": [
       "Self employed    127635\n",
       "Salaried          97858\n",
       "Name: Employment_Type, dtype: int64"
      ]
     },
     "execution_count": 11,
     "metadata": {},
     "output_type": "execute_result"
    }
   ],
   "source": [
    "loan_df.Employment_Type.value_counts()"
   ]
  },
  {
   "cell_type": "markdown",
   "id": "0fd672fa",
   "metadata": {},
   "source": [
    "### 4. Provide the statistical description of the quantitative data variables"
   ]
  },
  {
   "cell_type": "code",
   "execution_count": 12,
   "id": "6230ae30",
   "metadata": {},
   "outputs": [
    {
     "data": {
      "text/plain": [
       "0         50578\n",
       "1         53278\n",
       "2         52378\n",
       "3         46349\n",
       "4         43594\n",
       "          ...  \n",
       "233149    57759\n",
       "233150    55009\n",
       "233151    58513\n",
       "233152    22824\n",
       "233153    35299\n",
       "Name: disbursed_amount, Length: 233154, dtype: int64"
      ]
     },
     "execution_count": 12,
     "metadata": {},
     "output_type": "execute_result"
    }
   ],
   "source": [
    "loan_df.disbursed_amount"
   ]
  },
  {
   "cell_type": "code",
   "execution_count": 13,
   "id": "246f67d1",
   "metadata": {},
   "outputs": [
    {
     "data": {
      "image/png": "[encoded data removed]",
      "text/plain": [
       "<Figure size 720x432 with 1 Axes>"
      ]
     },
     "metadata": {
      "needs_background": "light"
     },
     "output_type": "display_data"
    }
   ],
   "source": [
    "fig1,ax1=plt.subplots(1,1,figsize=(10,6));\n",
    "loan_df.disbursed_amount.plot.box(ax=ax1);\n",
    "ax1.set_title(\"Boxplot indicating variation of Disbursed amount\",size=20);"
   ]
  },
  {
   "cell_type": "code",
   "execution_count": 14,
   "id": "6ddbb503",
   "metadata": {},
   "outputs": [
    {
     "data": {
      "image/png": "[encoded data removed]",
      "text/plain": [
       "<Figure size 720x432 with 1 Axes>"
      ]
     },
     "metadata": {
      "needs_background": "light"
     },
     "output_type": "display_data"
    }
   ],
   "source": [
    "fig2,ax2=plt.subplots(1,1,figsize=(10,6));\n",
    "loan_df.disbursed_amount.hist(ax=ax2,bins=100);\n",
    "ax2.set_xlim([0,150000]);\n",
    "ax2.set_xlabel(\"Disbursed Amount\",size=15);\n",
    "ax2.set_ylabel(\"Number of customers\",size=15);\n",
    "ax2.set_title(\"Histogram indicating variation of Disbursed amount\",size=20);"
   ]
  },
  {
   "cell_type": "code",
   "execution_count": 15,
   "id": "43b52a72",
   "metadata": {},
   "outputs": [
    {
     "data": {
      "image/png": "[encoded data removed]",
      "text/plain": [
       "<Figure size 720x432 with 1 Axes>"
      ]
     },
     "metadata": {
      "needs_background": "light"
     },
     "output_type": "display_data"
    }
   ],
   "source": [
    "fig3,ax3=plt.subplots(1,1,figsize=(10,6));\n",
    "loan_df.asset_cost.plot.box(ax=ax3); \n",
    "ax3.set_title(\"Boxplot indicating variation of Asset Cost\",size=20);"
   ]
  },
  {
   "cell_type": "code",
   "execution_count": 16,
   "id": "1a9bd207",
   "metadata": {},
   "outputs": [
    {
     "data": {
      "image/png": "[encoded data removed]",
      "text/plain": [
       "<Figure size 720x432 with 1 Axes>"
      ]
     },
     "metadata": {
      "needs_background": "light"
     },
     "output_type": "display_data"
    }
   ],
   "source": [
    "fig4,ax4=plt.subplots(1,1,figsize=(10,6));\n",
    "loan_df.asset_cost.hist(ax=ax4,bins=100);\n",
    "ax4.set_xlim([0,150000]);"
   ]
  },
  {
   "cell_type": "code",
   "execution_count": 17,
   "id": "63759c7c",
   "metadata": {},
   "outputs": [
    {
     "data": {
      "image/png": "[encoded data removed]",
      "text/plain": [
       "<Figure size 720x432 with 1 Axes>"
      ]
     },
     "metadata": {
      "needs_background": "light"
     },
     "output_type": "display_data"
    }
   ],
   "source": [
    "fig5,ax5=plt.subplots(1,1,figsize=(10,6));\n",
    "loan_df.ltv.plot.box(ax=ax5);"
   ]
  },
  {
   "cell_type": "code",
   "execution_count": 18,
   "id": "e35c72f7",
   "metadata": {},
   "outputs": [
    {
     "data": {
      "text/plain": [
       "0        1984-01-01\n",
       "1        1985-08-24\n",
       "2        1977-12-09\n",
       "3        1988-06-01\n",
       "4        1994-07-14\n",
       "            ...    \n",
       "233149   1981-11-10\n",
       "233150   1992-10-15\n",
       "233151   1981-12-19\n",
       "233152   1989-07-31\n",
       "233153   1968-08-01\n",
       "Name: Date_of_Birth, Length: 233154, dtype: datetime64[ns]"
      ]
     },
     "execution_count": 18,
     "metadata": {},
     "output_type": "execute_result"
    }
   ],
   "source": [
    "loan_df.Date_of_Birth"
   ]
  },
  {
   "cell_type": "code",
   "execution_count": 19,
   "id": "de6fe85c",
   "metadata": {},
   "outputs": [],
   "source": [
    "import datetime as dt"
   ]
  },
  {
   "cell_type": "code",
   "execution_count": 20,
   "id": "083c6432",
   "metadata": {},
   "outputs": [
    {
     "data": {
      "text/plain": [
       "datetime.date(2022, 11, 17)"
      ]
     },
     "execution_count": 20,
     "metadata": {},
     "output_type": "execute_result"
    }
   ],
   "source": [
    "dt.date.today()"
   ]
  },
  {
   "cell_type": "code",
   "execution_count": 21,
   "id": "43c3b18c",
   "metadata": {},
   "outputs": [],
   "source": [
    "loan_df['age']=[int(((dt.datetime.today()-i).days)/365.25) for i in  loan_df.Date_of_Birth];"
   ]
  },
  {
   "cell_type": "code",
   "execution_count": 22,
   "id": "831cac8d",
   "metadata": {},
   "outputs": [
    {
     "data": {
      "text/html": [
       "<div>\n",
       "<style scoped>\n",
       "    .dataframe tbody tr th:only-of-type {\n",
       "        vertical-align: middle;\n",
       "    }\n",
       "\n",
       "    .dataframe tbody tr th {\n",
       "        vertical-align: top;\n",
       "    }\n",
       "\n",
       "    .dataframe thead th {\n",
       "        text-align: right;\n",
       "    }\n",
       "</style>\n",
       "<table border=\"1\" class=\"dataframe\">\n",
       "  <thead>\n",
       "    <tr style=\"text-align: right;\">\n",
       "      <th></th>\n",
       "      <th>UniqueID</th>\n",
       "      <th>disbursed_amount</th>\n",
       "      <th>asset_cost</th>\n",
       "      <th>ltv</th>\n",
       "      <th>branch_id</th>\n",
       "      <th>supplier_id</th>\n",
       "      <th>manufacturer_id</th>\n",
       "      <th>Current_pincode_ID</th>\n",
       "      <th>Date_of_Birth</th>\n",
       "      <th>Employment_Type</th>\n",
       "      <th>...</th>\n",
       "      <th>SEC_DISBURSED_AMOUNT</th>\n",
       "      <th>PRIMARY_INSTAL_AMT</th>\n",
       "      <th>SEC_INSTAL_AMT</th>\n",
       "      <th>NEW_ACCTS_IN_LAST_SIX_MONTHS</th>\n",
       "      <th>DELINQUENT_ACCTS_IN_LAST_SIX_MONTHS</th>\n",
       "      <th>AVERAGE_ACCT_AGE</th>\n",
       "      <th>CREDIT_HISTORY_LENGTH</th>\n",
       "      <th>NO_OF_INQUIRIES</th>\n",
       "      <th>loan_default</th>\n",
       "      <th>age</th>\n",
       "    </tr>\n",
       "  </thead>\n",
       "  <tbody>\n",
       "    <tr>\n",
       "      <th>0</th>\n",
       "      <td>420825</td>\n",
       "      <td>50578</td>\n",
       "      <td>58400</td>\n",
       "      <td>89.55</td>\n",
       "      <td>67</td>\n",
       "      <td>22807</td>\n",
       "      <td>45</td>\n",
       "      <td>1441</td>\n",
       "      <td>1984-01-01</td>\n",
       "      <td>Salaried</td>\n",
       "      <td>...</td>\n",
       "      <td>0</td>\n",
       "      <td>0</td>\n",
       "      <td>0</td>\n",
       "      <td>0</td>\n",
       "      <td>0</td>\n",
       "      <td>0yrs 0mon</td>\n",
       "      <td>0yrs 0mon</td>\n",
       "      <td>0</td>\n",
       "      <td>0</td>\n",
       "      <td>38</td>\n",
       "    </tr>\n",
       "    <tr>\n",
       "      <th>1</th>\n",
       "      <td>417566</td>\n",
       "      <td>53278</td>\n",
       "      <td>61360</td>\n",
       "      <td>89.63</td>\n",
       "      <td>67</td>\n",
       "      <td>22807</td>\n",
       "      <td>45</td>\n",
       "      <td>1497</td>\n",
       "      <td>1985-08-24</td>\n",
       "      <td>Self employed</td>\n",
       "      <td>...</td>\n",
       "      <td>0</td>\n",
       "      <td>0</td>\n",
       "      <td>0</td>\n",
       "      <td>0</td>\n",
       "      <td>0</td>\n",
       "      <td>0yrs 0mon</td>\n",
       "      <td>0yrs 0mon</td>\n",
       "      <td>0</td>\n",
       "      <td>0</td>\n",
       "      <td>37</td>\n",
       "    </tr>\n",
       "    <tr>\n",
       "      <th>2</th>\n",
       "      <td>539055</td>\n",
       "      <td>52378</td>\n",
       "      <td>60300</td>\n",
       "      <td>88.39</td>\n",
       "      <td>67</td>\n",
       "      <td>22807</td>\n",
       "      <td>45</td>\n",
       "      <td>1495</td>\n",
       "      <td>1977-12-09</td>\n",
       "      <td>Self employed</td>\n",
       "      <td>...</td>\n",
       "      <td>0</td>\n",
       "      <td>0</td>\n",
       "      <td>0</td>\n",
       "      <td>0</td>\n",
       "      <td>0</td>\n",
       "      <td>0yrs 0mon</td>\n",
       "      <td>0yrs 0mon</td>\n",
       "      <td>1</td>\n",
       "      <td>1</td>\n",
       "      <td>44</td>\n",
       "    </tr>\n",
       "    <tr>\n",
       "      <th>3</th>\n",
       "      <td>529269</td>\n",
       "      <td>46349</td>\n",
       "      <td>61500</td>\n",
       "      <td>76.42</td>\n",
       "      <td>67</td>\n",
       "      <td>22807</td>\n",
       "      <td>45</td>\n",
       "      <td>1502</td>\n",
       "      <td>1988-06-01</td>\n",
       "      <td>Salaried</td>\n",
       "      <td>...</td>\n",
       "      <td>0</td>\n",
       "      <td>0</td>\n",
       "      <td>0</td>\n",
       "      <td>0</td>\n",
       "      <td>0</td>\n",
       "      <td>0yrs 0mon</td>\n",
       "      <td>0yrs 0mon</td>\n",
       "      <td>0</td>\n",
       "      <td>0</td>\n",
       "      <td>34</td>\n",
       "    </tr>\n",
       "    <tr>\n",
       "      <th>4</th>\n",
       "      <td>563215</td>\n",
       "      <td>43594</td>\n",
       "      <td>78256</td>\n",
       "      <td>57.50</td>\n",
       "      <td>67</td>\n",
       "      <td>22744</td>\n",
       "      <td>86</td>\n",
       "      <td>1499</td>\n",
       "      <td>1994-07-14</td>\n",
       "      <td>Self employed</td>\n",
       "      <td>...</td>\n",
       "      <td>0</td>\n",
       "      <td>0</td>\n",
       "      <td>0</td>\n",
       "      <td>0</td>\n",
       "      <td>0</td>\n",
       "      <td>0yrs 0mon</td>\n",
       "      <td>0yrs 0mon</td>\n",
       "      <td>0</td>\n",
       "      <td>0</td>\n",
       "      <td>28</td>\n",
       "    </tr>\n",
       "    <tr>\n",
       "      <th>...</th>\n",
       "      <td>...</td>\n",
       "      <td>...</td>\n",
       "      <td>...</td>\n",
       "      <td>...</td>\n",
       "      <td>...</td>\n",
       "      <td>...</td>\n",
       "      <td>...</td>\n",
       "      <td>...</td>\n",
       "      <td>...</td>\n",
       "      <td>...</td>\n",
       "      <td>...</td>\n",
       "      <td>...</td>\n",
       "      <td>...</td>\n",
       "      <td>...</td>\n",
       "      <td>...</td>\n",
       "      <td>...</td>\n",
       "      <td>...</td>\n",
       "      <td>...</td>\n",
       "      <td>...</td>\n",
       "      <td>...</td>\n",
       "      <td>...</td>\n",
       "    </tr>\n",
       "    <tr>\n",
       "      <th>233149</th>\n",
       "      <td>561031</td>\n",
       "      <td>57759</td>\n",
       "      <td>76350</td>\n",
       "      <td>77.28</td>\n",
       "      <td>5</td>\n",
       "      <td>22289</td>\n",
       "      <td>51</td>\n",
       "      <td>3326</td>\n",
       "      <td>1981-11-10</td>\n",
       "      <td>Self employed</td>\n",
       "      <td>...</td>\n",
       "      <td>0</td>\n",
       "      <td>0</td>\n",
       "      <td>0</td>\n",
       "      <td>0</td>\n",
       "      <td>0</td>\n",
       "      <td>2yrs 4mon</td>\n",
       "      <td>2yrs 4mon</td>\n",
       "      <td>0</td>\n",
       "      <td>0</td>\n",
       "      <td>41</td>\n",
       "    </tr>\n",
       "    <tr>\n",
       "      <th>233150</th>\n",
       "      <td>649600</td>\n",
       "      <td>55009</td>\n",
       "      <td>71200</td>\n",
       "      <td>78.72</td>\n",
       "      <td>138</td>\n",
       "      <td>17408</td>\n",
       "      <td>51</td>\n",
       "      <td>3385</td>\n",
       "      <td>1992-10-15</td>\n",
       "      <td>Self employed</td>\n",
       "      <td>...</td>\n",
       "      <td>0</td>\n",
       "      <td>15209</td>\n",
       "      <td>0</td>\n",
       "      <td>0</td>\n",
       "      <td>0</td>\n",
       "      <td>1yrs 5mon</td>\n",
       "      <td>1yrs 5mon</td>\n",
       "      <td>1</td>\n",
       "      <td>0</td>\n",
       "      <td>30</td>\n",
       "    </tr>\n",
       "    <tr>\n",
       "      <th>233151</th>\n",
       "      <td>603445</td>\n",
       "      <td>58513</td>\n",
       "      <td>68000</td>\n",
       "      <td>88.24</td>\n",
       "      <td>135</td>\n",
       "      <td>23313</td>\n",
       "      <td>45</td>\n",
       "      <td>1797</td>\n",
       "      <td>1981-12-19</td>\n",
       "      <td>Self employed</td>\n",
       "      <td>...</td>\n",
       "      <td>0</td>\n",
       "      <td>257948</td>\n",
       "      <td>0</td>\n",
       "      <td>35</td>\n",
       "      <td>5</td>\n",
       "      <td>0yrs 9mon</td>\n",
       "      <td>3yrs 10mon</td>\n",
       "      <td>1</td>\n",
       "      <td>0</td>\n",
       "      <td>40</td>\n",
       "    </tr>\n",
       "    <tr>\n",
       "      <th>233152</th>\n",
       "      <td>442948</td>\n",
       "      <td>22824</td>\n",
       "      <td>40458</td>\n",
       "      <td>61.79</td>\n",
       "      <td>160</td>\n",
       "      <td>16212</td>\n",
       "      <td>48</td>\n",
       "      <td>96</td>\n",
       "      <td>1989-07-31</td>\n",
       "      <td>Self employed</td>\n",
       "      <td>...</td>\n",
       "      <td>0</td>\n",
       "      <td>26046</td>\n",
       "      <td>0</td>\n",
       "      <td>9</td>\n",
       "      <td>1</td>\n",
       "      <td>1yrs 2mon</td>\n",
       "      <td>3yrs 2mon</td>\n",
       "      <td>0</td>\n",
       "      <td>0</td>\n",
       "      <td>33</td>\n",
       "    </tr>\n",
       "    <tr>\n",
       "      <th>233153</th>\n",
       "      <td>545300</td>\n",
       "      <td>35299</td>\n",
       "      <td>72698</td>\n",
       "      <td>52.27</td>\n",
       "      <td>3</td>\n",
       "      <td>14573</td>\n",
       "      <td>45</td>\n",
       "      <td>17</td>\n",
       "      <td>1968-08-01</td>\n",
       "      <td>Self employed</td>\n",
       "      <td>...</td>\n",
       "      <td>0</td>\n",
       "      <td>293886</td>\n",
       "      <td>0</td>\n",
       "      <td>5</td>\n",
       "      <td>0</td>\n",
       "      <td>2yrs 11mon</td>\n",
       "      <td>5yrs 4mon</td>\n",
       "      <td>0</td>\n",
       "      <td>0</td>\n",
       "      <td>54</td>\n",
       "    </tr>\n",
       "  </tbody>\n",
       "</table>\n",
       "<p>233154 rows × 42 columns</p>\n",
       "</div>"
      ],
      "text/plain": [
       "        UniqueID  disbursed_amount  asset_cost    ltv  branch_id  supplier_id  \\\n",
       "0         420825             50578       58400  89.55         67        22807   \n",
       "1         417566             53278       61360  89.63         67        22807   \n",
       "2         539055             52378       60300  88.39         67        22807   \n",
       "3         529269             46349       61500  76.42         67        22807   \n",
       "4         563215             43594       78256  57.50         67        22744   \n",
       "...          ...               ...         ...    ...        ...          ...   \n",
       "233149    561031             57759       76350  77.28          5        22289   \n",
       "233150    649600             55009       71200  78.72        138        17408   \n",
       "233151    603445             58513       68000  88.24        135        23313   \n",
       "233152    442948             22824       40458  61.79        160        16212   \n",
       "233153    545300             35299       72698  52.27          3        14573   \n",
       "\n",
       "        manufacturer_id  Current_pincode_ID Date_of_Birth Employment_Type  \\\n",
       "0                    45                1441    1984-01-01        Salaried   \n",
       "1                    45                1497    1985-08-24   Self employed   \n",
       "2                    45                1495    1977-12-09   Self employed   \n",
       "3                    45                1502    1988-06-01        Salaried   \n",
       "4                    86                1499    1994-07-14   Self employed   \n",
       "...                 ...                 ...           ...             ...   \n",
       "233149               51                3326    1981-11-10   Self employed   \n",
       "233150               51                3385    1992-10-15   Self employed   \n",
       "233151               45                1797    1981-12-19   Self employed   \n",
       "233152               48                  96    1989-07-31   Self employed   \n",
       "233153               45                  17    1968-08-01   Self employed   \n",
       "\n",
       "        ... SEC_DISBURSED_AMOUNT  PRIMARY_INSTAL_AMT  SEC_INSTAL_AMT  \\\n",
       "0       ...                    0                   0               0   \n",
       "1       ...                    0                   0               0   \n",
       "2       ...                    0                   0               0   \n",
       "3       ...                    0                   0               0   \n",
       "4       ...                    0                   0               0   \n",
       "...     ...                  ...                 ...             ...   \n",
       "233149  ...                    0                   0               0   \n",
       "233150  ...                    0               15209               0   \n",
       "233151  ...                    0              257948               0   \n",
       "233152  ...                    0               26046               0   \n",
       "233153  ...                    0              293886               0   \n",
       "\n",
       "        NEW_ACCTS_IN_LAST_SIX_MONTHS  DELINQUENT_ACCTS_IN_LAST_SIX_MONTHS  \\\n",
       "0                                  0                                    0   \n",
       "1                                  0                                    0   \n",
       "2                                  0                                    0   \n",
       "3                                  0                                    0   \n",
       "4                                  0                                    0   \n",
       "...                              ...                                  ...   \n",
       "233149                             0                                    0   \n",
       "233150                             0                                    0   \n",
       "233151                            35                                    5   \n",
       "233152                             9                                    1   \n",
       "233153                             5                                    0   \n",
       "\n",
       "        AVERAGE_ACCT_AGE  CREDIT_HISTORY_LENGTH  NO_OF_INQUIRIES  \\\n",
       "0              0yrs 0mon              0yrs 0mon                0   \n",
       "1              0yrs 0mon              0yrs 0mon                0   \n",
       "2              0yrs 0mon              0yrs 0mon                1   \n",
       "3              0yrs 0mon              0yrs 0mon                0   \n",
       "4              0yrs 0mon              0yrs 0mon                0   \n",
       "...                  ...                    ...              ...   \n",
       "233149         2yrs 4mon              2yrs 4mon                0   \n",
       "233150         1yrs 5mon              1yrs 5mon                1   \n",
       "233151         0yrs 9mon             3yrs 10mon                1   \n",
       "233152         1yrs 2mon              3yrs 2mon                0   \n",
       "233153        2yrs 11mon              5yrs 4mon                0   \n",
       "\n",
       "        loan_default  age  \n",
       "0                  0   38  \n",
       "1                  0   37  \n",
       "2                  1   44  \n",
       "3                  0   34  \n",
       "4                  0   28  \n",
       "...              ...  ...  \n",
       "233149             0   41  \n",
       "233150             0   30  \n",
       "233151             0   40  \n",
       "233152             0   33  \n",
       "233153             0   54  \n",
       "\n",
       "[233154 rows x 42 columns]"
      ]
     },
     "execution_count": 22,
     "metadata": {},
     "output_type": "execute_result"
    }
   ],
   "source": [
    "loan_df"
   ]
  },
  {
   "cell_type": "code",
   "execution_count": 23,
   "id": "8b33add9",
   "metadata": {},
   "outputs": [
    {
     "data": {
      "image/png": "[encoded data removed]",
      "text/plain": [
       "<Figure size 720x432 with 1 Axes>"
      ]
     },
     "metadata": {
      "needs_background": "light"
     },
     "output_type": "display_data"
    }
   ],
   "source": [
    "fig5,ax5=plt.subplots(1,1,figsize=(10,6));\n",
    "loan_df['age'].hist(ax=ax5,bins=50);"
   ]
  },
  {
   "cell_type": "code",
   "execution_count": 24,
   "id": "5d23fce8",
   "metadata": {},
   "outputs": [
    {
     "data": {
      "image/png": "[encoded data removed]",
      "text/plain": [
       "<Figure size 720x432 with 1 Axes>"
      ]
     },
     "metadata": {
      "needs_background": "light"
     },
     "output_type": "display_data"
    }
   ],
   "source": [
    "fig6,ax6=plt.subplots(1,1,figsize=(10,6));\n",
    "loan_df.PERFORM_CNS_SCORE.hist(ax=ax6,bins=50);"
   ]
  },
  {
   "cell_type": "code",
   "execution_count": 25,
   "id": "aa8f692e",
   "metadata": {},
   "outputs": [
    {
     "data": {
      "image/png": "[encoded data removed]",
      "text/plain": [
       "<Figure size 720x432 with 1 Axes>"
      ]
     },
     "metadata": {
      "needs_background": "light"
     },
     "output_type": "display_data"
    }
   ],
   "source": [
    "fig7,ax7=plt.subplots(1,1,figsize=(10,6));\n",
    "loan_df.PRI_NO_OF_ACCTS.plot.box(ax=ax7);"
   ]
  },
  {
   "cell_type": "code",
   "execution_count": 26,
   "id": "8558025c",
   "metadata": {},
   "outputs": [
    {
     "data": {
      "image/png": "[encoded data removed]",
      "text/plain": [
       "<Figure size 720x432 with 1 Axes>"
      ]
     },
     "metadata": {
      "needs_background": "light"
     },
     "output_type": "display_data"
    }
   ],
   "source": [
    "fig8,ax8=plt.subplots(1,1,figsize=(10,6));\n",
    "loan_df.PRI_NO_OF_ACCTS.hist(ax=ax8,bins=200);\n",
    "ax8.set_xlim([0,100]);"
   ]
  },
  {
   "cell_type": "code",
   "execution_count": 27,
   "id": "ef62a844",
   "metadata": {},
   "outputs": [
    {
     "data": {
      "text/plain": [
       "0      116950\n",
       "1       34978\n",
       "2       19784\n",
       "3       13015\n",
       "4        9323\n",
       "        ...  \n",
       "85          1\n",
       "131         1\n",
       "124         1\n",
       "453         1\n",
       "194         1\n",
       "Name: PRI_NO_OF_ACCTS, Length: 108, dtype: int64"
      ]
     },
     "execution_count": 27,
     "metadata": {},
     "output_type": "execute_result"
    }
   ],
   "source": [
    "loan_df.PRI_NO_OF_ACCTS.value_counts()"
   ]
  },
  {
   "cell_type": "code",
   "execution_count": 28,
   "id": "9ddd08f0",
   "metadata": {},
   "outputs": [
    {
     "data": {
      "image/png": "[encoded data removed]",
      "text/plain": [
       "<Figure size 720x432 with 1 Axes>"
      ]
     },
     "metadata": {
      "needs_background": "light"
     },
     "output_type": "display_data"
    }
   ],
   "source": [
    "fig9,ax9=plt.subplots(1,1,figsize=(10,6));\n",
    "loan_df.PRI_ACTIVE_ACCTS.plot.box(ax=ax9);"
   ]
  },
  {
   "cell_type": "code",
   "execution_count": 29,
   "id": "781ec397",
   "metadata": {},
   "outputs": [
    {
     "data": {
      "image/png": "[encoded data removed]",
      "text/plain": [
       "<Figure size 720x432 with 1 Axes>"
      ]
     },
     "metadata": {
      "needs_background": "light"
     },
     "output_type": "display_data"
    }
   ],
   "source": [
    "fig10,ax10=plt.subplots(1,1,figsize=(10,6));\n",
    "loan_df.PRI_NO_OF_ACCTS.hist(ax=ax10,bins=400);\n",
    "ax10.set_xlim([0,40]);"
   ]
  },
  {
   "cell_type": "code",
   "execution_count": 30,
   "id": "fc576746",
   "metadata": {},
   "outputs": [
    {
     "data": {
      "text/plain": [
       "0      116950\n",
       "1       34978\n",
       "2       19784\n",
       "3       13015\n",
       "4        9323\n",
       "        ...  \n",
       "85          1\n",
       "131         1\n",
       "124         1\n",
       "453         1\n",
       "194         1\n",
       "Name: PRI_NO_OF_ACCTS, Length: 108, dtype: int64"
      ]
     },
     "execution_count": 30,
     "metadata": {},
     "output_type": "execute_result"
    }
   ],
   "source": [
    "loan_df.PRI_NO_OF_ACCTS.value_counts()"
   ]
  },
  {
   "cell_type": "code",
   "execution_count": 31,
   "id": "760ffc02",
   "metadata": {},
   "outputs": [
    {
     "data": {
      "image/png": "[encoded data removed]",
      "text/plain": [
       "<Figure size 720x432 with 1 Axes>"
      ]
     },
     "metadata": {
      "needs_background": "light"
     },
     "output_type": "display_data"
    }
   ],
   "source": [
    "fig11,ax11=plt.subplots(1,1,figsize=(10,6));\n",
    "loan_df.PRI_OVERDUE_ACCTS.plot.box(ax=ax11);"
   ]
  },
  {
   "cell_type": "code",
   "execution_count": 32,
   "id": "9780736d",
   "metadata": {},
   "outputs": [
    {
     "data": {
      "text/plain": [
       "0     206879\n",
       "1      19970\n",
       "2       4302\n",
       "3       1202\n",
       "4        404\n",
       "5        166\n",
       "6         96\n",
       "7         38\n",
       "8         27\n",
       "9         25\n",
       "11        12\n",
       "12         8\n",
       "10         6\n",
       "14         5\n",
       "13         5\n",
       "18         2\n",
       "17         2\n",
       "23         1\n",
       "19         1\n",
       "15         1\n",
       "16         1\n",
       "25         1\n",
       "Name: PRI_OVERDUE_ACCTS, dtype: int64"
      ]
     },
     "execution_count": 32,
     "metadata": {},
     "output_type": "execute_result"
    }
   ],
   "source": [
    "loan_df.PRI_OVERDUE_ACCTS.value_counts()"
   ]
  },
  {
   "cell_type": "code",
   "execution_count": 33,
   "id": "57f470d0",
   "metadata": {},
   "outputs": [
    {
     "data": {
      "image/png": "[encoded data removed]",
      "text/plain": [
       "<Figure size 720x432 with 1 Axes>"
      ]
     },
     "metadata": {
      "needs_background": "light"
     },
     "output_type": "display_data"
    }
   ],
   "source": [
    "fig12,ax12=plt.subplots(1,1,figsize=(10,6));\n",
    "loan_df.PRI_CURRENT_BALANCE.plot.box(ax=ax12);\n"
   ]
  },
  {
   "cell_type": "code",
   "execution_count": 34,
   "id": "7f0b1c4f",
   "metadata": {
    "scrolled": true
   },
   "outputs": [
    {
     "data": {
      "image/png": "[encoded data removed]",
      "text/plain": [
       "<Figure size 720x432 with 1 Axes>"
      ]
     },
     "metadata": {
      "needs_background": "light"
     },
     "output_type": "display_data"
    }
   ],
   "source": [
    "fig13,ax13=plt.subplots(1,1,figsize=(10,6));\n",
    "loan_df.PRI_CURRENT_BALANCE.hist(ax=ax13,bins=500);\n",
    "ax13.set_xlim([-1000000,2000000]);"
   ]
  },
  {
   "cell_type": "code",
   "execution_count": 35,
   "id": "cf5c7bbb",
   "metadata": {
    "scrolled": false
   },
   "outputs": [
    {
     "data": {
      "image/png": "[encoded data removed]",
      "text/plain": [
       "<Figure size 720x432 with 1 Axes>"
      ]
     },
     "metadata": {
      "needs_background": "light"
     },
     "output_type": "display_data"
    }
   ],
   "source": [
    "fig14,ax14=plt.subplots(1,1,figsize=(10,6));\n",
    "loan_df.PRI_SANCTIONED_AMOUNT.plot.box(ax=ax14);"
   ]
  },
  {
   "cell_type": "code",
   "execution_count": 36,
   "id": "8f4b3468",
   "metadata": {},
   "outputs": [
    {
     "data": {
      "image/png": "[encoded data removed]",
      "text/plain": [
       "<Figure size 720x432 with 1 Axes>"
      ]
     },
     "metadata": {
      "needs_background": "light"
     },
     "output_type": "display_data"
    }
   ],
   "source": [
    "fig15,ax15=plt.subplots(1,1,figsize=(10,6));\n",
    "loan_df.PRI_SANCTIONED_AMOUNT[loan_df.PRI_SANCTIONED_AMOUNT<100000].hist(ax=ax15,bins=50);\n"
   ]
  },
  {
   "cell_type": "code",
   "execution_count": 37,
   "id": "5ab2eb60",
   "metadata": {},
   "outputs": [
    {
     "data": {
      "image/png": "[encoded data removed]",
      "text/plain": [
       "<Figure size 720x432 with 1 Axes>"
      ]
     },
     "metadata": {
      "needs_background": "light"
     },
     "output_type": "display_data"
    }
   ],
   "source": [
    "fig16,ax16=plt.subplots(1,1,figsize=(10,6));\n",
    "loan_df.PRI_DISBURSED_AMOUNT.plot.box(ax=ax16);"
   ]
  },
  {
   "cell_type": "code",
   "execution_count": 38,
   "id": "9c6b153d",
   "metadata": {},
   "outputs": [
    {
     "data": {
      "image/png": "[encoded data removed]",
      "text/plain": [
       "<Figure size 720x432 with 1 Axes>"
      ]
     },
     "metadata": {
      "needs_background": "light"
     },
     "output_type": "display_data"
    }
   ],
   "source": [
    "fig17,ax17=plt.subplots(1,1,figsize=(10,6));\n",
    "loan_df.PRI_DISBURSED_AMOUNT[loan_df.PRI_DISBURSED_AMOUNT<100000].hist(ax=ax17,bins=50);"
   ]
  },
  {
   "cell_type": "code",
   "execution_count": 39,
   "id": "ade22b71",
   "metadata": {},
   "outputs": [
    {
     "data": {
      "image/png": "[encoded data removed]",
      "text/plain": [
       "<Figure size 720x432 with 1 Axes>"
      ]
     },
     "metadata": {
      "needs_background": "light"
     },
     "output_type": "display_data"
    }
   ],
   "source": [
    "fig18,ax18=plt.subplots(1,1,figsize=(10,6));\n",
    "loan_df.SEC_NO_OF_ACCTS.plot.box(ax=ax18);"
   ]
  },
  {
   "cell_type": "code",
   "execution_count": 40,
   "id": "c1cc3ccc",
   "metadata": {},
   "outputs": [
    {
     "data": {
      "image/png": "[encoded data removed]",
      "text/plain": [
       "<Figure size 720x432 with 1 Axes>"
      ]
     },
     "metadata": {
      "needs_background": "light"
     },
     "output_type": "display_data"
    }
   ],
   "source": [
    "fig19,ax19=plt.subplots(1,1,figsize=(10,6));\n",
    "loan_df.SEC_NO_OF_ACCTS.hist(ax=ax19,bins=50);\n",
    "ax19.set_xlim([0,10]);"
   ]
  },
  {
   "cell_type": "code",
   "execution_count": 41,
   "id": "bc36492c",
   "metadata": {
    "scrolled": true
   },
   "outputs": [
    {
     "data": {
      "text/plain": [
       "0     227289\n",
       "1       3466\n",
       "2       1036\n",
       "3        444\n",
       "4        292\n",
       "5        148\n",
       "6        119\n",
       "7         75\n",
       "8         68\n",
       "9         38\n",
       "10        35\n",
       "11        29\n",
       "13        17\n",
       "12        13\n",
       "14        11\n",
       "16        11\n",
       "15        10\n",
       "18         6\n",
       "19         6\n",
       "17         5\n",
       "23         4\n",
       "31         4\n",
       "22         4\n",
       "20         4\n",
       "21         3\n",
       "46         2\n",
       "24         2\n",
       "34         2\n",
       "30         2\n",
       "38         2\n",
       "35         1\n",
       "25         1\n",
       "28         1\n",
       "37         1\n",
       "42         1\n",
       "52         1\n",
       "29         1\n",
       "Name: SEC_NO_OF_ACCTS, dtype: int64"
      ]
     },
     "execution_count": 41,
     "metadata": {},
     "output_type": "execute_result"
    }
   ],
   "source": [
    "loan_df.SEC_NO_OF_ACCTS.value_counts()"
   ]
  },
  {
   "cell_type": "code",
   "execution_count": 42,
   "id": "6c92ef37",
   "metadata": {},
   "outputs": [
    {
     "data": {
      "image/png": "[encoded data removed]",
      "text/plain": [
       "<Figure size 720x432 with 1 Axes>"
      ]
     },
     "metadata": {
      "needs_background": "light"
     },
     "output_type": "display_data"
    }
   ],
   "source": [
    "fig20,ax20=plt.subplots(1,1,figsize=(10,6));\n",
    "loan_df.SEC_OVERDUE_ACCTS.plot.box(ax=ax20);"
   ]
  },
  {
   "cell_type": "code",
   "execution_count": 43,
   "id": "5ef4c8c5",
   "metadata": {
    "scrolled": true
   },
   "outputs": [
    {
     "data": {
      "text/plain": [
       "0    231817\n",
       "1      1129\n",
       "2       126\n",
       "3        47\n",
       "4        19\n",
       "5         8\n",
       "6         6\n",
       "7         1\n",
       "8         1\n",
       "Name: SEC_OVERDUE_ACCTS, dtype: int64"
      ]
     },
     "execution_count": 43,
     "metadata": {},
     "output_type": "execute_result"
    }
   ],
   "source": [
    "loan_df.SEC_OVERDUE_ACCTS.value_counts()"
   ]
  },
  {
   "cell_type": "code",
   "execution_count": 44,
   "id": "2e8bb8f8",
   "metadata": {},
   "outputs": [
    {
     "data": {
      "image/png": "[encoded data removed]",
      "text/plain": [
       "<Figure size 720x432 with 1 Axes>"
      ]
     },
     "metadata": {
      "needs_background": "light"
     },
     "output_type": "display_data"
    }
   ],
   "source": [
    "fig21,ax21=plt.subplots(1,1,figsize=(10,6));\n",
    "loan_df.SEC_CURRENT_BALANCE.plot.box(ax=ax21);"
   ]
  },
  {
   "cell_type": "code",
   "execution_count": 45,
   "id": "37b90028",
   "metadata": {},
   "outputs": [
    {
     "data": {
      "text/plain": [
       "0          229790\n",
       "800            10\n",
       "100             8\n",
       "400             8\n",
       "589             6\n",
       "            ...  \n",
       "25920           1\n",
       "4979            1\n",
       "249287          1\n",
       "1799            1\n",
       "1119615         1\n",
       "Name: SEC_CURRENT_BALANCE, Length: 3246, dtype: int64"
      ]
     },
     "execution_count": 45,
     "metadata": {},
     "output_type": "execute_result"
    }
   ],
   "source": [
    "loan_df.SEC_CURRENT_BALANCE.value_counts()"
   ]
  },
  {
   "cell_type": "code",
   "execution_count": 46,
   "id": "20d21bb1",
   "metadata": {},
   "outputs": [
    {
     "data": {
      "image/png": "[encoded data removed]",
      "text/plain": [
       "<Figure size 720x432 with 1 Axes>"
      ]
     },
     "metadata": {
      "needs_background": "light"
     },
     "output_type": "display_data"
    }
   ],
   "source": [
    "fig22,ax22=plt.subplots(1,1,figsize=(10,6));\n",
    "loan_df.SEC_SANCTIONED_AMOUNT.plot.box(ax=ax22);"
   ]
  },
  {
   "cell_type": "code",
   "execution_count": 47,
   "id": "63133c43",
   "metadata": {},
   "outputs": [
    {
     "data": {
      "text/plain": [
       "0         229418\n",
       "50000         83\n",
       "100000        61\n",
       "30000         44\n",
       "40000         39\n",
       "           ...  \n",
       "14300          1\n",
       "43225          1\n",
       "295000         1\n",
       "752933         1\n",
       "360499         1\n",
       "Name: SEC_SANCTIONED_AMOUNT, Length: 2223, dtype: int64"
      ]
     },
     "execution_count": 47,
     "metadata": {},
     "output_type": "execute_result"
    }
   ],
   "source": [
    "loan_df.SEC_SANCTIONED_AMOUNT.value_counts()"
   ]
  },
  {
   "cell_type": "code",
   "execution_count": 48,
   "id": "66e1effc",
   "metadata": {},
   "outputs": [
    {
     "data": {
      "image/png": "[encoded data removed]",
      "text/plain": [
       "<Figure size 720x432 with 1 Axes>"
      ]
     },
     "metadata": {
      "needs_background": "light"
     },
     "output_type": "display_data"
    }
   ],
   "source": [
    "fig23,ax23=plt.subplots(1,1,figsize=(10,6));\n",
    "loan_df.SEC_DISBURSED_AMOUNT.plot.box(ax=ax23);"
   ]
  },
  {
   "cell_type": "code",
   "execution_count": 49,
   "id": "588aada1",
   "metadata": {},
   "outputs": [
    {
     "data": {
      "text/plain": [
       "0         229450\n",
       "50000         59\n",
       "100000        47\n",
       "200000        36\n",
       "40000         31\n",
       "           ...  \n",
       "141467         1\n",
       "252785         1\n",
       "136000         1\n",
       "39110          1\n",
       "360499         1\n",
       "Name: SEC_DISBURSED_AMOUNT, Length: 2553, dtype: int64"
      ]
     },
     "execution_count": 49,
     "metadata": {},
     "output_type": "execute_result"
    }
   ],
   "source": [
    "loan_df.SEC_DISBURSED_AMOUNT.value_counts()"
   ]
  },
  {
   "cell_type": "code",
   "execution_count": 50,
   "id": "4c142458",
   "metadata": {},
   "outputs": [
    {
     "data": {
      "image/png": "[encoded data removed]",
      "text/plain": [
       "<Figure size 720x432 with 1 Axes>"
      ]
     },
     "metadata": {
      "needs_background": "light"
     },
     "output_type": "display_data"
    }
   ],
   "source": [
    "fig24,ax24=plt.subplots(1,1,figsize=(10,6));\n",
    "loan_df.PRIMARY_INSTAL_AMT.plot.box(ax=ax24);"
   ]
  },
  {
   "cell_type": "code",
   "execution_count": 51,
   "id": "c8538399",
   "metadata": {},
   "outputs": [
    {
     "data": {
      "text/plain": [
       "0         159517\n",
       "1620         292\n",
       "1500         156\n",
       "1600         144\n",
       "2000         141\n",
       "           ...  \n",
       "102786         1\n",
       "33778          1\n",
       "26603          1\n",
       "14425          1\n",
       "293886         1\n",
       "Name: PRIMARY_INSTAL_AMT, Length: 28067, dtype: int64"
      ]
     },
     "execution_count": 51,
     "metadata": {},
     "output_type": "execute_result"
    }
   ],
   "source": [
    "loan_df.PRIMARY_INSTAL_AMT.value_counts()"
   ]
  },
  {
   "cell_type": "code",
   "execution_count": 52,
   "id": "df2bd0ab",
   "metadata": {},
   "outputs": [
    {
     "data": {
      "image/png": "[encoded data removed]",
      "text/plain": [
       "<Figure size 720x432 with 1 Axes>"
      ]
     },
     "metadata": {
      "needs_background": "light"
     },
     "output_type": "display_data"
    }
   ],
   "source": [
    "fig25,ax25=plt.subplots(1,1,figsize=(10,6));\n",
    "loan_df.SEC_INSTAL_AMT.plot.box(ax=ax25);"
   ]
  },
  {
   "cell_type": "code",
   "execution_count": 53,
   "id": "7b08f097",
   "metadata": {},
   "outputs": [
    {
     "data": {
      "text/plain": [
       "0        230937\n",
       "2100          7\n",
       "5000          6\n",
       "1065          6\n",
       "1100          6\n",
       "          ...  \n",
       "7595          1\n",
       "6971          1\n",
       "1529          1\n",
       "14260         1\n",
       "49956         1\n",
       "Name: SEC_INSTAL_AMT, Length: 1918, dtype: int64"
      ]
     },
     "execution_count": 53,
     "metadata": {},
     "output_type": "execute_result"
    }
   ],
   "source": [
    "loan_df.SEC_INSTAL_AMT.value_counts()"
   ]
  },
  {
   "cell_type": "code",
   "execution_count": 54,
   "id": "595b628f",
   "metadata": {},
   "outputs": [
    {
     "data": {
      "image/png": "[encoded data removed]",
      "text/plain": [
       "<Figure size 720x432 with 1 Axes>"
      ]
     },
     "metadata": {
      "needs_background": "light"
     },
     "output_type": "display_data"
    }
   ],
   "source": [
    "fig26,ax26=plt.subplots(1,1,figsize=(10,6));\n",
    "loan_df.NEW_ACCTS_IN_LAST_SIX_MONTHS.hist(ax=ax26,bins=35);"
   ]
  },
  {
   "cell_type": "code",
   "execution_count": 55,
   "id": "cfb803d6",
   "metadata": {},
   "outputs": [
    {
     "data": {
      "text/plain": [
       "0     181494\n",
       "1      32099\n",
       "2      11015\n",
       "3       4458\n",
       "4       1957\n",
       "5        964\n",
       "6        480\n",
       "7        302\n",
       "8        147\n",
       "9         79\n",
       "10        55\n",
       "11        31\n",
       "12        20\n",
       "13        15\n",
       "14        11\n",
       "16         6\n",
       "17         6\n",
       "20         3\n",
       "18         2\n",
       "15         2\n",
       "19         2\n",
       "23         2\n",
       "22         1\n",
       "21         1\n",
       "28         1\n",
       "35         1\n",
       "Name: NEW_ACCTS_IN_LAST_SIX_MONTHS, dtype: int64"
      ]
     },
     "execution_count": 55,
     "metadata": {},
     "output_type": "execute_result"
    }
   ],
   "source": [
    "loan_df.NEW_ACCTS_IN_LAST_SIX_MONTHS.value_counts()"
   ]
  },
  {
   "cell_type": "code",
   "execution_count": 56,
   "id": "79264e13",
   "metadata": {},
   "outputs": [
    {
     "data": {
      "image/png": "[encoded data removed]",
      "text/plain": [
       "<Figure size 720x432 with 1 Axes>"
      ]
     },
     "metadata": {
      "needs_background": "light"
     },
     "output_type": "display_data"
    }
   ],
   "source": [
    "fig27,ax27=plt.subplots(1,1,figsize=(10,6));\n",
    "loan_df.DELINQUENT_ACCTS_IN_LAST_SIX_MONTHS.hist(ax=ax27,bins=20);"
   ]
  },
  {
   "cell_type": "code",
   "execution_count": 57,
   "id": "e8023490",
   "metadata": {},
   "outputs": [
    {
     "data": {
      "text/plain": [
       "0     214959\n",
       "1      14941\n",
       "2       2470\n",
       "3        537\n",
       "4        138\n",
       "5         58\n",
       "6         20\n",
       "7         13\n",
       "8          7\n",
       "11         3\n",
       "12         3\n",
       "10         2\n",
       "9          2\n",
       "20         1\n",
       "Name: DELINQUENT_ACCTS_IN_LAST_SIX_MONTHS, dtype: int64"
      ]
     },
     "execution_count": 57,
     "metadata": {},
     "output_type": "execute_result"
    }
   ],
   "source": [
    "loan_df.DELINQUENT_ACCTS_IN_LAST_SIX_MONTHS.value_counts()"
   ]
  },
  {
   "cell_type": "code",
   "execution_count": null,
   "id": "b6d1c6ea",
   "metadata": {},
   "outputs": [],
   "source": []
  },
  {
   "cell_type": "code",
   "execution_count": 58,
   "id": "5907d1a4",
   "metadata": {},
   "outputs": [],
   "source": [
    "loan_df.AVERAGE_ACCT_AGE=[float(i.split()[0][:-3])+float(i.split()[1][:-3])/12 for i in loan_df.AVERAGE_ACCT_AGE];"
   ]
  },
  {
   "cell_type": "code",
   "execution_count": 59,
   "id": "dacb93f8",
   "metadata": {},
   "outputs": [
    {
     "data": {
      "image/png": "[encoded data removed]",
      "text/plain": [
       "<Figure size 720x432 with 1 Axes>"
      ]
     },
     "metadata": {
      "needs_background": "light"
     },
     "output_type": "display_data"
    }
   ],
   "source": [
    "fig28,ax28=plt.subplots(1,1,figsize=(10,6));\n",
    "loan_df.AVERAGE_ACCT_AGE.hist(ax=ax28,bins=50);"
   ]
  },
  {
   "cell_type": "code",
   "execution_count": 60,
   "id": "87e83721",
   "metadata": {},
   "outputs": [],
   "source": [
    "loan_df.CREDIT_HISTORY_LENGTH=[float(i.split()[0][:-3])+float(i.split()[1][:-3])/12 for i in loan_df.CREDIT_HISTORY_LENGTH];"
   ]
  },
  {
   "cell_type": "code",
   "execution_count": 61,
   "id": "45be674c",
   "metadata": {},
   "outputs": [
    {
     "data": {
      "image/png": "[encoded data removed]",
      "text/plain": [
       "<Figure size 720x432 with 1 Axes>"
      ]
     },
     "metadata": {
      "needs_background": "light"
     },
     "output_type": "display_data"
    }
   ],
   "source": [
    "fig29,ax29=plt.subplots(1,1,figsize=(10,6));\n",
    "loan_df.CREDIT_HISTORY_LENGTH.hist(ax=ax29,bins=50);"
   ]
  },
  {
   "cell_type": "code",
   "execution_count": 62,
   "id": "9778f191",
   "metadata": {},
   "outputs": [
    {
     "data": {
      "image/png": "[encoded data removed]",
      "text/plain": [
       "<Figure size 720x432 with 1 Axes>"
      ]
     },
     "metadata": {
      "needs_background": "light"
     },
     "output_type": "display_data"
    }
   ],
   "source": [
    "fig30,ax30=plt.subplots(1,1,figsize=(10,6));\n",
    "loan_df.NO_OF_INQUIRIES.hist(ax=ax30,bins=40);"
   ]
  },
  {
   "cell_type": "code",
   "execution_count": 63,
   "id": "ef7edc95",
   "metadata": {},
   "outputs": [
    {
     "data": {
      "text/plain": [
       "0     201961\n",
       "1      22285\n",
       "2       5409\n",
       "3       1767\n",
       "4        760\n",
       "5        343\n",
       "6        239\n",
       "7        135\n",
       "8        105\n",
       "9         44\n",
       "10        34\n",
       "11        15\n",
       "12        14\n",
       "14         8\n",
       "15         7\n",
       "19         6\n",
       "13         6\n",
       "17         4\n",
       "18         4\n",
       "16         3\n",
       "28         1\n",
       "20         1\n",
       "23         1\n",
       "36         1\n",
       "22         1\n",
       "Name: NO_OF_INQUIRIES, dtype: int64"
      ]
     },
     "execution_count": 63,
     "metadata": {},
     "output_type": "execute_result"
    }
   ],
   "source": [
    "loan_df.NO_OF_INQUIRIES.value_counts()"
   ]
  },
  {
   "cell_type": "markdown",
   "id": "3dae3c04",
   "metadata": {},
   "source": [
    "### 5. Explain how is the target variable distributed overall"
   ]
  },
  {
   "cell_type": "code",
   "execution_count": 64,
   "id": "40c795fb",
   "metadata": {},
   "outputs": [
    {
     "data": {
      "text/plain": [
       "0    182543\n",
       "1     50611\n",
       "Name: loan_default, dtype: int64"
      ]
     },
     "execution_count": 64,
     "metadata": {},
     "output_type": "execute_result"
    }
   ],
   "source": [
    "loan_df.loan_default.value_counts()"
   ]
  },
  {
   "cell_type": "markdown",
   "id": "06985d68",
   "metadata": {},
   "source": [
    "### 6. Study the distribution of the target variable across various categories like branch, city, state, branch, supplier, manufacturer, etc."
   ]
  },
  {
   "cell_type": "code",
   "execution_count": 65,
   "id": "fec997c6",
   "metadata": {
    "scrolled": false
   },
   "outputs": [
    {
     "data": {
      "image/png": "[encoded data removed]",
      "text/plain": [
       "<Figure size 720x432 with 1 Axes>"
      ]
     },
     "metadata": {
      "needs_background": "light"
     },
     "output_type": "display_data"
    }
   ],
   "source": [
    "fig31,ax31=plt.subplots(1,1,figsize=(10,6));\n",
    "ax31.boxplot([loan_df.disbursed_amount[loan_df.loan_default==0],loan_df.disbursed_amount[loan_df.loan_default==1]]);\n",
    "ax31.set_xticklabels(['Non Defaulters','Defaulters'],size=10);\n",
    "ax31.set_ylabel('Disbursed Amount',size=20);"
   ]
  },
  {
   "cell_type": "code",
   "execution_count": 66,
   "id": "a75b6f3b",
   "metadata": {},
   "outputs": [
    {
     "data": {
      "text/plain": [
       "(0.0, 100000.0)"
      ]
     },
     "execution_count": 66,
     "metadata": {},
     "output_type": "execute_result"
    },
    {
     "data": {
      "image/png": "[encoded data removed]",
      "text/plain": [
       "<Figure size 720x432 with 1 Axes>"
      ]
     },
     "metadata": {
      "needs_background": "light"
     },
     "output_type": "display_data"
    }
   ],
   "source": [
    "fig31,ax31=plt.subplots(1,1,figsize=(10,6));\n",
    "ax31.boxplot([loan_df.disbursed_amount[loan_df.loan_default==0],loan_df.disbursed_amount[loan_df.loan_default==1]]);\n",
    "ax31.set_xticklabels(['Non Defaulters','Defaulters'],size=10);\n",
    "ax31.set_ylabel('Disbursed Amount',size=20);\n",
    "ax31.set_ylim([0,100000])"
   ]
  },
  {
   "cell_type": "code",
   "execution_count": 67,
   "id": "6616688f",
   "metadata": {},
   "outputs": [
    {
     "data": {
      "text/plain": [
       "SpearmanrResult(correlation=0.09288435655814552, pvalue=0.0)"
      ]
     },
     "execution_count": 67,
     "metadata": {},
     "output_type": "execute_result"
    }
   ],
   "source": [
    "spearmanr(loan_df.disbursed_amount,loan_df.loan_default)"
   ]
  },
  {
   "cell_type": "code",
   "execution_count": null,
   "id": "cab0c7ea",
   "metadata": {},
   "outputs": [],
   "source": []
  },
  {
   "cell_type": "code",
   "execution_count": 68,
   "id": "8b586398",
   "metadata": {
    "scrolled": false
   },
   "outputs": [
    {
     "data": {
      "image/png": "[encoded data removed]",
      "text/plain": [
       "<Figure size 720x432 with 1 Axes>"
      ]
     },
     "metadata": {
      "needs_background": "light"
     },
     "output_type": "display_data"
    }
   ],
   "source": [
    "fig32,ax32=plt.subplots(1,1,figsize=(10,6));\n",
    "ax32.boxplot([loan_df.ltv[loan_df.loan_default==0],loan_df.ltv[loan_df.loan_default==1]]); \n",
    "ax32.set_xticklabels(['Non Defaulters','Defaulters'],size=10);\n",
    "ax32.set_ylabel('Loan to value of asset',size=20);"
   ]
  },
  {
   "cell_type": "code",
   "execution_count": 69,
   "id": "20576d18",
   "metadata": {},
   "outputs": [
    {
     "data": {
      "text/plain": [
       "SpearmanrResult(correlation=0.09908847004863419, pvalue=0.0)"
      ]
     },
     "execution_count": 69,
     "metadata": {},
     "output_type": "execute_result"
    }
   ],
   "source": [
    "spearmanr(loan_df.ltv,loan_df.loan_default)"
   ]
  },
  {
   "cell_type": "code",
   "execution_count": 70,
   "id": "cccc71b3",
   "metadata": {
    "scrolled": true
   },
   "outputs": [],
   "source": [
    "branch_count=pd.merge(loan_df[loan_df.loan_default==0].branch_id.value_counts(),loan_df[loan_df.loan_default==1].branch_id.value_counts(),on=loan_df[loan_df.loan_default==0].branch_id.value_counts().index);    "
   ]
  },
  {
   "cell_type": "code",
   "execution_count": 71,
   "id": "0ee30c11",
   "metadata": {},
   "outputs": [],
   "source": [
    "branch_count.rename(columns={'branch_id_x':'num_non_defaulters','branch_id_y':'num_defaulters','key_0':'branch_number'},inplace=True)\n",
    "branch_count.set_index(branch_count.branch_number, inplace=True)\n",
    "branch_count.drop(columns=['branch_number'], inplace=True)\n",
    "branch_count.sort_index(inplace=True)\n"
   ]
  },
  {
   "cell_type": "code",
   "execution_count": 72,
   "id": "9a34cec3",
   "metadata": {},
   "outputs": [],
   "source": [
    "branch_count['defaulter_ratio']=branch_count.num_defaulters/(branch_count.num_non_defaulters+branch_count.num_defaulters);"
   ]
  },
  {
   "cell_type": "code",
   "execution_count": 73,
   "id": "a29d5949",
   "metadata": {},
   "outputs": [
    {
     "data": {
      "text/plain": [
       "0.2170711203753742"
      ]
     },
     "execution_count": 73,
     "metadata": {},
     "output_type": "execute_result"
    }
   ],
   "source": [
    "len(loan_df[loan_df.loan_default==1])/len(loan_df)"
   ]
  },
  {
   "cell_type": "code",
   "execution_count": 74,
   "id": "b7323eff",
   "metadata": {
    "scrolled": true
   },
   "outputs": [],
   "source": [
    "branch_count.sort_values(by=['defaulter_ratio'],ascending=False,inplace=True) "
   ]
  },
  {
   "cell_type": "code",
   "execution_count": 75,
   "id": "09e974b4",
   "metadata": {},
   "outputs": [
    {
     "data": {
      "text/html": [
       "<div>\n",
       "<style scoped>\n",
       "    .dataframe tbody tr th:only-of-type {\n",
       "        vertical-align: middle;\n",
       "    }\n",
       "\n",
       "    .dataframe tbody tr th {\n",
       "        vertical-align: top;\n",
       "    }\n",
       "\n",
       "    .dataframe thead th {\n",
       "        text-align: right;\n",
       "    }\n",
       "</style>\n",
       "<table border=\"1\" class=\"dataframe\">\n",
       "  <thead>\n",
       "    <tr style=\"text-align: right;\">\n",
       "      <th></th>\n",
       "      <th>num_non_defaulters</th>\n",
       "      <th>num_defaulters</th>\n",
       "      <th>defaulter_ratio</th>\n",
       "    </tr>\n",
       "    <tr>\n",
       "      <th>branch_number</th>\n",
       "      <th></th>\n",
       "      <th></th>\n",
       "      <th></th>\n",
       "    </tr>\n",
       "  </thead>\n",
       "  <tbody>\n",
       "    <tr>\n",
       "      <th>158</th>\n",
       "      <td>50</td>\n",
       "      <td>19</td>\n",
       "      <td>0.275362</td>\n",
       "    </tr>\n",
       "    <tr>\n",
       "      <th>258</th>\n",
       "      <td>297</td>\n",
       "      <td>98</td>\n",
       "      <td>0.248101</td>\n",
       "    </tr>\n",
       "    <tr>\n",
       "      <th>217</th>\n",
       "      <td>138</td>\n",
       "      <td>45</td>\n",
       "      <td>0.245902</td>\n",
       "    </tr>\n",
       "    <tr>\n",
       "      <th>35</th>\n",
       "      <td>500</td>\n",
       "      <td>158</td>\n",
       "      <td>0.240122</td>\n",
       "    </tr>\n",
       "    <tr>\n",
       "      <th>69</th>\n",
       "      <td>595</td>\n",
       "      <td>187</td>\n",
       "      <td>0.239130</td>\n",
       "    </tr>\n",
       "    <tr>\n",
       "      <th>...</th>\n",
       "      <td>...</td>\n",
       "      <td>...</td>\n",
       "      <td>...</td>\n",
       "    </tr>\n",
       "    <tr>\n",
       "      <th>73</th>\n",
       "      <td>1158</td>\n",
       "      <td>279</td>\n",
       "      <td>0.194154</td>\n",
       "    </tr>\n",
       "    <tr>\n",
       "      <th>254</th>\n",
       "      <td>1148</td>\n",
       "      <td>269</td>\n",
       "      <td>0.189838</td>\n",
       "    </tr>\n",
       "    <tr>\n",
       "      <th>17</th>\n",
       "      <td>989</td>\n",
       "      <td>227</td>\n",
       "      <td>0.186678</td>\n",
       "    </tr>\n",
       "    <tr>\n",
       "      <th>66</th>\n",
       "      <td>261</td>\n",
       "      <td>52</td>\n",
       "      <td>0.166134</td>\n",
       "    </tr>\n",
       "    <tr>\n",
       "      <th>259</th>\n",
       "      <td>267</td>\n",
       "      <td>53</td>\n",
       "      <td>0.165625</td>\n",
       "    </tr>\n",
       "  </tbody>\n",
       "</table>\n",
       "<p>82 rows × 3 columns</p>\n",
       "</div>"
      ],
      "text/plain": [
       "               num_non_defaulters  num_defaulters  defaulter_ratio\n",
       "branch_number                                                     \n",
       "158                            50              19         0.275362\n",
       "258                           297              98         0.248101\n",
       "217                           138              45         0.245902\n",
       "35                            500             158         0.240122\n",
       "69                            595             187         0.239130\n",
       "...                           ...             ...              ...\n",
       "73                           1158             279         0.194154\n",
       "254                          1148             269         0.189838\n",
       "17                            989             227         0.186678\n",
       "66                            261              52         0.166134\n",
       "259                           267              53         0.165625\n",
       "\n",
       "[82 rows x 3 columns]"
      ]
     },
     "execution_count": 75,
     "metadata": {},
     "output_type": "execute_result"
    }
   ],
   "source": [
    "branch_count"
   ]
  },
  {
   "cell_type": "code",
   "execution_count": 76,
   "id": "799afd53",
   "metadata": {},
   "outputs": [
    {
     "data": {
      "text/plain": [
       "86     109534\n",
       "45      56626\n",
       "51      27204\n",
       "48      16710\n",
       "49      10220\n",
       "120      9658\n",
       "67       2405\n",
       "145       778\n",
       "153        12\n",
       "152         6\n",
       "156         1\n",
       "Name: manufacturer_id, dtype: int64"
      ]
     },
     "execution_count": 76,
     "metadata": {},
     "output_type": "execute_result"
    }
   ],
   "source": [
    "loan_df.manufacturer_id.value_counts()"
   ]
  },
  {
   "cell_type": "code",
   "execution_count": 77,
   "id": "fc865429",
   "metadata": {},
   "outputs": [
    {
     "data": {
      "text/plain": [
       "86     87124\n",
       "45     43687\n",
       "51     21547\n",
       "48     12156\n",
       "49      7984\n",
       "120     7526\n",
       "67      1882\n",
       "145      622\n",
       "153        8\n",
       "152        6\n",
       "156        1\n",
       "Name: manufacturer_id, dtype: int64"
      ]
     },
     "execution_count": 77,
     "metadata": {},
     "output_type": "execute_result"
    }
   ],
   "source": [
    "loan_df[loan_df.loan_default==0].manufacturer_id.value_counts()"
   ]
  },
  {
   "cell_type": "code",
   "execution_count": 78,
   "id": "1cb89bd8",
   "metadata": {},
   "outputs": [
    {
     "data": {
      "text/plain": [
       "86     22410\n",
       "45     12939\n",
       "51      5657\n",
       "48      4554\n",
       "49      2236\n",
       "120     2132\n",
       "67       523\n",
       "145      156\n",
       "153        4\n",
       "Name: manufacturer_id, dtype: int64"
      ]
     },
     "execution_count": 78,
     "metadata": {},
     "output_type": "execute_result"
    }
   ],
   "source": [
    "loan_df[loan_df.loan_default==1].manufacturer_id.value_counts()"
   ]
  },
  {
   "cell_type": "code",
   "execution_count": 79,
   "id": "b24710b1",
   "metadata": {},
   "outputs": [
    {
     "data": {
      "text/plain": [
       "Int64Index([86, 45, 51, 48, 49, 120, 67, 145, 153, 152, 156], dtype='int64')"
      ]
     },
     "execution_count": 79,
     "metadata": {},
     "output_type": "execute_result"
    }
   ],
   "source": [
    "loan_df.manufacturer_id.value_counts().index"
   ]
  },
  {
   "cell_type": "code",
   "execution_count": 80,
   "id": "99d38418",
   "metadata": {},
   "outputs": [],
   "source": [
    "manufacturer_cnt=pd.merge(loan_df[loan_df.loan_default==0].manufacturer_id.value_counts(),loan_df[loan_df.loan_default==1].manufacturer_id.value_counts(),how='left',left_index=True,right_index=True);  "
   ]
  },
  {
   "cell_type": "code",
   "execution_count": 81,
   "id": "ba939fff",
   "metadata": {},
   "outputs": [],
   "source": [
    "manufacturer_cnt.fillna(0,inplace=True);\n",
    "manufacturer_cnt.rename(columns={'manufacturer_id_x':'num_non_defaulters','manufacturer_id_y':'num_defaulters'},inplace=True)\n",
    "manufacturer_cnt.sort_index(inplace=True)"
   ]
  },
  {
   "cell_type": "code",
   "execution_count": 82,
   "id": "0a571f4b",
   "metadata": {},
   "outputs": [],
   "source": [
    "manufacturer_cnt['defaulter_ratio']=manufacturer_cnt.num_defaulters/(manufacturer_cnt.num_non_defaulters+manufacturer_cnt.num_defaulters);\n",
    "manufacturer_cnt.sort_values(by=['defaulter_ratio'],ascending=False,inplace=True)"
   ]
  },
  {
   "cell_type": "code",
   "execution_count": 83,
   "id": "d564bf94",
   "metadata": {},
   "outputs": [
    {
     "data": {
      "text/html": [
       "<div>\n",
       "<style scoped>\n",
       "    .dataframe tbody tr th:only-of-type {\n",
       "        vertical-align: middle;\n",
       "    }\n",
       "\n",
       "    .dataframe tbody tr th {\n",
       "        vertical-align: top;\n",
       "    }\n",
       "\n",
       "    .dataframe thead th {\n",
       "        text-align: right;\n",
       "    }\n",
       "</style>\n",
       "<table border=\"1\" class=\"dataframe\">\n",
       "  <thead>\n",
       "    <tr style=\"text-align: right;\">\n",
       "      <th></th>\n",
       "      <th>num_non_defaulters</th>\n",
       "      <th>num_defaulters</th>\n",
       "      <th>defaulter_ratio</th>\n",
       "    </tr>\n",
       "  </thead>\n",
       "  <tbody>\n",
       "    <tr>\n",
       "      <th>153</th>\n",
       "      <td>8</td>\n",
       "      <td>4.0</td>\n",
       "      <td>0.333333</td>\n",
       "    </tr>\n",
       "    <tr>\n",
       "      <th>48</th>\n",
       "      <td>12156</td>\n",
       "      <td>4554.0</td>\n",
       "      <td>0.272531</td>\n",
       "    </tr>\n",
       "    <tr>\n",
       "      <th>45</th>\n",
       "      <td>43687</td>\n",
       "      <td>12939.0</td>\n",
       "      <td>0.228499</td>\n",
       "    </tr>\n",
       "    <tr>\n",
       "      <th>120</th>\n",
       "      <td>7526</td>\n",
       "      <td>2132.0</td>\n",
       "      <td>0.220750</td>\n",
       "    </tr>\n",
       "    <tr>\n",
       "      <th>49</th>\n",
       "      <td>7984</td>\n",
       "      <td>2236.0</td>\n",
       "      <td>0.218787</td>\n",
       "    </tr>\n",
       "    <tr>\n",
       "      <th>67</th>\n",
       "      <td>1882</td>\n",
       "      <td>523.0</td>\n",
       "      <td>0.217464</td>\n",
       "    </tr>\n",
       "    <tr>\n",
       "      <th>51</th>\n",
       "      <td>21547</td>\n",
       "      <td>5657.0</td>\n",
       "      <td>0.207947</td>\n",
       "    </tr>\n",
       "    <tr>\n",
       "      <th>86</th>\n",
       "      <td>87124</td>\n",
       "      <td>22410.0</td>\n",
       "      <td>0.204594</td>\n",
       "    </tr>\n",
       "    <tr>\n",
       "      <th>145</th>\n",
       "      <td>622</td>\n",
       "      <td>156.0</td>\n",
       "      <td>0.200514</td>\n",
       "    </tr>\n",
       "    <tr>\n",
       "      <th>152</th>\n",
       "      <td>6</td>\n",
       "      <td>0.0</td>\n",
       "      <td>0.000000</td>\n",
       "    </tr>\n",
       "    <tr>\n",
       "      <th>156</th>\n",
       "      <td>1</td>\n",
       "      <td>0.0</td>\n",
       "      <td>0.000000</td>\n",
       "    </tr>\n",
       "  </tbody>\n",
       "</table>\n",
       "</div>"
      ],
      "text/plain": [
       "     num_non_defaulters  num_defaulters  defaulter_ratio\n",
       "153                   8             4.0         0.333333\n",
       "48                12156          4554.0         0.272531\n",
       "45                43687         12939.0         0.228499\n",
       "120                7526          2132.0         0.220750\n",
       "49                 7984          2236.0         0.218787\n",
       "67                 1882           523.0         0.217464\n",
       "51                21547          5657.0         0.207947\n",
       "86                87124         22410.0         0.204594\n",
       "145                 622           156.0         0.200514\n",
       "152                   6             0.0         0.000000\n",
       "156                   1             0.0         0.000000"
      ]
     },
     "execution_count": 83,
     "metadata": {},
     "output_type": "execute_result"
    }
   ],
   "source": [
    "manufacturer_cnt"
   ]
  },
  {
   "cell_type": "code",
   "execution_count": 84,
   "id": "4f24c2d2",
   "metadata": {},
   "outputs": [],
   "source": [
    "supplier_cnt=pd.merge(loan_df[loan_df.loan_default==0].supplier_id.value_counts(),loan_df[loan_df.loan_default==1].supplier_id.value_counts(),how='outer',left_index=True,right_index=True);"
   ]
  },
  {
   "cell_type": "code",
   "execution_count": 85,
   "id": "9e944865",
   "metadata": {},
   "outputs": [],
   "source": [
    "supplier_cnt.fillna(0,inplace=True);\n",
    "supplier_cnt.rename(columns={'supplier_id_x':'num_non_defaulters','supplier_id_y':'num_defaulters'},inplace=True)\n",
    "supplier_cnt.sort_index(inplace=True)"
   ]
  },
  {
   "cell_type": "code",
   "execution_count": 86,
   "id": "2a4768e4",
   "metadata": {},
   "outputs": [],
   "source": [
    "supplier_cnt['defaulter_ratio']=supplier_cnt.num_defaulters/(supplier_cnt.num_non_defaulters+supplier_cnt.num_defaulters);\n",
    "supplier_cnt.sort_values(by=['defaulter_ratio'],ascending=False,inplace=True)"
   ]
  },
  {
   "cell_type": "code",
   "execution_count": 87,
   "id": "dd1ac508",
   "metadata": {},
   "outputs": [
    {
     "data": {
      "text/html": [
       "<div>\n",
       "<style scoped>\n",
       "    .dataframe tbody tr th:only-of-type {\n",
       "        vertical-align: middle;\n",
       "    }\n",
       "\n",
       "    .dataframe tbody tr th {\n",
       "        vertical-align: top;\n",
       "    }\n",
       "\n",
       "    .dataframe thead th {\n",
       "        text-align: right;\n",
       "    }\n",
       "</style>\n",
       "<table border=\"1\" class=\"dataframe\">\n",
       "  <thead>\n",
       "    <tr style=\"text-align: right;\">\n",
       "      <th></th>\n",
       "      <th>num_non_defaulters</th>\n",
       "      <th>num_defaulters</th>\n",
       "      <th>defaulter_ratio</th>\n",
       "    </tr>\n",
       "  </thead>\n",
       "  <tbody>\n",
       "    <tr>\n",
       "      <th>15045</th>\n",
       "      <td>0.0</td>\n",
       "      <td>1.0</td>\n",
       "      <td>1.000000</td>\n",
       "    </tr>\n",
       "    <tr>\n",
       "      <th>24109</th>\n",
       "      <td>0.0</td>\n",
       "      <td>3.0</td>\n",
       "      <td>1.000000</td>\n",
       "    </tr>\n",
       "    <tr>\n",
       "      <th>23685</th>\n",
       "      <td>0.0</td>\n",
       "      <td>2.0</td>\n",
       "      <td>1.000000</td>\n",
       "    </tr>\n",
       "    <tr>\n",
       "      <th>23741</th>\n",
       "      <td>0.0</td>\n",
       "      <td>1.0</td>\n",
       "      <td>1.000000</td>\n",
       "    </tr>\n",
       "    <tr>\n",
       "      <th>18513</th>\n",
       "      <td>0.0</td>\n",
       "      <td>1.0</td>\n",
       "      <td>1.000000</td>\n",
       "    </tr>\n",
       "    <tr>\n",
       "      <th>23802</th>\n",
       "      <td>0.0</td>\n",
       "      <td>1.0</td>\n",
       "      <td>1.000000</td>\n",
       "    </tr>\n",
       "    <tr>\n",
       "      <th>23932</th>\n",
       "      <td>0.0</td>\n",
       "      <td>1.0</td>\n",
       "      <td>1.000000</td>\n",
       "    </tr>\n",
       "    <tr>\n",
       "      <th>18102</th>\n",
       "      <td>0.0</td>\n",
       "      <td>1.0</td>\n",
       "      <td>1.000000</td>\n",
       "    </tr>\n",
       "    <tr>\n",
       "      <th>18099</th>\n",
       "      <td>0.0</td>\n",
       "      <td>2.0</td>\n",
       "      <td>1.000000</td>\n",
       "    </tr>\n",
       "    <tr>\n",
       "      <th>22474</th>\n",
       "      <td>0.0</td>\n",
       "      <td>1.0</td>\n",
       "      <td>1.000000</td>\n",
       "    </tr>\n",
       "    <tr>\n",
       "      <th>23635</th>\n",
       "      <td>0.0</td>\n",
       "      <td>1.0</td>\n",
       "      <td>1.000000</td>\n",
       "    </tr>\n",
       "    <tr>\n",
       "      <th>24222</th>\n",
       "      <td>0.0</td>\n",
       "      <td>1.0</td>\n",
       "      <td>1.000000</td>\n",
       "    </tr>\n",
       "    <tr>\n",
       "      <th>24252</th>\n",
       "      <td>0.0</td>\n",
       "      <td>1.0</td>\n",
       "      <td>1.000000</td>\n",
       "    </tr>\n",
       "    <tr>\n",
       "      <th>17865</th>\n",
       "      <td>0.0</td>\n",
       "      <td>1.0</td>\n",
       "      <td>1.000000</td>\n",
       "    </tr>\n",
       "    <tr>\n",
       "      <th>17228</th>\n",
       "      <td>0.0</td>\n",
       "      <td>1.0</td>\n",
       "      <td>1.000000</td>\n",
       "    </tr>\n",
       "    <tr>\n",
       "      <th>17183</th>\n",
       "      <td>0.0</td>\n",
       "      <td>1.0</td>\n",
       "      <td>1.000000</td>\n",
       "    </tr>\n",
       "    <tr>\n",
       "      <th>17129</th>\n",
       "      <td>0.0</td>\n",
       "      <td>1.0</td>\n",
       "      <td>1.000000</td>\n",
       "    </tr>\n",
       "    <tr>\n",
       "      <th>24443</th>\n",
       "      <td>0.0</td>\n",
       "      <td>1.0</td>\n",
       "      <td>1.000000</td>\n",
       "    </tr>\n",
       "    <tr>\n",
       "      <th>23661</th>\n",
       "      <td>0.0</td>\n",
       "      <td>2.0</td>\n",
       "      <td>1.000000</td>\n",
       "    </tr>\n",
       "    <tr>\n",
       "      <th>20315</th>\n",
       "      <td>0.0</td>\n",
       "      <td>1.0</td>\n",
       "      <td>1.000000</td>\n",
       "    </tr>\n",
       "    <tr>\n",
       "      <th>24552</th>\n",
       "      <td>0.0</td>\n",
       "      <td>1.0</td>\n",
       "      <td>1.000000</td>\n",
       "    </tr>\n",
       "    <tr>\n",
       "      <th>23088</th>\n",
       "      <td>0.0</td>\n",
       "      <td>1.0</td>\n",
       "      <td>1.000000</td>\n",
       "    </tr>\n",
       "    <tr>\n",
       "      <th>22630</th>\n",
       "      <td>0.0</td>\n",
       "      <td>1.0</td>\n",
       "      <td>1.000000</td>\n",
       "    </tr>\n",
       "    <tr>\n",
       "      <th>22751</th>\n",
       "      <td>0.0</td>\n",
       "      <td>1.0</td>\n",
       "      <td>1.000000</td>\n",
       "    </tr>\n",
       "    <tr>\n",
       "      <th>22840</th>\n",
       "      <td>0.0</td>\n",
       "      <td>2.0</td>\n",
       "      <td>1.000000</td>\n",
       "    </tr>\n",
       "    <tr>\n",
       "      <th>22845</th>\n",
       "      <td>0.0</td>\n",
       "      <td>1.0</td>\n",
       "      <td>1.000000</td>\n",
       "    </tr>\n",
       "    <tr>\n",
       "      <th>22859</th>\n",
       "      <td>0.0</td>\n",
       "      <td>1.0</td>\n",
       "      <td>1.000000</td>\n",
       "    </tr>\n",
       "    <tr>\n",
       "      <th>21981</th>\n",
       "      <td>0.0</td>\n",
       "      <td>1.0</td>\n",
       "      <td>1.000000</td>\n",
       "    </tr>\n",
       "    <tr>\n",
       "      <th>21847</th>\n",
       "      <td>0.0</td>\n",
       "      <td>1.0</td>\n",
       "      <td>1.000000</td>\n",
       "    </tr>\n",
       "    <tr>\n",
       "      <th>21511</th>\n",
       "      <td>0.0</td>\n",
       "      <td>2.0</td>\n",
       "      <td>1.000000</td>\n",
       "    </tr>\n",
       "    <tr>\n",
       "      <th>23541</th>\n",
       "      <td>0.0</td>\n",
       "      <td>1.0</td>\n",
       "      <td>1.000000</td>\n",
       "    </tr>\n",
       "    <tr>\n",
       "      <th>23111</th>\n",
       "      <td>0.0</td>\n",
       "      <td>2.0</td>\n",
       "      <td>1.000000</td>\n",
       "    </tr>\n",
       "    <tr>\n",
       "      <th>20943</th>\n",
       "      <td>0.0</td>\n",
       "      <td>1.0</td>\n",
       "      <td>1.000000</td>\n",
       "    </tr>\n",
       "    <tr>\n",
       "      <th>23171</th>\n",
       "      <td>0.0</td>\n",
       "      <td>2.0</td>\n",
       "      <td>1.000000</td>\n",
       "    </tr>\n",
       "    <tr>\n",
       "      <th>23188</th>\n",
       "      <td>0.0</td>\n",
       "      <td>1.0</td>\n",
       "      <td>1.000000</td>\n",
       "    </tr>\n",
       "    <tr>\n",
       "      <th>23189</th>\n",
       "      <td>0.0</td>\n",
       "      <td>1.0</td>\n",
       "      <td>1.000000</td>\n",
       "    </tr>\n",
       "    <tr>\n",
       "      <th>20931</th>\n",
       "      <td>0.0</td>\n",
       "      <td>1.0</td>\n",
       "      <td>1.000000</td>\n",
       "    </tr>\n",
       "    <tr>\n",
       "      <th>20763</th>\n",
       "      <td>0.0</td>\n",
       "      <td>2.0</td>\n",
       "      <td>1.000000</td>\n",
       "    </tr>\n",
       "    <tr>\n",
       "      <th>16788</th>\n",
       "      <td>0.0</td>\n",
       "      <td>2.0</td>\n",
       "      <td>1.000000</td>\n",
       "    </tr>\n",
       "    <tr>\n",
       "      <th>22552</th>\n",
       "      <td>0.0</td>\n",
       "      <td>1.0</td>\n",
       "      <td>1.000000</td>\n",
       "    </tr>\n",
       "    <tr>\n",
       "      <th>24742</th>\n",
       "      <td>0.0</td>\n",
       "      <td>1.0</td>\n",
       "      <td>1.000000</td>\n",
       "    </tr>\n",
       "    <tr>\n",
       "      <th>24790</th>\n",
       "      <td>0.0</td>\n",
       "      <td>1.0</td>\n",
       "      <td>1.000000</td>\n",
       "    </tr>\n",
       "    <tr>\n",
       "      <th>24599</th>\n",
       "      <td>0.0</td>\n",
       "      <td>3.0</td>\n",
       "      <td>1.000000</td>\n",
       "    </tr>\n",
       "    <tr>\n",
       "      <th>24724</th>\n",
       "      <td>0.0</td>\n",
       "      <td>1.0</td>\n",
       "      <td>1.000000</td>\n",
       "    </tr>\n",
       "    <tr>\n",
       "      <th>24700</th>\n",
       "      <td>0.0</td>\n",
       "      <td>1.0</td>\n",
       "      <td>1.000000</td>\n",
       "    </tr>\n",
       "    <tr>\n",
       "      <th>24679</th>\n",
       "      <td>0.0</td>\n",
       "      <td>1.0</td>\n",
       "      <td>1.000000</td>\n",
       "    </tr>\n",
       "    <tr>\n",
       "      <th>24616</th>\n",
       "      <td>0.0</td>\n",
       "      <td>1.0</td>\n",
       "      <td>1.000000</td>\n",
       "    </tr>\n",
       "    <tr>\n",
       "      <th>24789</th>\n",
       "      <td>0.0</td>\n",
       "      <td>1.0</td>\n",
       "      <td>1.000000</td>\n",
       "    </tr>\n",
       "    <tr>\n",
       "      <th>24793</th>\n",
       "      <td>0.0</td>\n",
       "      <td>1.0</td>\n",
       "      <td>1.000000</td>\n",
       "    </tr>\n",
       "    <tr>\n",
       "      <th>24715</th>\n",
       "      <td>0.0</td>\n",
       "      <td>1.0</td>\n",
       "      <td>1.000000</td>\n",
       "    </tr>\n",
       "    <tr>\n",
       "      <th>24713</th>\n",
       "      <td>0.0</td>\n",
       "      <td>2.0</td>\n",
       "      <td>1.000000</td>\n",
       "    </tr>\n",
       "    <tr>\n",
       "      <th>15186</th>\n",
       "      <td>0.0</td>\n",
       "      <td>1.0</td>\n",
       "      <td>1.000000</td>\n",
       "    </tr>\n",
       "    <tr>\n",
       "      <th>24555</th>\n",
       "      <td>0.0</td>\n",
       "      <td>1.0</td>\n",
       "      <td>1.000000</td>\n",
       "    </tr>\n",
       "    <tr>\n",
       "      <th>24598</th>\n",
       "      <td>0.0</td>\n",
       "      <td>1.0</td>\n",
       "      <td>1.000000</td>\n",
       "    </tr>\n",
       "    <tr>\n",
       "      <th>24294</th>\n",
       "      <td>1.0</td>\n",
       "      <td>4.0</td>\n",
       "      <td>0.800000</td>\n",
       "    </tr>\n",
       "    <tr>\n",
       "      <th>24579</th>\n",
       "      <td>2.0</td>\n",
       "      <td>7.0</td>\n",
       "      <td>0.777778</td>\n",
       "    </tr>\n",
       "    <tr>\n",
       "      <th>23356</th>\n",
       "      <td>5.0</td>\n",
       "      <td>16.0</td>\n",
       "      <td>0.761905</td>\n",
       "    </tr>\n",
       "    <tr>\n",
       "      <th>24699</th>\n",
       "      <td>1.0</td>\n",
       "      <td>3.0</td>\n",
       "      <td>0.750000</td>\n",
       "    </tr>\n",
       "    <tr>\n",
       "      <th>24534</th>\n",
       "      <td>1.0</td>\n",
       "      <td>3.0</td>\n",
       "      <td>0.750000</td>\n",
       "    </tr>\n",
       "    <tr>\n",
       "      <th>24200</th>\n",
       "      <td>9.0</td>\n",
       "      <td>24.0</td>\n",
       "      <td>0.727273</td>\n",
       "    </tr>\n",
       "  </tbody>\n",
       "</table>\n",
       "</div>"
      ],
      "text/plain": [
       "       num_non_defaulters  num_defaulters  defaulter_ratio\n",
       "15045                 0.0             1.0         1.000000\n",
       "24109                 0.0             3.0         1.000000\n",
       "23685                 0.0             2.0         1.000000\n",
       "23741                 0.0             1.0         1.000000\n",
       "18513                 0.0             1.0         1.000000\n",
       "23802                 0.0             1.0         1.000000\n",
       "23932                 0.0             1.0         1.000000\n",
       "18102                 0.0             1.0         1.000000\n",
       "18099                 0.0             2.0         1.000000\n",
       "22474                 0.0             1.0         1.000000\n",
       "23635                 0.0             1.0         1.000000\n",
       "24222                 0.0             1.0         1.000000\n",
       "24252                 0.0             1.0         1.000000\n",
       "17865                 0.0             1.0         1.000000\n",
       "17228                 0.0             1.0         1.000000\n",
       "17183                 0.0             1.0         1.000000\n",
       "17129                 0.0             1.0         1.000000\n",
       "24443                 0.0             1.0         1.000000\n",
       "23661                 0.0             2.0         1.000000\n",
       "20315                 0.0             1.0         1.000000\n",
       "24552                 0.0             1.0         1.000000\n",
       "23088                 0.0             1.0         1.000000\n",
       "22630                 0.0             1.0         1.000000\n",
       "22751                 0.0             1.0         1.000000\n",
       "22840                 0.0             2.0         1.000000\n",
       "22845                 0.0             1.0         1.000000\n",
       "22859                 0.0             1.0         1.000000\n",
       "21981                 0.0             1.0         1.000000\n",
       "21847                 0.0             1.0         1.000000\n",
       "21511                 0.0             2.0         1.000000\n",
       "23541                 0.0             1.0         1.000000\n",
       "23111                 0.0             2.0         1.000000\n",
       "20943                 0.0             1.0         1.000000\n",
       "23171                 0.0             2.0         1.000000\n",
       "23188                 0.0             1.0         1.000000\n",
       "23189                 0.0             1.0         1.000000\n",
       "20931                 0.0             1.0         1.000000\n",
       "20763                 0.0             2.0         1.000000\n",
       "16788                 0.0             2.0         1.000000\n",
       "22552                 0.0             1.0         1.000000\n",
       "24742                 0.0             1.0         1.000000\n",
       "24790                 0.0             1.0         1.000000\n",
       "24599                 0.0             3.0         1.000000\n",
       "24724                 0.0             1.0         1.000000\n",
       "24700                 0.0             1.0         1.000000\n",
       "24679                 0.0             1.0         1.000000\n",
       "24616                 0.0             1.0         1.000000\n",
       "24789                 0.0             1.0         1.000000\n",
       "24793                 0.0             1.0         1.000000\n",
       "24715                 0.0             1.0         1.000000\n",
       "24713                 0.0             2.0         1.000000\n",
       "15186                 0.0             1.0         1.000000\n",
       "24555                 0.0             1.0         1.000000\n",
       "24598                 0.0             1.0         1.000000\n",
       "24294                 1.0             4.0         0.800000\n",
       "24579                 2.0             7.0         0.777778\n",
       "23356                 5.0            16.0         0.761905\n",
       "24699                 1.0             3.0         0.750000\n",
       "24534                 1.0             3.0         0.750000\n",
       "24200                 9.0            24.0         0.727273"
      ]
     },
     "execution_count": 87,
     "metadata": {},
     "output_type": "execute_result"
    }
   ],
   "source": [
    "supplier_cnt.head(60)"
   ]
  },
  {
   "cell_type": "code",
   "execution_count": 88,
   "id": "ef28f6ad",
   "metadata": {},
   "outputs": [
    {
     "data": {
      "text/html": [
       "<div>\n",
       "<style scoped>\n",
       "    .dataframe tbody tr th:only-of-type {\n",
       "        vertical-align: middle;\n",
       "    }\n",
       "\n",
       "    .dataframe tbody tr th {\n",
       "        vertical-align: top;\n",
       "    }\n",
       "\n",
       "    .dataframe thead th {\n",
       "        text-align: right;\n",
       "    }\n",
       "</style>\n",
       "<table border=\"1\" class=\"dataframe\">\n",
       "  <thead>\n",
       "    <tr style=\"text-align: right;\">\n",
       "      <th></th>\n",
       "      <th>num_non_defaulters</th>\n",
       "      <th>num_defaulters</th>\n",
       "      <th>defaulter_ratio</th>\n",
       "    </tr>\n",
       "  </thead>\n",
       "  <tbody>\n",
       "    <tr>\n",
       "      <th>22985</th>\n",
       "      <td>2.0</td>\n",
       "      <td>0.0</td>\n",
       "      <td>0.0</td>\n",
       "    </tr>\n",
       "    <tr>\n",
       "      <th>21314</th>\n",
       "      <td>2.0</td>\n",
       "      <td>0.0</td>\n",
       "      <td>0.0</td>\n",
       "    </tr>\n",
       "    <tr>\n",
       "      <th>23005</th>\n",
       "      <td>8.0</td>\n",
       "      <td>0.0</td>\n",
       "      <td>0.0</td>\n",
       "    </tr>\n",
       "    <tr>\n",
       "      <th>23406</th>\n",
       "      <td>1.0</td>\n",
       "      <td>0.0</td>\n",
       "      <td>0.0</td>\n",
       "    </tr>\n",
       "    <tr>\n",
       "      <th>21149</th>\n",
       "      <td>1.0</td>\n",
       "      <td>0.0</td>\n",
       "      <td>0.0</td>\n",
       "    </tr>\n",
       "    <tr>\n",
       "      <th>18123</th>\n",
       "      <td>13.0</td>\n",
       "      <td>0.0</td>\n",
       "      <td>0.0</td>\n",
       "    </tr>\n",
       "    <tr>\n",
       "      <th>24581</th>\n",
       "      <td>1.0</td>\n",
       "      <td>0.0</td>\n",
       "      <td>0.0</td>\n",
       "    </tr>\n",
       "    <tr>\n",
       "      <th>23404</th>\n",
       "      <td>18.0</td>\n",
       "      <td>0.0</td>\n",
       "      <td>0.0</td>\n",
       "    </tr>\n",
       "    <tr>\n",
       "      <th>23038</th>\n",
       "      <td>1.0</td>\n",
       "      <td>0.0</td>\n",
       "      <td>0.0</td>\n",
       "    </tr>\n",
       "    <tr>\n",
       "      <th>23037</th>\n",
       "      <td>2.0</td>\n",
       "      <td>0.0</td>\n",
       "      <td>0.0</td>\n",
       "    </tr>\n",
       "    <tr>\n",
       "      <th>17323</th>\n",
       "      <td>1.0</td>\n",
       "      <td>0.0</td>\n",
       "      <td>0.0</td>\n",
       "    </tr>\n",
       "    <tr>\n",
       "      <th>23028</th>\n",
       "      <td>3.0</td>\n",
       "      <td>0.0</td>\n",
       "      <td>0.0</td>\n",
       "    </tr>\n",
       "    <tr>\n",
       "      <th>17790</th>\n",
       "      <td>1.0</td>\n",
       "      <td>0.0</td>\n",
       "      <td>0.0</td>\n",
       "    </tr>\n",
       "    <tr>\n",
       "      <th>23025</th>\n",
       "      <td>4.0</td>\n",
       "      <td>0.0</td>\n",
       "      <td>0.0</td>\n",
       "    </tr>\n",
       "    <tr>\n",
       "      <th>24570</th>\n",
       "      <td>8.0</td>\n",
       "      <td>0.0</td>\n",
       "      <td>0.0</td>\n",
       "    </tr>\n",
       "    <tr>\n",
       "      <th>23022</th>\n",
       "      <td>2.0</td>\n",
       "      <td>0.0</td>\n",
       "      <td>0.0</td>\n",
       "    </tr>\n",
       "    <tr>\n",
       "      <th>24568</th>\n",
       "      <td>2.0</td>\n",
       "      <td>0.0</td>\n",
       "      <td>0.0</td>\n",
       "    </tr>\n",
       "    <tr>\n",
       "      <th>24206</th>\n",
       "      <td>3.0</td>\n",
       "      <td>0.0</td>\n",
       "      <td>0.0</td>\n",
       "    </tr>\n",
       "    <tr>\n",
       "      <th>17394</th>\n",
       "      <td>15.0</td>\n",
       "      <td>0.0</td>\n",
       "      <td>0.0</td>\n",
       "    </tr>\n",
       "    <tr>\n",
       "      <th>24565</th>\n",
       "      <td>1.0</td>\n",
       "      <td>0.0</td>\n",
       "      <td>0.0</td>\n",
       "    </tr>\n",
       "    <tr>\n",
       "      <th>24564</th>\n",
       "      <td>4.0</td>\n",
       "      <td>0.0</td>\n",
       "      <td>0.0</td>\n",
       "    </tr>\n",
       "    <tr>\n",
       "      <th>22980</th>\n",
       "      <td>1.0</td>\n",
       "      <td>0.0</td>\n",
       "      <td>0.0</td>\n",
       "    </tr>\n",
       "    <tr>\n",
       "      <th>24530</th>\n",
       "      <td>4.0</td>\n",
       "      <td>0.0</td>\n",
       "      <td>0.0</td>\n",
       "    </tr>\n",
       "    <tr>\n",
       "      <th>24529</th>\n",
       "      <td>9.0</td>\n",
       "      <td>0.0</td>\n",
       "      <td>0.0</td>\n",
       "    </tr>\n",
       "    <tr>\n",
       "      <th>21771</th>\n",
       "      <td>1.0</td>\n",
       "      <td>0.0</td>\n",
       "      <td>0.0</td>\n",
       "    </tr>\n",
       "    <tr>\n",
       "      <th>22942</th>\n",
       "      <td>1.0</td>\n",
       "      <td>0.0</td>\n",
       "      <td>0.0</td>\n",
       "    </tr>\n",
       "    <tr>\n",
       "      <th>14622</th>\n",
       "      <td>40.0</td>\n",
       "      <td>0.0</td>\n",
       "      <td>0.0</td>\n",
       "    </tr>\n",
       "    <tr>\n",
       "      <th>24492</th>\n",
       "      <td>4.0</td>\n",
       "      <td>0.0</td>\n",
       "      <td>0.0</td>\n",
       "    </tr>\n",
       "    <tr>\n",
       "      <th>24041</th>\n",
       "      <td>7.0</td>\n",
       "      <td>0.0</td>\n",
       "      <td>0.0</td>\n",
       "    </tr>\n",
       "    <tr>\n",
       "      <th>21843</th>\n",
       "      <td>1.0</td>\n",
       "      <td>0.0</td>\n",
       "      <td>0.0</td>\n",
       "    </tr>\n",
       "    <tr>\n",
       "      <th>23885</th>\n",
       "      <td>5.0</td>\n",
       "      <td>0.0</td>\n",
       "      <td>0.0</td>\n",
       "    </tr>\n",
       "    <tr>\n",
       "      <th>18045</th>\n",
       "      <td>2.0</td>\n",
       "      <td>0.0</td>\n",
       "      <td>0.0</td>\n",
       "    </tr>\n",
       "    <tr>\n",
       "      <th>14331</th>\n",
       "      <td>1.0</td>\n",
       "      <td>0.0</td>\n",
       "      <td>0.0</td>\n",
       "    </tr>\n",
       "    <tr>\n",
       "      <th>24248</th>\n",
       "      <td>1.0</td>\n",
       "      <td>0.0</td>\n",
       "      <td>0.0</td>\n",
       "    </tr>\n",
       "    <tr>\n",
       "      <th>22938</th>\n",
       "      <td>2.0</td>\n",
       "      <td>0.0</td>\n",
       "      <td>0.0</td>\n",
       "    </tr>\n",
       "    <tr>\n",
       "      <th>17451</th>\n",
       "      <td>2.0</td>\n",
       "      <td>0.0</td>\n",
       "      <td>0.0</td>\n",
       "    </tr>\n",
       "    <tr>\n",
       "      <th>24479</th>\n",
       "      <td>5.0</td>\n",
       "      <td>0.0</td>\n",
       "      <td>0.0</td>\n",
       "    </tr>\n",
       "    <tr>\n",
       "      <th>15775</th>\n",
       "      <td>6.0</td>\n",
       "      <td>0.0</td>\n",
       "      <td>0.0</td>\n",
       "    </tr>\n",
       "    <tr>\n",
       "      <th>24476</th>\n",
       "      <td>20.0</td>\n",
       "      <td>0.0</td>\n",
       "      <td>0.0</td>\n",
       "    </tr>\n",
       "    <tr>\n",
       "      <th>24474</th>\n",
       "      <td>2.0</td>\n",
       "      <td>0.0</td>\n",
       "      <td>0.0</td>\n",
       "    </tr>\n",
       "    <tr>\n",
       "      <th>24498</th>\n",
       "      <td>1.0</td>\n",
       "      <td>0.0</td>\n",
       "      <td>0.0</td>\n",
       "    </tr>\n",
       "    <tr>\n",
       "      <th>15779</th>\n",
       "      <td>2.0</td>\n",
       "      <td>0.0</td>\n",
       "      <td>0.0</td>\n",
       "    </tr>\n",
       "    <tr>\n",
       "      <th>24525</th>\n",
       "      <td>5.0</td>\n",
       "      <td>0.0</td>\n",
       "      <td>0.0</td>\n",
       "    </tr>\n",
       "    <tr>\n",
       "      <th>23425</th>\n",
       "      <td>1.0</td>\n",
       "      <td>0.0</td>\n",
       "      <td>0.0</td>\n",
       "    </tr>\n",
       "    <tr>\n",
       "      <th>24229</th>\n",
       "      <td>4.0</td>\n",
       "      <td>0.0</td>\n",
       "      <td>0.0</td>\n",
       "    </tr>\n",
       "    <tr>\n",
       "      <th>24522</th>\n",
       "      <td>3.0</td>\n",
       "      <td>0.0</td>\n",
       "      <td>0.0</td>\n",
       "    </tr>\n",
       "    <tr>\n",
       "      <th>21422</th>\n",
       "      <td>1.0</td>\n",
       "      <td>0.0</td>\n",
       "      <td>0.0</td>\n",
       "    </tr>\n",
       "    <tr>\n",
       "      <th>23422</th>\n",
       "      <td>5.0</td>\n",
       "      <td>0.0</td>\n",
       "      <td>0.0</td>\n",
       "    </tr>\n",
       "    <tr>\n",
       "      <th>24518</th>\n",
       "      <td>3.0</td>\n",
       "      <td>0.0</td>\n",
       "      <td>0.0</td>\n",
       "    </tr>\n",
       "    <tr>\n",
       "      <th>22956</th>\n",
       "      <td>1.0</td>\n",
       "      <td>0.0</td>\n",
       "      <td>0.0</td>\n",
       "    </tr>\n",
       "    <tr>\n",
       "      <th>24234</th>\n",
       "      <td>1.0</td>\n",
       "      <td>0.0</td>\n",
       "      <td>0.0</td>\n",
       "    </tr>\n",
       "    <tr>\n",
       "      <th>21597</th>\n",
       "      <td>3.0</td>\n",
       "      <td>0.0</td>\n",
       "      <td>0.0</td>\n",
       "    </tr>\n",
       "    <tr>\n",
       "      <th>24235</th>\n",
       "      <td>2.0</td>\n",
       "      <td>0.0</td>\n",
       "      <td>0.0</td>\n",
       "    </tr>\n",
       "    <tr>\n",
       "      <th>23825</th>\n",
       "      <td>8.0</td>\n",
       "      <td>0.0</td>\n",
       "      <td>0.0</td>\n",
       "    </tr>\n",
       "    <tr>\n",
       "      <th>21683</th>\n",
       "      <td>1.0</td>\n",
       "      <td>0.0</td>\n",
       "      <td>0.0</td>\n",
       "    </tr>\n",
       "    <tr>\n",
       "      <th>21702</th>\n",
       "      <td>1.0</td>\n",
       "      <td>0.0</td>\n",
       "      <td>0.0</td>\n",
       "    </tr>\n",
       "    <tr>\n",
       "      <th>15383</th>\n",
       "      <td>2.0</td>\n",
       "      <td>0.0</td>\n",
       "      <td>0.0</td>\n",
       "    </tr>\n",
       "    <tr>\n",
       "      <th>22954</th>\n",
       "      <td>1.0</td>\n",
       "      <td>0.0</td>\n",
       "      <td>0.0</td>\n",
       "    </tr>\n",
       "    <tr>\n",
       "      <th>21703</th>\n",
       "      <td>12.0</td>\n",
       "      <td>0.0</td>\n",
       "      <td>0.0</td>\n",
       "    </tr>\n",
       "    <tr>\n",
       "      <th>23336</th>\n",
       "      <td>22.0</td>\n",
       "      <td>0.0</td>\n",
       "      <td>0.0</td>\n",
       "    </tr>\n",
       "  </tbody>\n",
       "</table>\n",
       "</div>"
      ],
      "text/plain": [
       "       num_non_defaulters  num_defaulters  defaulter_ratio\n",
       "22985                 2.0             0.0              0.0\n",
       "21314                 2.0             0.0              0.0\n",
       "23005                 8.0             0.0              0.0\n",
       "23406                 1.0             0.0              0.0\n",
       "21149                 1.0             0.0              0.0\n",
       "18123                13.0             0.0              0.0\n",
       "24581                 1.0             0.0              0.0\n",
       "23404                18.0             0.0              0.0\n",
       "23038                 1.0             0.0              0.0\n",
       "23037                 2.0             0.0              0.0\n",
       "17323                 1.0             0.0              0.0\n",
       "23028                 3.0             0.0              0.0\n",
       "17790                 1.0             0.0              0.0\n",
       "23025                 4.0             0.0              0.0\n",
       "24570                 8.0             0.0              0.0\n",
       "23022                 2.0             0.0              0.0\n",
       "24568                 2.0             0.0              0.0\n",
       "24206                 3.0             0.0              0.0\n",
       "17394                15.0             0.0              0.0\n",
       "24565                 1.0             0.0              0.0\n",
       "24564                 4.0             0.0              0.0\n",
       "22980                 1.0             0.0              0.0\n",
       "24530                 4.0             0.0              0.0\n",
       "24529                 9.0             0.0              0.0\n",
       "21771                 1.0             0.0              0.0\n",
       "22942                 1.0             0.0              0.0\n",
       "14622                40.0             0.0              0.0\n",
       "24492                 4.0             0.0              0.0\n",
       "24041                 7.0             0.0              0.0\n",
       "21843                 1.0             0.0              0.0\n",
       "23885                 5.0             0.0              0.0\n",
       "18045                 2.0             0.0              0.0\n",
       "14331                 1.0             0.0              0.0\n",
       "24248                 1.0             0.0              0.0\n",
       "22938                 2.0             0.0              0.0\n",
       "17451                 2.0             0.0              0.0\n",
       "24479                 5.0             0.0              0.0\n",
       "15775                 6.0             0.0              0.0\n",
       "24476                20.0             0.0              0.0\n",
       "24474                 2.0             0.0              0.0\n",
       "24498                 1.0             0.0              0.0\n",
       "15779                 2.0             0.0              0.0\n",
       "24525                 5.0             0.0              0.0\n",
       "23425                 1.0             0.0              0.0\n",
       "24229                 4.0             0.0              0.0\n",
       "24522                 3.0             0.0              0.0\n",
       "21422                 1.0             0.0              0.0\n",
       "23422                 5.0             0.0              0.0\n",
       "24518                 3.0             0.0              0.0\n",
       "22956                 1.0             0.0              0.0\n",
       "24234                 1.0             0.0              0.0\n",
       "21597                 3.0             0.0              0.0\n",
       "24235                 2.0             0.0              0.0\n",
       "23825                 8.0             0.0              0.0\n",
       "21683                 1.0             0.0              0.0\n",
       "21702                 1.0             0.0              0.0\n",
       "15383                 2.0             0.0              0.0\n",
       "22954                 1.0             0.0              0.0\n",
       "21703                12.0             0.0              0.0\n",
       "23336                22.0             0.0              0.0"
      ]
     },
     "execution_count": 88,
     "metadata": {},
     "output_type": "execute_result"
    }
   ],
   "source": [
    "supplier_cnt.tail(60)"
   ]
  },
  {
   "cell_type": "markdown",
   "id": "f6fc47e6",
   "metadata": {},
   "source": [
    "### 7. What are the different employment types given in the data? Can a strategy be developed to fill in the missing values (if any)?  Use pie charts to express the different types of employment that define the defaulters and non-defaulters."
   ]
  },
  {
   "cell_type": "code",
   "execution_count": 89,
   "id": "25c1d0a0",
   "metadata": {},
   "outputs": [
    {
     "data": {
      "text/plain": [
       "908     62\n",
       "1660    43\n",
       "194     42\n",
       "1192    40\n",
       "140     39\n",
       "        ..\n",
       "327      1\n",
       "2686     1\n",
       "2629     1\n",
       "1082     1\n",
       "199      1\n",
       "Name: Employee_code_ID, Length: 1379, dtype: int64"
      ]
     },
     "execution_count": 89,
     "metadata": {},
     "output_type": "execute_result"
    }
   ],
   "source": [
    "loan_df[loan_df.Employment_Type.isna()].Employee_code_ID.value_counts()"
   ]
  },
  {
   "cell_type": "code",
   "execution_count": 90,
   "id": "bd6f2f6a",
   "metadata": {},
   "outputs": [
    {
     "data": {
      "text/plain": [
       "341"
      ]
     },
     "execution_count": 90,
     "metadata": {},
     "output_type": "execute_result"
    }
   ],
   "source": [
    "loan_df.Employee_code_ID.value_counts()[908]"
   ]
  },
  {
   "cell_type": "code",
   "execution_count": 91,
   "id": "7a2d64b0",
   "metadata": {},
   "outputs": [
    {
     "data": {
      "text/plain": [
       "278"
      ]
     },
     "execution_count": 91,
     "metadata": {},
     "output_type": "execute_result"
    }
   ],
   "source": [
    "loan_df[loan_df.Employment_Type=='Salaried'].Employee_code_ID.value_counts()[908]"
   ]
  },
  {
   "cell_type": "code",
   "execution_count": 92,
   "id": "a8e1357f",
   "metadata": {
    "scrolled": false
   },
   "outputs": [
    {
     "data": {
      "text/plain": [
       "1"
      ]
     },
     "execution_count": 92,
     "metadata": {},
     "output_type": "execute_result"
    }
   ],
   "source": [
    "loan_df[loan_df.Employment_Type=='Self employed'].Employee_code_ID.value_counts()[908]"
   ]
  },
  {
   "cell_type": "code",
   "execution_count": 93,
   "id": "c26ec975",
   "metadata": {},
   "outputs": [
    {
     "data": {
      "text/plain": [
       "191"
      ]
     },
     "execution_count": 93,
     "metadata": {},
     "output_type": "execute_result"
    }
   ],
   "source": [
    "loan_df.Employee_code_ID.value_counts()[194]"
   ]
  },
  {
   "cell_type": "code",
   "execution_count": 94,
   "id": "3f197a8b",
   "metadata": {},
   "outputs": [
    {
     "data": {
      "text/plain": [
       "147"
      ]
     },
     "execution_count": 94,
     "metadata": {},
     "output_type": "execute_result"
    }
   ],
   "source": [
    "loan_df[loan_df.Employment_Type=='Salaried'].Employee_code_ID.value_counts()[194]"
   ]
  },
  {
   "cell_type": "code",
   "execution_count": 95,
   "id": "71cd01cf",
   "metadata": {},
   "outputs": [
    {
     "data": {
      "text/plain": [
       "2"
      ]
     },
     "execution_count": 95,
     "metadata": {},
     "output_type": "execute_result"
    }
   ],
   "source": [
    "loan_df[loan_df.Employment_Type=='Self employed'].Employee_code_ID.value_counts()[194]"
   ]
  },
  {
   "cell_type": "code",
   "execution_count": 96,
   "id": "69976423",
   "metadata": {},
   "outputs": [
    {
     "data": {
      "text/plain": [
       "145"
      ]
     },
     "execution_count": 96,
     "metadata": {},
     "output_type": "execute_result"
    }
   ],
   "source": [
    "loan_df.Employee_code_ID.value_counts()[1192]"
   ]
  },
  {
   "cell_type": "code",
   "execution_count": 97,
   "id": "def6e4e3",
   "metadata": {},
   "outputs": [
    {
     "data": {
      "text/plain": [
       "76"
      ]
     },
     "execution_count": 97,
     "metadata": {},
     "output_type": "execute_result"
    }
   ],
   "source": [
    "loan_df[loan_df.Employment_Type=='Salaried'].Employee_code_ID.value_counts()[1192]"
   ]
  },
  {
   "cell_type": "code",
   "execution_count": 98,
   "id": "00ae8207",
   "metadata": {},
   "outputs": [
    {
     "data": {
      "text/plain": [
       "29"
      ]
     },
     "execution_count": 98,
     "metadata": {},
     "output_type": "execute_result"
    }
   ],
   "source": [
    "loan_df[loan_df.Employment_Type=='Self employed'].Employee_code_ID.value_counts()[1192]"
   ]
  },
  {
   "cell_type": "code",
   "execution_count": 99,
   "id": "e1039ac3",
   "metadata": {},
   "outputs": [
    {
     "data": {
      "text/plain": [
       "185"
      ]
     },
     "execution_count": 99,
     "metadata": {},
     "output_type": "execute_result"
    }
   ],
   "source": [
    "loan_df.Employee_code_ID.value_counts()[140]"
   ]
  },
  {
   "cell_type": "code",
   "execution_count": 100,
   "id": "c7a01806",
   "metadata": {
    "scrolled": true
   },
   "outputs": [
    {
     "data": {
      "text/plain": [
       "122"
      ]
     },
     "execution_count": 100,
     "metadata": {},
     "output_type": "execute_result"
    }
   ],
   "source": [
    "loan_df[loan_df.Employment_Type=='Salaried'].Employee_code_ID.value_counts()[140]"
   ]
  },
  {
   "cell_type": "code",
   "execution_count": 101,
   "id": "9d76be2b",
   "metadata": {},
   "outputs": [
    {
     "data": {
      "text/plain": [
       "24"
      ]
     },
     "execution_count": 101,
     "metadata": {},
     "output_type": "execute_result"
    }
   ],
   "source": [
    "loan_df[loan_df.Employment_Type=='Self employed'].Employee_code_ID.value_counts()[140]"
   ]
  },
  {
   "cell_type": "markdown",
   "id": "5cae5d2c",
   "metadata": {},
   "source": [
    "#### Mode value of employee code id is a good way to assign Emplyee Type for na values"
   ]
  },
  {
   "cell_type": "code",
   "execution_count": 102,
   "id": "14354edb",
   "metadata": {},
   "outputs": [],
   "source": [
    "emp_mapping=dict();\n",
    "for code_id in loan_df[loan_df.Employment_Type.isna()].Employee_code_ID.unique():\n",
    "    emp_mapping[code_id]=str(loan_df[loan_df.Employee_code_ID==code_id]['Employment_Type'].mode()).split('\\n')[0].split('0')[-1].strip();"
   ]
  },
  {
   "cell_type": "code",
   "execution_count": 103,
   "id": "93f756d8",
   "metadata": {
    "scrolled": true
   },
   "outputs": [],
   "source": [
    "loan_df.Employment_Type = loan_df.Employment_Type.fillna(loan_df.Employee_code_ID.map(emp_mapping))"
   ]
  },
  {
   "cell_type": "code",
   "execution_count": 104,
   "id": "e0e76517",
   "metadata": {},
   "outputs": [
    {
     "data": {
      "text/plain": [
       "Self employed                                       131849\n",
       "Salaried                                            101304\n",
       "Series([], Name: Employment_Type, dtype: object)         1\n",
       "Name: Employment_Type, dtype: int64"
      ]
     },
     "execution_count": 104,
     "metadata": {},
     "output_type": "execute_result"
    }
   ],
   "source": [
    "loan_df.Employment_Type.value_counts()"
   ]
  },
  {
   "cell_type": "code",
   "execution_count": 105,
   "id": "0dbdb04e",
   "metadata": {},
   "outputs": [
    {
     "data": {
      "text/plain": [
       "'Self employed'"
      ]
     },
     "execution_count": 105,
     "metadata": {},
     "output_type": "execute_result"
    }
   ],
   "source": [
    "loan_df.Employment_Type.mode()[0]"
   ]
  },
  {
   "cell_type": "code",
   "execution_count": 106,
   "id": "ca269aed",
   "metadata": {},
   "outputs": [],
   "source": [
    "loan_df.Employment_Type.replace(loan_df.loc[loan_df[(loan_df.Employment_Type!='Self employed') & (loan_df.Employment_Type!='Salaried')].index]['Employment_Type'].iloc[0],loan_df.Employment_Type.mode()[0],inplace=True)"
   ]
  },
  {
   "cell_type": "code",
   "execution_count": 107,
   "id": "ac955646",
   "metadata": {},
   "outputs": [
    {
     "data": {
      "text/plain": [
       "Self employed    131850\n",
       "Salaried         101304\n",
       "Name: Employment_Type, dtype: int64"
      ]
     },
     "execution_count": 107,
     "metadata": {},
     "output_type": "execute_result"
    }
   ],
   "source": [
    "loan_df.Employment_Type.value_counts()"
   ]
  },
  {
   "cell_type": "code",
   "execution_count": 108,
   "id": "7a829f40",
   "metadata": {
    "scrolled": true
   },
   "outputs": [
    {
     "data": {
      "text/plain": [
       "Self employed    101887\n",
       "Salaried          80656\n",
       "Name: Employment_Type, dtype: int64"
      ]
     },
     "execution_count": 108,
     "metadata": {},
     "output_type": "execute_result"
    }
   ],
   "source": [
    "loan_df[loan_df.loan_default==0].Employment_Type.value_counts()"
   ]
  },
  {
   "cell_type": "code",
   "execution_count": 109,
   "id": "6576ec19",
   "metadata": {},
   "outputs": [
    {
     "data": {
      "text/plain": [
       "Self employed    29963\n",
       "Salaried         20648\n",
       "Name: Employment_Type, dtype: int64"
      ]
     },
     "execution_count": 109,
     "metadata": {},
     "output_type": "execute_result"
    }
   ],
   "source": [
    "loan_df[loan_df.loan_default==1].Employment_Type.value_counts()"
   ]
  },
  {
   "cell_type": "code",
   "execution_count": 110,
   "id": "bcd39eac",
   "metadata": {},
   "outputs": [
    {
     "data": {
      "image/png": "[encoded data removed]",
      "text/plain": [
       "<Figure size 1440x432 with 2 Axes>"
      ]
     },
     "metadata": {},
     "output_type": "display_data"
    }
   ],
   "source": [
    "fig33,ax33=plt.subplots(1,2,figsize=(20,6));\n",
    "loan_df[loan_df.loan_default==0].Employment_Type.value_counts().plot(kind='pie',autopct='%1.0f%%',ax=ax33[0]);\n",
    "loan_df[loan_df.loan_default==1].Employment_Type.value_counts().plot(kind='pie',autopct='%1.0f%%',ax=ax33[1]);\n",
    "ax33[0].set_title('Employment type of non-defaulters');\n",
    "ax33[1].set_title('Employment type of defaulters');"
   ]
  },
  {
   "cell_type": "markdown",
   "id": "7f502bf0",
   "metadata": {},
   "source": [
    "### 8. Has age got anything to do with defaulting? What is the distribution of age w.r.t. to the defaulters and non-defaulters?"
   ]
  },
  {
   "cell_type": "code",
   "execution_count": 111,
   "id": "5bbad90c",
   "metadata": {
    "scrolled": false
   },
   "outputs": [
    {
     "data": {
      "image/png": "[encoded data removed]",
      "text/plain": [
       "<Figure size 720x432 with 1 Axes>"
      ]
     },
     "metadata": {
      "needs_background": "light"
     },
     "output_type": "display_data"
    }
   ],
   "source": [
    "fig34,ax34=plt.subplots(1,1,figsize=(10,6));\n",
    "ax34.boxplot([loan_df.age[loan_df.loan_default==0],loan_df.age[loan_df.loan_default==1]]); \n",
    "ax34.set_xticklabels(['Non Defaulters','Defaulters'],size=10);\n",
    "ax34.set_ylabel('Age',size=20);"
   ]
  },
  {
   "cell_type": "markdown",
   "id": "419c5d9e",
   "metadata": {},
   "source": [
    "### 9. What type of ID was presented by most of the customers for proof?"
   ]
  },
  {
   "cell_type": "code",
   "execution_count": 112,
   "id": "b3a10c65",
   "metadata": {},
   "outputs": [
    {
     "name": "stdout",
     "output_type": "stream",
     "text": [
      "Percentage of customers who gave their mobile number is =  100.0 %\n"
     ]
    }
   ],
   "source": [
    "print(\"Percentage of customers who gave their mobile number is = \" ,len(loan_df[loan_df.MobileNo_Avl_Flag==1])/len(loan_df)*100,\"%\")"
   ]
  },
  {
   "cell_type": "code",
   "execution_count": 113,
   "id": "ddb30923",
   "metadata": {},
   "outputs": [
    {
     "name": "stdout",
     "output_type": "stream",
     "text": [
      "Percentage of customers who gave their Aadhar card is =  84.03201317584086 %\n"
     ]
    }
   ],
   "source": [
    "print(\"Percentage of customers who gave their Aadhar card is = \" ,len(loan_df[loan_df.Aadhar_flag==1])/len(loan_df)*100,\"%\")"
   ]
  },
  {
   "cell_type": "code",
   "execution_count": 114,
   "id": "e079dd62",
   "metadata": {},
   "outputs": [
    {
     "name": "stdout",
     "output_type": "stream",
     "text": [
      "Percentage of customers who gave their PAN card is =  7.557665748818378 %\n"
     ]
    }
   ],
   "source": [
    "print(\"Percentage of customers who gave their PAN card is = \" ,len(loan_df[loan_df.PAN_flag==1])/len(loan_df)*100,'%')"
   ]
  },
  {
   "cell_type": "code",
   "execution_count": 115,
   "id": "a8f0d48e",
   "metadata": {},
   "outputs": [
    {
     "name": "stdout",
     "output_type": "stream",
     "text": [
      "Percentage of customers who gave their Voter ID card is =  14.494282748741174 %\n"
     ]
    }
   ],
   "source": [
    "print(\"Percentage of customers who gave their Voter ID card is = \" ,len(loan_df[loan_df.VoterID_flag==1])/len(loan_df)*100,'%')"
   ]
  },
  {
   "cell_type": "code",
   "execution_count": 116,
   "id": "8d33f3f9",
   "metadata": {},
   "outputs": [
    {
     "name": "stdout",
     "output_type": "stream",
     "text": [
      "Percentage of customers who gave their Driving license card is =  2.3242148965919522 %\n"
     ]
    }
   ],
   "source": [
    "print(\"Percentage of customers who gave their Driving license card is = \" ,len(loan_df[loan_df.Driving_flag==1])/len(loan_df)*100,'%')"
   ]
  },
  {
   "cell_type": "code",
   "execution_count": 117,
   "id": "8f0b204b",
   "metadata": {},
   "outputs": [
    {
     "name": "stdout",
     "output_type": "stream",
     "text": [
      "Percentage of customers who gave their Passport card is =  0.21273493056091683 %\n"
     ]
    }
   ],
   "source": [
    "print(\"Percentage of customers who gave their Passport card is = \" ,len(loan_df[loan_df.Passport_flag==1])/len(loan_df)*100,'%')"
   ]
  },
  {
   "cell_type": "markdown",
   "id": "bb9281ea",
   "metadata": {},
   "source": [
    "#### While all the customers presented their mobile number, most of them presented their Aadhar card for proof (84.03%)"
   ]
  },
  {
   "cell_type": "markdown",
   "id": "283779cf",
   "metadata": {},
   "source": [
    "## Observations based on Week 1 analysis:\n",
    "\n",
    "1. There are a total of 233154 customer observations. The data has a total of 40 features and 1 target value indicating if there is loan default or not.\n",
    "2. 'Employee_Type' parameter has 7661 null values. Remaining employess are classfied as \"Self-Employed\" and \"Salaried\". A good strategy to fill missing 'Emplyee_Type' values is to check the 'Employee_code_ID' and fill missing values accordingly as the mode of 'Employee_Type' for corresponding 'Employee_code_ID'. For example, 62 people with missing Employee_Type have Employee_Code_ID as 908. Among remaining customers, 278 salaried individuals have code ID 908 and only 1 self-employed customer has code ID 908. This suggests that majority of Salaries employees have employee Code id 908. Therefore, it would be safe to mention 'Salaried' as the 'Employee_Type' for missing values with 'Employee_code_ID' of 908.\n",
    "3. Most customers have Disbursed amount and asset cost of 100,000 or less while these observations for others is much greater.\n",
    "4. Most borrowers are young while as the age increases the number of borrowers decreases.\n",
    "5. Most customers have very few primary or secondary accounts.\n",
    "6. Most customers have average account age and credit history length of less than 5 years.\n",
    "7. While 182543 are not defaulters, remaining 50611 are defaulters and need to be identified using appropriate model.\n",
    "8. Customers who take survice from certain vehicle manufacturers and suppliers have higher tendency to default compared to other manfucturers and suppliers\n",
    "9. Customers with higher loan to value of asset ratio have higher tendency to default.\n",
    "10. Customers with higher disbursed amount have higher tendency to default.\n",
    "11. Though age distribution of defaulters and non-defaulters is similar, the boxplots suggest that the age distrbution of defaulters tends to be marginally lower compared to no-defaulters.\n",
    "12. While all the customers presented their mobile number, most of them presented their Aadhar card for proof (84.03%) and some others (14.49%) presented their Voter ID. However, very few customers present their Driving License, PAN card or passport.\n"
   ]
  },
  {
   "cell_type": "markdown",
   "id": "e4087e5f",
   "metadata": {},
   "source": [
    "## Week 2: Performing EDA and Modeling"
   ]
  },
  {
   "cell_type": "markdown",
   "id": "79c27558",
   "metadata": {},
   "source": [
    "### 1. Study the credit bureau score distribution. Compare the distribution for defaulters vs. non-defaulters. Explore in detail."
   ]
  },
  {
   "cell_type": "code",
   "execution_count": 118,
   "id": "ae295506",
   "metadata": {},
   "outputs": [
    {
     "data": {
      "image/png": "[encoded data removed]",
      "text/plain": [
       "<Figure size 720x432 with 1 Axes>"
      ]
     },
     "metadata": {
      "needs_background": "light"
     },
     "output_type": "display_data"
    }
   ],
   "source": [
    "fig35,ax35=plt.subplots(1,1,figsize=(10,6));\n",
    "loan_df.PERFORM_CNS_SCORE.hist(ax=ax35,bins=50);"
   ]
  },
  {
   "cell_type": "code",
   "execution_count": 119,
   "id": "1d041b7b",
   "metadata": {},
   "outputs": [
    {
     "data": {
      "image/png": "[encoded data removed]",
      "text/plain": [
       "<Figure size 720x432 with 1 Axes>"
      ]
     },
     "metadata": {
      "needs_background": "light"
     },
     "output_type": "display_data"
    }
   ],
   "source": [
    "fig36,ax36=plt.subplots(1,1,figsize=(10,6));\n",
    "ax36.boxplot([loan_df.PERFORM_CNS_SCORE[loan_df.loan_default==0],loan_df.PERFORM_CNS_SCORE[loan_df.loan_default==1]]); \n",
    "ax36.set_xticklabels(['Non Defaulters','Defaulters'],size=10);\n",
    "ax36.set_ylabel('Bureau Score',size=20);"
   ]
  },
  {
   "cell_type": "code",
   "execution_count": null,
   "id": "6bc5b250",
   "metadata": {
    "scrolled": true
   },
   "outputs": [],
   "source": []
  },
  {
   "cell_type": "code",
   "execution_count": 120,
   "id": "a568c55e",
   "metadata": {
    "scrolled": false
   },
   "outputs": [
    {
     "data": {
      "image/png": "[encoded data removed]",
      "text/plain": [
       "<Figure size 720x432 with 1 Axes>"
      ]
     },
     "metadata": {
      "needs_background": "light"
     },
     "output_type": "display_data"
    }
   ],
   "source": [
    "fig36,ax36=plt.subplots(1,1,figsize=(10,6));\n",
    "ax36.boxplot([loan_df.PERFORM_CNS_SCORE[(loan_df.loan_default==0)&(loan_df.PERFORM_CNS_SCORE>=300)],loan_df.PERFORM_CNS_SCORE[(loan_df.loan_default==1)&(loan_df.PERFORM_CNS_SCORE>=300)]]); \n",
    "ax36.set_xticklabels(['Non Defaulters','Defaulters'],size=10);\n",
    "ax36.set_ylabel('Bureau Score (filtered values>=300)',size=20);"
   ]
  },
  {
   "cell_type": "code",
   "execution_count": 121,
   "id": "2e76ac7e",
   "metadata": {},
   "outputs": [
    {
     "data": {
      "text/plain": [
       "SpearmanrResult(correlation=-0.12443220768045092, pvalue=0.0)"
      ]
     },
     "execution_count": 121,
     "metadata": {},
     "output_type": "execute_result"
    }
   ],
   "source": [
    "spearmanr(loan_df.PERFORM_CNS_SCORE[(loan_df.PERFORM_CNS_SCORE>=300)],loan_df.loan_default[(loan_df.PERFORM_CNS_SCORE>=300)])"
   ]
  },
  {
   "cell_type": "code",
   "execution_count": 122,
   "id": "3c7de120",
   "metadata": {
    "scrolled": false
   },
   "outputs": [
    {
     "data": {
      "text/plain": [
       "No Bureau History Available                                116950\n",
       "C-Very Low Risk                                             16045\n",
       "A-Very Low Risk                                             14124\n",
       "D-Very Low Risk                                             11358\n",
       "B-Very Low Risk                                              9201\n",
       "M-Very High Risk                                             8776\n",
       "F-Low Risk                                                   8485\n",
       "K-High Risk                                                  8277\n",
       "H-Medium Risk                                                6855\n",
       "E-Low Risk                                                   5821\n",
       "I-Medium Risk                                                5557\n",
       "G-Low Risk                                                   3988\n",
       "Not Scored: Sufficient History Not Available                 3765\n",
       "J-High Risk                                                  3748\n",
       "Not Scored: Not Enough Info available on the customer        3672\n",
       "Not Scored: No Activity seen on the customer (Inactive)      2885\n",
       "Not Scored: No Updates available in last 36 months           1534\n",
       "L-Very High Risk                                             1134\n",
       "Not Scored: Only a Guarantor                                  976\n",
       "Not Scored: More than 50 active Accounts found                  3\n",
       "Name: PERFORM_CNS_SCORE_DESCRIPTION, dtype: int64"
      ]
     },
     "execution_count": 122,
     "metadata": {},
     "output_type": "execute_result"
    }
   ],
   "source": [
    "loan_df.PERFORM_CNS_SCORE_DESCRIPTION.value_counts()"
   ]
  },
  {
   "cell_type": "code",
   "execution_count": 123,
   "id": "4cab29d8",
   "metadata": {},
   "outputs": [],
   "source": [
    "non_default_bureau_rating=loan_df.PERFORM_CNS_SCORE_DESCRIPTION[(loan_df.loan_default==0)].value_counts()"
   ]
  },
  {
   "cell_type": "code",
   "execution_count": 124,
   "id": "f711c9c4",
   "metadata": {},
   "outputs": [],
   "source": [
    "default_bureau_rating=loan_df.PERFORM_CNS_SCORE_DESCRIPTION[(loan_df.loan_default==1)].value_counts()"
   ]
  },
  {
   "cell_type": "code",
   "execution_count": 125,
   "id": "f959a0a5",
   "metadata": {},
   "outputs": [],
   "source": [
    "bureau_rating_dist=pd.merge(non_default_bureau_rating,default_bureau_rating ,how='left',left_index=True,right_index=True);  "
   ]
  },
  {
   "cell_type": "code",
   "execution_count": 126,
   "id": "4f1e0bde",
   "metadata": {},
   "outputs": [
    {
     "data": {
      "text/html": [
       "<div>\n",
       "<style scoped>\n",
       "    .dataframe tbody tr th:only-of-type {\n",
       "        vertical-align: middle;\n",
       "    }\n",
       "\n",
       "    .dataframe tbody tr th {\n",
       "        vertical-align: top;\n",
       "    }\n",
       "\n",
       "    .dataframe thead th {\n",
       "        text-align: right;\n",
       "    }\n",
       "</style>\n",
       "<table border=\"1\" class=\"dataframe\">\n",
       "  <thead>\n",
       "    <tr style=\"text-align: right;\">\n",
       "      <th></th>\n",
       "      <th>PERFORM_CNS_SCORE_DESCRIPTION_x</th>\n",
       "      <th>PERFORM_CNS_SCORE_DESCRIPTION_y</th>\n",
       "    </tr>\n",
       "  </thead>\n",
       "  <tbody>\n",
       "    <tr>\n",
       "      <th>No Bureau History Available</th>\n",
       "      <td>89898</td>\n",
       "      <td>27052.0</td>\n",
       "    </tr>\n",
       "    <tr>\n",
       "      <th>C-Very Low Risk</th>\n",
       "      <td>13275</td>\n",
       "      <td>2770.0</td>\n",
       "    </tr>\n",
       "    <tr>\n",
       "      <th>A-Very Low Risk</th>\n",
       "      <td>11783</td>\n",
       "      <td>2341.0</td>\n",
       "    </tr>\n",
       "    <tr>\n",
       "      <th>D-Very Low Risk</th>\n",
       "      <td>9659</td>\n",
       "      <td>1699.0</td>\n",
       "    </tr>\n",
       "    <tr>\n",
       "      <th>B-Very Low Risk</th>\n",
       "      <td>7993</td>\n",
       "      <td>1208.0</td>\n",
       "    </tr>\n",
       "    <tr>\n",
       "      <th>F-Low Risk</th>\n",
       "      <td>6905</td>\n",
       "      <td>1580.0</td>\n",
       "    </tr>\n",
       "    <tr>\n",
       "      <th>M-Very High Risk</th>\n",
       "      <td>6103</td>\n",
       "      <td>2673.0</td>\n",
       "    </tr>\n",
       "    <tr>\n",
       "      <th>K-High Risk</th>\n",
       "      <td>5975</td>\n",
       "      <td>2302.0</td>\n",
       "    </tr>\n",
       "    <tr>\n",
       "      <th>H-Medium Risk</th>\n",
       "      <td>5197</td>\n",
       "      <td>1658.0</td>\n",
       "    </tr>\n",
       "    <tr>\n",
       "      <th>E-Low Risk</th>\n",
       "      <td>4821</td>\n",
       "      <td>1000.0</td>\n",
       "    </tr>\n",
       "    <tr>\n",
       "      <th>I-Medium Risk</th>\n",
       "      <td>4042</td>\n",
       "      <td>1515.0</td>\n",
       "    </tr>\n",
       "    <tr>\n",
       "      <th>G-Low Risk</th>\n",
       "      <td>3202</td>\n",
       "      <td>786.0</td>\n",
       "    </tr>\n",
       "    <tr>\n",
       "      <th>Not Scored: Not Enough Info available on the customer</th>\n",
       "      <td>2902</td>\n",
       "      <td>770.0</td>\n",
       "    </tr>\n",
       "    <tr>\n",
       "      <th>Not Scored: Sufficient History Not Available</th>\n",
       "      <td>2802</td>\n",
       "      <td>963.0</td>\n",
       "    </tr>\n",
       "    <tr>\n",
       "      <th>J-High Risk</th>\n",
       "      <td>2802</td>\n",
       "      <td>946.0</td>\n",
       "    </tr>\n",
       "    <tr>\n",
       "      <th>Not Scored: No Activity seen on the customer (Inactive)</th>\n",
       "      <td>2355</td>\n",
       "      <td>530.0</td>\n",
       "    </tr>\n",
       "    <tr>\n",
       "      <th>Not Scored: No Updates available in last 36 months</th>\n",
       "      <td>1242</td>\n",
       "      <td>292.0</td>\n",
       "    </tr>\n",
       "    <tr>\n",
       "      <th>L-Very High Risk</th>\n",
       "      <td>816</td>\n",
       "      <td>318.0</td>\n",
       "    </tr>\n",
       "    <tr>\n",
       "      <th>Not Scored: Only a Guarantor</th>\n",
       "      <td>768</td>\n",
       "      <td>208.0</td>\n",
       "    </tr>\n",
       "    <tr>\n",
       "      <th>Not Scored: More than 50 active Accounts found</th>\n",
       "      <td>3</td>\n",
       "      <td>NaN</td>\n",
       "    </tr>\n",
       "  </tbody>\n",
       "</table>\n",
       "</div>"
      ],
      "text/plain": [
       "                                                    PERFORM_CNS_SCORE_DESCRIPTION_x  \\\n",
       "No Bureau History Available                                                   89898   \n",
       "C-Very Low Risk                                                               13275   \n",
       "A-Very Low Risk                                                               11783   \n",
       "D-Very Low Risk                                                                9659   \n",
       "B-Very Low Risk                                                                7993   \n",
       "F-Low Risk                                                                     6905   \n",
       "M-Very High Risk                                                               6103   \n",
       "K-High Risk                                                                    5975   \n",
       "H-Medium Risk                                                                  5197   \n",
       "E-Low Risk                                                                     4821   \n",
       "I-Medium Risk                                                                  4042   \n",
       "G-Low Risk                                                                     3202   \n",
       "Not Scored: Not Enough Info available on the cu...                             2902   \n",
       "Not Scored: Sufficient History Not Available                                   2802   \n",
       "J-High Risk                                                                    2802   \n",
       "Not Scored: No Activity seen on the customer (I...                             2355   \n",
       "Not Scored: No Updates available in last 36 months                             1242   \n",
       "L-Very High Risk                                                                816   \n",
       "Not Scored: Only a Guarantor                                                    768   \n",
       "Not Scored: More than 50 active Accounts found                                    3   \n",
       "\n",
       "                                                    PERFORM_CNS_SCORE_DESCRIPTION_y  \n",
       "No Bureau History Available                                                 27052.0  \n",
       "C-Very Low Risk                                                              2770.0  \n",
       "A-Very Low Risk                                                              2341.0  \n",
       "D-Very Low Risk                                                              1699.0  \n",
       "B-Very Low Risk                                                              1208.0  \n",
       "F-Low Risk                                                                   1580.0  \n",
       "M-Very High Risk                                                             2673.0  \n",
       "K-High Risk                                                                  2302.0  \n",
       "H-Medium Risk                                                                1658.0  \n",
       "E-Low Risk                                                                   1000.0  \n",
       "I-Medium Risk                                                                1515.0  \n",
       "G-Low Risk                                                                    786.0  \n",
       "Not Scored: Not Enough Info available on the cu...                            770.0  \n",
       "Not Scored: Sufficient History Not Available                                  963.0  \n",
       "J-High Risk                                                                   946.0  \n",
       "Not Scored: No Activity seen on the customer (I...                            530.0  \n",
       "Not Scored: No Updates available in last 36 months                            292.0  \n",
       "L-Very High Risk                                                              318.0  \n",
       "Not Scored: Only a Guarantor                                                  208.0  \n",
       "Not Scored: More than 50 active Accounts found                                  NaN  "
      ]
     },
     "execution_count": 126,
     "metadata": {},
     "output_type": "execute_result"
    }
   ],
   "source": [
    "bureau_rating_dist"
   ]
  },
  {
   "cell_type": "code",
   "execution_count": 127,
   "id": "fd3bb25a",
   "metadata": {},
   "outputs": [],
   "source": [
    "bureau_rating_dist.fillna(0,inplace=True);\n",
    "bureau_rating_dist.rename(columns={'PERFORM_CNS_SCORE_DESCRIPTION_x':'num_non_defaulters','PERFORM_CNS_SCORE_DESCRIPTION_y':'num_defaulters'},inplace=True)\n",
    "bureau_rating_dist.sort_index(inplace=True)"
   ]
  },
  {
   "cell_type": "code",
   "execution_count": 128,
   "id": "6429e422",
   "metadata": {},
   "outputs": [],
   "source": [
    "bureau_rating_dist['defaulter_ratio']=bureau_rating_dist.num_defaulters/(bureau_rating_dist.num_non_defaulters+bureau_rating_dist.num_defaulters);\n",
    "bureau_rating_dist.sort_values(by=['defaulter_ratio'],ascending=False,inplace=True)"
   ]
  },
  {
   "cell_type": "code",
   "execution_count": 129,
   "id": "10d2b7d8",
   "metadata": {},
   "outputs": [
    {
     "data": {
      "text/html": [
       "<div>\n",
       "<style scoped>\n",
       "    .dataframe tbody tr th:only-of-type {\n",
       "        vertical-align: middle;\n",
       "    }\n",
       "\n",
       "    .dataframe tbody tr th {\n",
       "        vertical-align: top;\n",
       "    }\n",
       "\n",
       "    .dataframe thead th {\n",
       "        text-align: right;\n",
       "    }\n",
       "</style>\n",
       "<table border=\"1\" class=\"dataframe\">\n",
       "  <thead>\n",
       "    <tr style=\"text-align: right;\">\n",
       "      <th></th>\n",
       "      <th>num_non_defaulters</th>\n",
       "      <th>num_defaulters</th>\n",
       "      <th>defaulter_ratio</th>\n",
       "    </tr>\n",
       "  </thead>\n",
       "  <tbody>\n",
       "    <tr>\n",
       "      <th>M-Very High Risk</th>\n",
       "      <td>6103</td>\n",
       "      <td>2673.0</td>\n",
       "      <td>0.304581</td>\n",
       "    </tr>\n",
       "    <tr>\n",
       "      <th>L-Very High Risk</th>\n",
       "      <td>816</td>\n",
       "      <td>318.0</td>\n",
       "      <td>0.280423</td>\n",
       "    </tr>\n",
       "    <tr>\n",
       "      <th>K-High Risk</th>\n",
       "      <td>5975</td>\n",
       "      <td>2302.0</td>\n",
       "      <td>0.278120</td>\n",
       "    </tr>\n",
       "    <tr>\n",
       "      <th>I-Medium Risk</th>\n",
       "      <td>4042</td>\n",
       "      <td>1515.0</td>\n",
       "      <td>0.272629</td>\n",
       "    </tr>\n",
       "    <tr>\n",
       "      <th>Not Scored: Sufficient History Not Available</th>\n",
       "      <td>2802</td>\n",
       "      <td>963.0</td>\n",
       "      <td>0.255777</td>\n",
       "    </tr>\n",
       "    <tr>\n",
       "      <th>J-High Risk</th>\n",
       "      <td>2802</td>\n",
       "      <td>946.0</td>\n",
       "      <td>0.252401</td>\n",
       "    </tr>\n",
       "    <tr>\n",
       "      <th>H-Medium Risk</th>\n",
       "      <td>5197</td>\n",
       "      <td>1658.0</td>\n",
       "      <td>0.241867</td>\n",
       "    </tr>\n",
       "    <tr>\n",
       "      <th>No Bureau History Available</th>\n",
       "      <td>89898</td>\n",
       "      <td>27052.0</td>\n",
       "      <td>0.231313</td>\n",
       "    </tr>\n",
       "    <tr>\n",
       "      <th>Not Scored: Only a Guarantor</th>\n",
       "      <td>768</td>\n",
       "      <td>208.0</td>\n",
       "      <td>0.213115</td>\n",
       "    </tr>\n",
       "    <tr>\n",
       "      <th>Not Scored: Not Enough Info available on the customer</th>\n",
       "      <td>2902</td>\n",
       "      <td>770.0</td>\n",
       "      <td>0.209695</td>\n",
       "    </tr>\n",
       "    <tr>\n",
       "      <th>G-Low Risk</th>\n",
       "      <td>3202</td>\n",
       "      <td>786.0</td>\n",
       "      <td>0.197091</td>\n",
       "    </tr>\n",
       "    <tr>\n",
       "      <th>Not Scored: No Updates available in last 36 months</th>\n",
       "      <td>1242</td>\n",
       "      <td>292.0</td>\n",
       "      <td>0.190352</td>\n",
       "    </tr>\n",
       "    <tr>\n",
       "      <th>F-Low Risk</th>\n",
       "      <td>6905</td>\n",
       "      <td>1580.0</td>\n",
       "      <td>0.186211</td>\n",
       "    </tr>\n",
       "    <tr>\n",
       "      <th>Not Scored: No Activity seen on the customer (Inactive)</th>\n",
       "      <td>2355</td>\n",
       "      <td>530.0</td>\n",
       "      <td>0.183709</td>\n",
       "    </tr>\n",
       "    <tr>\n",
       "      <th>C-Very Low Risk</th>\n",
       "      <td>13275</td>\n",
       "      <td>2770.0</td>\n",
       "      <td>0.172639</td>\n",
       "    </tr>\n",
       "    <tr>\n",
       "      <th>E-Low Risk</th>\n",
       "      <td>4821</td>\n",
       "      <td>1000.0</td>\n",
       "      <td>0.171792</td>\n",
       "    </tr>\n",
       "    <tr>\n",
       "      <th>A-Very Low Risk</th>\n",
       "      <td>11783</td>\n",
       "      <td>2341.0</td>\n",
       "      <td>0.165746</td>\n",
       "    </tr>\n",
       "    <tr>\n",
       "      <th>D-Very Low Risk</th>\n",
       "      <td>9659</td>\n",
       "      <td>1699.0</td>\n",
       "      <td>0.149586</td>\n",
       "    </tr>\n",
       "    <tr>\n",
       "      <th>B-Very Low Risk</th>\n",
       "      <td>7993</td>\n",
       "      <td>1208.0</td>\n",
       "      <td>0.131290</td>\n",
       "    </tr>\n",
       "    <tr>\n",
       "      <th>Not Scored: More than 50 active Accounts found</th>\n",
       "      <td>3</td>\n",
       "      <td>0.0</td>\n",
       "      <td>0.000000</td>\n",
       "    </tr>\n",
       "  </tbody>\n",
       "</table>\n",
       "</div>"
      ],
      "text/plain": [
       "                                                    num_non_defaulters  \\\n",
       "M-Very High Risk                                                  6103   \n",
       "L-Very High Risk                                                   816   \n",
       "K-High Risk                                                       5975   \n",
       "I-Medium Risk                                                     4042   \n",
       "Not Scored: Sufficient History Not Available                      2802   \n",
       "J-High Risk                                                       2802   \n",
       "H-Medium Risk                                                     5197   \n",
       "No Bureau History Available                                      89898   \n",
       "Not Scored: Only a Guarantor                                       768   \n",
       "Not Scored: Not Enough Info available on the cu...                2902   \n",
       "G-Low Risk                                                        3202   \n",
       "Not Scored: No Updates available in last 36 months                1242   \n",
       "F-Low Risk                                                        6905   \n",
       "Not Scored: No Activity seen on the customer (I...                2355   \n",
       "C-Very Low Risk                                                  13275   \n",
       "E-Low Risk                                                        4821   \n",
       "A-Very Low Risk                                                  11783   \n",
       "D-Very Low Risk                                                   9659   \n",
       "B-Very Low Risk                                                   7993   \n",
       "Not Scored: More than 50 active Accounts found                       3   \n",
       "\n",
       "                                                    num_defaulters  \\\n",
       "M-Very High Risk                                            2673.0   \n",
       "L-Very High Risk                                             318.0   \n",
       "K-High Risk                                                 2302.0   \n",
       "I-Medium Risk                                               1515.0   \n",
       "Not Scored: Sufficient History Not Available                 963.0   \n",
       "J-High Risk                                                  946.0   \n",
       "H-Medium Risk                                               1658.0   \n",
       "No Bureau History Available                                27052.0   \n",
       "Not Scored: Only a Guarantor                                 208.0   \n",
       "Not Scored: Not Enough Info available on the cu...           770.0   \n",
       "G-Low Risk                                                   786.0   \n",
       "Not Scored: No Updates available in last 36 months           292.0   \n",
       "F-Low Risk                                                  1580.0   \n",
       "Not Scored: No Activity seen on the customer (I...           530.0   \n",
       "C-Very Low Risk                                             2770.0   \n",
       "E-Low Risk                                                  1000.0   \n",
       "A-Very Low Risk                                             2341.0   \n",
       "D-Very Low Risk                                             1699.0   \n",
       "B-Very Low Risk                                             1208.0   \n",
       "Not Scored: More than 50 active Accounts found                 0.0   \n",
       "\n",
       "                                                    defaulter_ratio  \n",
       "M-Very High Risk                                           0.304581  \n",
       "L-Very High Risk                                           0.280423  \n",
       "K-High Risk                                                0.278120  \n",
       "I-Medium Risk                                              0.272629  \n",
       "Not Scored: Sufficient History Not Available               0.255777  \n",
       "J-High Risk                                                0.252401  \n",
       "H-Medium Risk                                              0.241867  \n",
       "No Bureau History Available                                0.231313  \n",
       "Not Scored: Only a Guarantor                               0.213115  \n",
       "Not Scored: Not Enough Info available on the cu...         0.209695  \n",
       "G-Low Risk                                                 0.197091  \n",
       "Not Scored: No Updates available in last 36 months         0.190352  \n",
       "F-Low Risk                                                 0.186211  \n",
       "Not Scored: No Activity seen on the customer (I...         0.183709  \n",
       "C-Very Low Risk                                            0.172639  \n",
       "E-Low Risk                                                 0.171792  \n",
       "A-Very Low Risk                                            0.165746  \n",
       "D-Very Low Risk                                            0.149586  \n",
       "B-Very Low Risk                                            0.131290  \n",
       "Not Scored: More than 50 active Accounts found             0.000000  "
      ]
     },
     "execution_count": 129,
     "metadata": {},
     "output_type": "execute_result"
    }
   ],
   "source": [
    "bureau_rating_dist"
   ]
  },
  {
   "cell_type": "markdown",
   "id": "b0d407b4",
   "metadata": {},
   "source": [
    "#### Boxplots show that non-defaulter have higher average bureau score compared to defaulters. Further, those with bureau rating description indicating high-risk profile of customer showcase more defaulters while those indicating low risk profile showcase fewer defaulters."
   ]
  },
  {
   "cell_type": "markdown",
   "id": "fa0933c7",
   "metadata": {},
   "source": [
    "### 2. Explore the primary and secondary account details. Is the information in some way related to the loan default probability?"
   ]
  },
  {
   "cell_type": "code",
   "execution_count": 130,
   "id": "2f415970",
   "metadata": {},
   "outputs": [
    {
     "data": {
      "image/png": "[encoded data removed]",
      "text/plain": [
       "<Figure size 720x432 with 1 Axes>"
      ]
     },
     "metadata": {
      "needs_background": "light"
     },
     "output_type": "display_data"
    }
   ],
   "source": [
    "fig37,ax37=plt.subplots(1,1,figsize=(10,6));\n",
    "ax37.boxplot([loan_df.PRI_NO_OF_ACCTS[loan_df.loan_default==0],loan_df.PRI_NO_OF_ACCTS[loan_df.loan_default==1]]);\n",
    "ax37.set_xticklabels(['Non Defaulters','Defaulters'],size=10);\n",
    "ax37.set_ylabel('Number of primary accounts',size=20);"
   ]
  },
  {
   "cell_type": "code",
   "execution_count": 131,
   "id": "29d2fae2",
   "metadata": {},
   "outputs": [
    {
     "data": {
      "image/png": "[encoded data removed]",
      "text/plain": [
       "<Figure size 720x432 with 1 Axes>"
      ]
     },
     "metadata": {
      "needs_background": "light"
     },
     "output_type": "display_data"
    }
   ],
   "source": [
    "fig38,ax38=plt.subplots(1,1,figsize=(10,6));\n",
    "ax38.boxplot([loan_df.PRI_NO_OF_ACCTS[loan_df.loan_default==0],loan_df.PRI_NO_OF_ACCTS[loan_df.loan_default==1]]);\n",
    "ax38.set_xticklabels(['Non Defaulters','Defaulters'],size=10);\n",
    "ax38.set_ylabel('Number of primary accounts',size=20);\n",
    "ax38.set_ylim([0,10]);"
   ]
  },
  {
   "cell_type": "code",
   "execution_count": 132,
   "id": "bd32282d",
   "metadata": {},
   "outputs": [
    {
     "data": {
      "image/png": "[encoded data removed]",
      "text/plain": [
       "<Figure size 720x432 with 1 Axes>"
      ]
     },
     "metadata": {
      "needs_background": "light"
     },
     "output_type": "display_data"
    }
   ],
   "source": [
    "fig39,ax39=plt.subplots(1,1,figsize=(10,6));\n",
    "ax39.boxplot([loan_df.PRI_ACTIVE_ACCTS[loan_df.loan_default==0],loan_df.PRI_ACTIVE_ACCTS[loan_df.loan_default==1]]);\n",
    "ax39.set_xticklabels(['Non Defaulters','Defaulters'],size=10);\n",
    "ax39.set_ylabel('Number of primary active accounts',size=20);"
   ]
  },
  {
   "cell_type": "code",
   "execution_count": 133,
   "id": "517a8a7a",
   "metadata": {},
   "outputs": [
    {
     "data": {
      "image/png": "[encoded data removed]",
      "text/plain": [
       "<Figure size 720x432 with 1 Axes>"
      ]
     },
     "metadata": {
      "needs_background": "light"
     },
     "output_type": "display_data"
    }
   ],
   "source": [
    "fig40,ax40=plt.subplots(1,1,figsize=(10,6));\n",
    "ax40.boxplot([loan_df.PRI_CURRENT_BALANCE[loan_df.loan_default==0],loan_df.PRI_CURRENT_BALANCE[loan_df.loan_default==1]]);\n",
    "ax40.set_xticklabels(['Non Defaulters','Defaulters'],size=10);\n",
    "ax40.set_ylabel('Primary account balance',size=20);"
   ]
  },
  {
   "cell_type": "code",
   "execution_count": 134,
   "id": "58a15117",
   "metadata": {},
   "outputs": [
    {
     "data": {
      "image/png": "[encoded data removed]",
      "text/plain": [
       "<Figure size 720x432 with 1 Axes>"
      ]
     },
     "metadata": {
      "needs_background": "light"
     },
     "output_type": "display_data"
    }
   ],
   "source": [
    "fig41,ax41=plt.subplots(1,1,figsize=(10,6));\n",
    "ax41.boxplot([loan_df.PRI_CURRENT_BALANCE[loan_df.loan_default==0],loan_df.PRI_CURRENT_BALANCE[loan_df.loan_default==1]]);\n",
    "ax41.set_xticklabels(['Non Defaulters','Defaulters'],size=10);\n",
    "ax41.set_ylabel('Primary account balance',size=20);\n",
    "ax41.set_ylim([-100000,100000]);"
   ]
  },
  {
   "cell_type": "code",
   "execution_count": 135,
   "id": "685580ce",
   "metadata": {},
   "outputs": [
    {
     "data": {
      "image/png": "[encoded data removed]",
      "text/plain": [
       "<Figure size 720x432 with 1 Axes>"
      ]
     },
     "metadata": {
      "needs_background": "light"
     },
     "output_type": "display_data"
    }
   ],
   "source": [
    "fig42,ax42=plt.subplots(1,1,figsize=(10,6));\n",
    "ax42.boxplot([loan_df.PRI_DISBURSED_AMOUNT[loan_df.loan_default==0],loan_df.PRI_DISBURSED_AMOUNT[loan_df.loan_default==1]]);\n",
    "ax42.set_xticklabels(['Non Defaulters','Defaulters'],size=10);\n",
    "ax42.set_ylabel('Primary disbursed amount',size=20);\n",
    "ax42.set_ylim([-10000,300000]);"
   ]
  },
  {
   "cell_type": "code",
   "execution_count": 136,
   "id": "04ea2cf8",
   "metadata": {},
   "outputs": [
    {
     "data": {
      "image/png": "[encoded data removed]",
      "text/plain": [
       "<Figure size 720x432 with 1 Axes>"
      ]
     },
     "metadata": {
      "needs_background": "light"
     },
     "output_type": "display_data"
    }
   ],
   "source": [
    "fig43,ax43=plt.subplots(1,1,figsize=(10,6));\n",
    "ax43.boxplot([loan_df.PRI_SANCTIONED_AMOUNT[loan_df.loan_default==0],loan_df.PRI_SANCTIONED_AMOUNT[loan_df.loan_default==1]]);\n",
    "ax43.set_xticklabels(['Non Defaulters','Defaulters'],size=10);\n",
    "ax43.set_ylabel('Primary disbursed amount',size=20);\n",
    "ax43.set_ylim([-10000,300000]);"
   ]
  },
  {
   "cell_type": "code",
   "execution_count": 137,
   "id": "8a2dbd35",
   "metadata": {},
   "outputs": [
    {
     "data": {
      "image/png": "[encoded data removed]",
      "text/plain": [
       "<Figure size 720x432 with 1 Axes>"
      ]
     },
     "metadata": {
      "needs_background": "light"
     },
     "output_type": "display_data"
    }
   ],
   "source": [
    "fig44,ax44=plt.subplots(1,1,figsize=(10,6));\n",
    "ax44.boxplot([loan_df.SEC_NO_OF_ACCTS[loan_df.loan_default==0],loan_df.SEC_NO_OF_ACCTS[loan_df.loan_default==1]]);\n",
    "ax44.set_xticklabels(['Non Defaulters','Defaulters'],size=10);\n",
    "ax44.set_ylabel('Number of secondary accounts',size=20);"
   ]
  },
  {
   "cell_type": "code",
   "execution_count": 138,
   "id": "48fc69a5",
   "metadata": {},
   "outputs": [
    {
     "data": {
      "image/png": "[encoded data removed]",
      "text/plain": [
       "<Figure size 720x432 with 1 Axes>"
      ]
     },
     "metadata": {
      "needs_background": "light"
     },
     "output_type": "display_data"
    }
   ],
   "source": [
    "fig45,ax45=plt.subplots(1,1,figsize=(10,6));\n",
    "ax45.boxplot([loan_df.SEC_CURRENT_BALANCE[loan_df.loan_default==0],loan_df.SEC_CURRENT_BALANCE[loan_df.loan_default==1]]);\n",
    "ax45.set_xticklabels(['Non Defaulters','Defaulters'],size=10);\n",
    "ax45.set_ylabel('Secondary account balance',size=20);"
   ]
  },
  {
   "cell_type": "code",
   "execution_count": null,
   "id": "9f296d9e",
   "metadata": {},
   "outputs": [],
   "source": []
  },
  {
   "cell_type": "code",
   "execution_count": null,
   "id": "f2018370",
   "metadata": {},
   "outputs": [],
   "source": []
  },
  {
   "cell_type": "markdown",
   "id": "7c9325c4",
   "metadata": {},
   "source": [
    "#### If we ignore few extreme outliers, non-defaulters tend to have more number of primary accounts with higher balance and are sanctioned and disbursed with greater amount compared to defaulters. \n",
    "#### Most customers (both defaulter and non-defaulter) do not have any secondary account. In case of few outliers, non-defaulters tend to have more number of secondary accounts with greater account balance"
   ]
  },
  {
   "cell_type": "markdown",
   "id": "42e137c4",
   "metadata": {},
   "source": [
    "### 3. Is there a difference between the sanctioned and disbursed amount of primary and secondary loans? Study the difference by providing appropriate statistics and graphs."
   ]
  },
  {
   "cell_type": "code",
   "execution_count": 139,
   "id": "e66ad3cf",
   "metadata": {
    "scrolled": false
   },
   "outputs": [
    {
     "data": {
      "image/png": "[encoded data removed]",
      "text/plain": [
       "<Figure size 720x432 with 1 Axes>"
      ]
     },
     "metadata": {
      "needs_background": "light"
     },
     "output_type": "display_data"
    }
   ],
   "source": [
    "fig46,ax46=plt.subplots(1,1,figsize=(10,6));\n",
    "(loan_df.PRI_SANCTIONED_AMOUNT-loan_df.PRI_DISBURSED_AMOUNT).plot.box(ax=ax46);"
   ]
  },
  {
   "cell_type": "code",
   "execution_count": 140,
   "id": "5d6a2c76",
   "metadata": {},
   "outputs": [
    {
     "data": {
      "image/png": "[encoded data removed]",
      "text/plain": [
       "<Figure size 720x432 with 1 Axes>"
      ]
     },
     "metadata": {
      "needs_background": "light"
     },
     "output_type": "display_data"
    }
   ],
   "source": [
    "fig47,ax47=plt.subplots(1,1,figsize=(10,6));\n",
    "(loan_df.SEC_SANCTIONED_AMOUNT-loan_df.SEC_DISBURSED_AMOUNT).plot.box(ax=ax47);"
   ]
  },
  {
   "cell_type": "markdown",
   "id": "1bee1f43",
   "metadata": {},
   "source": [
    "#### Though there is no difference between sanctioned and disbused amount for primary and secondary accounts of most customers, significant difference is observed for few customers."
   ]
  },
  {
   "cell_type": "markdown",
   "id": "1631c919",
   "metadata": {},
   "source": [
    "### 4. Do customer who make higher number of enquiries end up being higher risk candidates? "
   ]
  },
  {
   "cell_type": "code",
   "execution_count": 141,
   "id": "9065d5ac",
   "metadata": {},
   "outputs": [
    {
     "data": {
      "image/png": "[encoded data removed]",
      "text/plain": [
       "<Figure size 720x432 with 1 Axes>"
      ]
     },
     "metadata": {
      "needs_background": "light"
     },
     "output_type": "display_data"
    }
   ],
   "source": [
    "fig48,ax48=plt.subplots(1,1,figsize=(10,6));\n",
    "ax48.boxplot([loan_df.NO_OF_INQUIRIES[loan_df.loan_default==0],loan_df.NO_OF_INQUIRIES[loan_df.loan_default==1]]);\n",
    "ax48.set_xticklabels(['Non Defaulters','Defaulters'],size=10);\n",
    "ax48.set_ylabel('Number of inquiries',size=20);"
   ]
  },
  {
   "cell_type": "code",
   "execution_count": 142,
   "id": "5bc8b42b",
   "metadata": {},
   "outputs": [
    {
     "data": {
      "text/plain": [
       "36"
      ]
     },
     "execution_count": 142,
     "metadata": {},
     "output_type": "execute_result"
    }
   ],
   "source": [
    "max(loan_df.NO_OF_INQUIRIES[loan_df.loan_default==0])"
   ]
  },
  {
   "cell_type": "code",
   "execution_count": 143,
   "id": "2720ddd1",
   "metadata": {
    "scrolled": true
   },
   "outputs": [
    {
     "data": {
      "text/plain": [
       "19"
      ]
     },
     "execution_count": 143,
     "metadata": {},
     "output_type": "execute_result"
    }
   ],
   "source": [
    "max(loan_df.NO_OF_INQUIRIES[loan_df.loan_default==1])"
   ]
  },
  {
   "cell_type": "markdown",
   "id": "42ee504d",
   "metadata": {},
   "source": [
    "#### Most customers do not make any inquiry. Among outliers, few defaulters and non-defaulter make inquires. However, only few non-defaulters in the data analyzed make more than 19 inquires."
   ]
  },
  {
   "cell_type": "markdown",
   "id": "3a91376d",
   "metadata": {},
   "source": [
    "### 5. Is credit history, that is new loans in last six months, loans defaulted in last six months, time since first loan, etc., a significant factor in estimating probability of loan defaulters?"
   ]
  },
  {
   "cell_type": "code",
   "execution_count": 144,
   "id": "15d8fb92",
   "metadata": {},
   "outputs": [
    {
     "data": {
      "image/png": "[encoded data removed]",
      "text/plain": [
       "<Figure size 720x432 with 1 Axes>"
      ]
     },
     "metadata": {
      "needs_background": "light"
     },
     "output_type": "display_data"
    }
   ],
   "source": [
    "fig49,ax49=plt.subplots(1,1,figsize=(10,6));\n",
    "ax49.boxplot([loan_df.NEW_ACCTS_IN_LAST_SIX_MONTHS[loan_df.loan_default==0],loan_df.NEW_ACCTS_IN_LAST_SIX_MONTHS[loan_df.loan_default==1]]);\n",
    "ax49.set_xticklabels(['Non Defaulters','Defaulters'],size=10);\n",
    "ax49.set_ylabel('New loans in last 6 months',size=20);"
   ]
  },
  {
   "cell_type": "code",
   "execution_count": 145,
   "id": "932a1522",
   "metadata": {},
   "outputs": [],
   "source": [
    "new_loan_non_def=loan_df.NEW_ACCTS_IN_LAST_SIX_MONTHS[loan_df.loan_default==0].value_counts();"
   ]
  },
  {
   "cell_type": "code",
   "execution_count": 146,
   "id": "e738a6ce",
   "metadata": {},
   "outputs": [],
   "source": [
    "new_loan_def=loan_df.NEW_ACCTS_IN_LAST_SIX_MONTHS[loan_df.loan_default==1].value_counts();"
   ]
  },
  {
   "cell_type": "code",
   "execution_count": 147,
   "id": "40818fa7",
   "metadata": {},
   "outputs": [],
   "source": [
    "new_loan_dist=pd.merge(new_loan_non_def,new_loan_def ,how='outer',left_index=True,right_index=True);  "
   ]
  },
  {
   "cell_type": "code",
   "execution_count": 148,
   "id": "dffdba60",
   "metadata": {},
   "outputs": [],
   "source": [
    "new_loan_dist.fillna(0,inplace=True);\n",
    "new_loan_dist.rename(columns={'NEW_ACCTS_IN_LAST_SIX_MONTHS_x':'num_non_defaulters','NEW_ACCTS_IN_LAST_SIX_MONTHS_y':'num_defaulters'},inplace=True)\n",
    "new_loan_dist.sort_index(inplace=True)"
   ]
  },
  {
   "cell_type": "code",
   "execution_count": 149,
   "id": "3800cf2b",
   "metadata": {},
   "outputs": [],
   "source": [
    "new_loan_dist['defaulter_ratio']=new_loan_dist.num_defaulters/(new_loan_dist.num_non_defaulters+new_loan_dist.num_defaulters);\n",
    "new_loan_dist.sort_values(by=['defaulter_ratio'],ascending=False,inplace=True)"
   ]
  },
  {
   "cell_type": "code",
   "execution_count": 150,
   "id": "625e04e2",
   "metadata": {
    "scrolled": false
   },
   "outputs": [
    {
     "data": {
      "text/html": [
       "<div>\n",
       "<style scoped>\n",
       "    .dataframe tbody tr th:only-of-type {\n",
       "        vertical-align: middle;\n",
       "    }\n",
       "\n",
       "    .dataframe tbody tr th {\n",
       "        vertical-align: top;\n",
       "    }\n",
       "\n",
       "    .dataframe thead th {\n",
       "        text-align: right;\n",
       "    }\n",
       "</style>\n",
       "<table border=\"1\" class=\"dataframe\">\n",
       "  <thead>\n",
       "    <tr style=\"text-align: right;\">\n",
       "      <th></th>\n",
       "      <th>num_non_defaulters</th>\n",
       "      <th>num_defaulters</th>\n",
       "      <th>defaulter_ratio</th>\n",
       "    </tr>\n",
       "  </thead>\n",
       "  <tbody>\n",
       "    <tr>\n",
       "      <th>19</th>\n",
       "      <td>0.0</td>\n",
       "      <td>2.0</td>\n",
       "      <td>1.000000</td>\n",
       "    </tr>\n",
       "    <tr>\n",
       "      <th>17</th>\n",
       "      <td>3.0</td>\n",
       "      <td>3.0</td>\n",
       "      <td>0.500000</td>\n",
       "    </tr>\n",
       "    <tr>\n",
       "      <th>15</th>\n",
       "      <td>1.0</td>\n",
       "      <td>1.0</td>\n",
       "      <td>0.500000</td>\n",
       "    </tr>\n",
       "    <tr>\n",
       "      <th>14</th>\n",
       "      <td>7.0</td>\n",
       "      <td>4.0</td>\n",
       "      <td>0.363636</td>\n",
       "    </tr>\n",
       "    <tr>\n",
       "      <th>20</th>\n",
       "      <td>2.0</td>\n",
       "      <td>1.0</td>\n",
       "      <td>0.333333</td>\n",
       "    </tr>\n",
       "    <tr>\n",
       "      <th>12</th>\n",
       "      <td>15.0</td>\n",
       "      <td>5.0</td>\n",
       "      <td>0.250000</td>\n",
       "    </tr>\n",
       "    <tr>\n",
       "      <th>0</th>\n",
       "      <td>140812.0</td>\n",
       "      <td>40682.0</td>\n",
       "      <td>0.224151</td>\n",
       "    </tr>\n",
       "    <tr>\n",
       "      <th>10</th>\n",
       "      <td>43.0</td>\n",
       "      <td>12.0</td>\n",
       "      <td>0.218182</td>\n",
       "    </tr>\n",
       "    <tr>\n",
       "      <th>1</th>\n",
       "      <td>25735.0</td>\n",
       "      <td>6364.0</td>\n",
       "      <td>0.198262</td>\n",
       "    </tr>\n",
       "    <tr>\n",
       "      <th>2</th>\n",
       "      <td>8931.0</td>\n",
       "      <td>2084.0</td>\n",
       "      <td>0.189197</td>\n",
       "    </tr>\n",
       "    <tr>\n",
       "      <th>4</th>\n",
       "      <td>1609.0</td>\n",
       "      <td>348.0</td>\n",
       "      <td>0.177823</td>\n",
       "    </tr>\n",
       "    <tr>\n",
       "      <th>3</th>\n",
       "      <td>3690.0</td>\n",
       "      <td>768.0</td>\n",
       "      <td>0.172275</td>\n",
       "    </tr>\n",
       "    <tr>\n",
       "      <th>6</th>\n",
       "      <td>398.0</td>\n",
       "      <td>82.0</td>\n",
       "      <td>0.170833</td>\n",
       "    </tr>\n",
       "    <tr>\n",
       "      <th>5</th>\n",
       "      <td>800.0</td>\n",
       "      <td>164.0</td>\n",
       "      <td>0.170124</td>\n",
       "    </tr>\n",
       "    <tr>\n",
       "      <th>16</th>\n",
       "      <td>5.0</td>\n",
       "      <td>1.0</td>\n",
       "      <td>0.166667</td>\n",
       "    </tr>\n",
       "    <tr>\n",
       "      <th>8</th>\n",
       "      <td>123.0</td>\n",
       "      <td>24.0</td>\n",
       "      <td>0.163265</td>\n",
       "    </tr>\n",
       "    <tr>\n",
       "      <th>11</th>\n",
       "      <td>26.0</td>\n",
       "      <td>5.0</td>\n",
       "      <td>0.161290</td>\n",
       "    </tr>\n",
       "    <tr>\n",
       "      <th>7</th>\n",
       "      <td>255.0</td>\n",
       "      <td>47.0</td>\n",
       "      <td>0.155629</td>\n",
       "    </tr>\n",
       "    <tr>\n",
       "      <th>9</th>\n",
       "      <td>67.0</td>\n",
       "      <td>12.0</td>\n",
       "      <td>0.151899</td>\n",
       "    </tr>\n",
       "    <tr>\n",
       "      <th>13</th>\n",
       "      <td>13.0</td>\n",
       "      <td>2.0</td>\n",
       "      <td>0.133333</td>\n",
       "    </tr>\n",
       "    <tr>\n",
       "      <th>18</th>\n",
       "      <td>2.0</td>\n",
       "      <td>0.0</td>\n",
       "      <td>0.000000</td>\n",
       "    </tr>\n",
       "    <tr>\n",
       "      <th>21</th>\n",
       "      <td>1.0</td>\n",
       "      <td>0.0</td>\n",
       "      <td>0.000000</td>\n",
       "    </tr>\n",
       "    <tr>\n",
       "      <th>22</th>\n",
       "      <td>1.0</td>\n",
       "      <td>0.0</td>\n",
       "      <td>0.000000</td>\n",
       "    </tr>\n",
       "    <tr>\n",
       "      <th>23</th>\n",
       "      <td>2.0</td>\n",
       "      <td>0.0</td>\n",
       "      <td>0.000000</td>\n",
       "    </tr>\n",
       "    <tr>\n",
       "      <th>28</th>\n",
       "      <td>1.0</td>\n",
       "      <td>0.0</td>\n",
       "      <td>0.000000</td>\n",
       "    </tr>\n",
       "    <tr>\n",
       "      <th>35</th>\n",
       "      <td>1.0</td>\n",
       "      <td>0.0</td>\n",
       "      <td>0.000000</td>\n",
       "    </tr>\n",
       "  </tbody>\n",
       "</table>\n",
       "</div>"
      ],
      "text/plain": [
       "    num_non_defaulters  num_defaulters  defaulter_ratio\n",
       "19                 0.0             2.0         1.000000\n",
       "17                 3.0             3.0         0.500000\n",
       "15                 1.0             1.0         0.500000\n",
       "14                 7.0             4.0         0.363636\n",
       "20                 2.0             1.0         0.333333\n",
       "12                15.0             5.0         0.250000\n",
       "0             140812.0         40682.0         0.224151\n",
       "10                43.0            12.0         0.218182\n",
       "1              25735.0          6364.0         0.198262\n",
       "2               8931.0          2084.0         0.189197\n",
       "4               1609.0           348.0         0.177823\n",
       "3               3690.0           768.0         0.172275\n",
       "6                398.0            82.0         0.170833\n",
       "5                800.0           164.0         0.170124\n",
       "16                 5.0             1.0         0.166667\n",
       "8                123.0            24.0         0.163265\n",
       "11                26.0             5.0         0.161290\n",
       "7                255.0            47.0         0.155629\n",
       "9                 67.0            12.0         0.151899\n",
       "13                13.0             2.0         0.133333\n",
       "18                 2.0             0.0         0.000000\n",
       "21                 1.0             0.0         0.000000\n",
       "22                 1.0             0.0         0.000000\n",
       "23                 2.0             0.0         0.000000\n",
       "28                 1.0             0.0         0.000000\n",
       "35                 1.0             0.0         0.000000"
      ]
     },
     "execution_count": 150,
     "metadata": {},
     "output_type": "execute_result"
    }
   ],
   "source": [
    "new_loan_dist"
   ]
  },
  {
   "cell_type": "code",
   "execution_count": 151,
   "id": "090215fc",
   "metadata": {},
   "outputs": [
    {
     "data": {
      "image/png": "[encoded data removed]",
      "text/plain": [
       "<Figure size 720x432 with 1 Axes>"
      ]
     },
     "metadata": {
      "needs_background": "light"
     },
     "output_type": "display_data"
    }
   ],
   "source": [
    "fig50,ax50=plt.subplots(1,1,figsize=(10,6));\n",
    "ax50.boxplot([loan_df.DELINQUENT_ACCTS_IN_LAST_SIX_MONTHS[loan_df.loan_default==0],loan_df.DELINQUENT_ACCTS_IN_LAST_SIX_MONTHS[loan_df.loan_default==1]]);\n",
    "ax50.set_xticklabels(['Non Defaulters','Defaulters'],size=10);\n",
    "ax50.set_ylabel('Loans defaulted in last 6 months',size=20);"
   ]
  },
  {
   "cell_type": "code",
   "execution_count": 152,
   "id": "3f19f7fd",
   "metadata": {},
   "outputs": [],
   "source": [
    "delinq_non_def=loan_df.DELINQUENT_ACCTS_IN_LAST_SIX_MONTHS[loan_df.loan_default==0].value_counts();\n",
    "delinq_def=loan_df.DELINQUENT_ACCTS_IN_LAST_SIX_MONTHS[loan_df.loan_default==1].value_counts();\n",
    "delinq_dist=pd.merge(delinq_non_def,delinq_def ,how='outer',left_index=True,right_index=True); "
   ]
  },
  {
   "cell_type": "code",
   "execution_count": 153,
   "id": "c46a136b",
   "metadata": {},
   "outputs": [],
   "source": [
    "delinq_dist.fillna(0,inplace=True);\n",
    "delinq_dist.rename(columns={'DELINQUENT_ACCTS_IN_LAST_SIX_MONTHS_x':'num_non_defaulters','DELINQUENT_ACCTS_IN_LAST_SIX_MONTHS_y':'num_defaulters'},inplace=True)\n",
    "delinq_dist.sort_index(inplace=True)"
   ]
  },
  {
   "cell_type": "code",
   "execution_count": 154,
   "id": "c7c83552",
   "metadata": {},
   "outputs": [],
   "source": [
    "delinq_dist['defaulter_ratio']=delinq_dist.num_defaulters/(delinq_dist.num_non_defaulters+delinq_dist.num_defaulters);\n",
    "delinq_dist.sort_values(by=['defaulter_ratio'],ascending=False,inplace=True)"
   ]
  },
  {
   "cell_type": "code",
   "execution_count": 155,
   "id": "f086b5bf",
   "metadata": {},
   "outputs": [
    {
     "data": {
      "text/html": [
       "<div>\n",
       "<style scoped>\n",
       "    .dataframe tbody tr th:only-of-type {\n",
       "        vertical-align: middle;\n",
       "    }\n",
       "\n",
       "    .dataframe tbody tr th {\n",
       "        vertical-align: top;\n",
       "    }\n",
       "\n",
       "    .dataframe thead th {\n",
       "        text-align: right;\n",
       "    }\n",
       "</style>\n",
       "<table border=\"1\" class=\"dataframe\">\n",
       "  <thead>\n",
       "    <tr style=\"text-align: right;\">\n",
       "      <th></th>\n",
       "      <th>num_non_defaulters</th>\n",
       "      <th>num_defaulters</th>\n",
       "      <th>defaulter_ratio</th>\n",
       "    </tr>\n",
       "  </thead>\n",
       "  <tbody>\n",
       "    <tr>\n",
       "      <th>12</th>\n",
       "      <td>1</td>\n",
       "      <td>2.0</td>\n",
       "      <td>0.666667</td>\n",
       "    </tr>\n",
       "    <tr>\n",
       "      <th>8</th>\n",
       "      <td>4</td>\n",
       "      <td>3.0</td>\n",
       "      <td>0.428571</td>\n",
       "    </tr>\n",
       "    <tr>\n",
       "      <th>7</th>\n",
       "      <td>8</td>\n",
       "      <td>5.0</td>\n",
       "      <td>0.384615</td>\n",
       "    </tr>\n",
       "    <tr>\n",
       "      <th>11</th>\n",
       "      <td>2</td>\n",
       "      <td>1.0</td>\n",
       "      <td>0.333333</td>\n",
       "    </tr>\n",
       "    <tr>\n",
       "      <th>4</th>\n",
       "      <td>96</td>\n",
       "      <td>42.0</td>\n",
       "      <td>0.304348</td>\n",
       "    </tr>\n",
       "    <tr>\n",
       "      <th>3</th>\n",
       "      <td>385</td>\n",
       "      <td>152.0</td>\n",
       "      <td>0.283054</td>\n",
       "    </tr>\n",
       "    <tr>\n",
       "      <th>2</th>\n",
       "      <td>1784</td>\n",
       "      <td>686.0</td>\n",
       "      <td>0.277733</td>\n",
       "    </tr>\n",
       "    <tr>\n",
       "      <th>5</th>\n",
       "      <td>42</td>\n",
       "      <td>16.0</td>\n",
       "      <td>0.275862</td>\n",
       "    </tr>\n",
       "    <tr>\n",
       "      <th>1</th>\n",
       "      <td>10922</td>\n",
       "      <td>4019.0</td>\n",
       "      <td>0.268991</td>\n",
       "    </tr>\n",
       "    <tr>\n",
       "      <th>0</th>\n",
       "      <td>169277</td>\n",
       "      <td>45682.0</td>\n",
       "      <td>0.212515</td>\n",
       "    </tr>\n",
       "    <tr>\n",
       "      <th>6</th>\n",
       "      <td>17</td>\n",
       "      <td>3.0</td>\n",
       "      <td>0.150000</td>\n",
       "    </tr>\n",
       "    <tr>\n",
       "      <th>9</th>\n",
       "      <td>2</td>\n",
       "      <td>0.0</td>\n",
       "      <td>0.000000</td>\n",
       "    </tr>\n",
       "    <tr>\n",
       "      <th>10</th>\n",
       "      <td>2</td>\n",
       "      <td>0.0</td>\n",
       "      <td>0.000000</td>\n",
       "    </tr>\n",
       "    <tr>\n",
       "      <th>20</th>\n",
       "      <td>1</td>\n",
       "      <td>0.0</td>\n",
       "      <td>0.000000</td>\n",
       "    </tr>\n",
       "  </tbody>\n",
       "</table>\n",
       "</div>"
      ],
      "text/plain": [
       "    num_non_defaulters  num_defaulters  defaulter_ratio\n",
       "12                   1             2.0         0.666667\n",
       "8                    4             3.0         0.428571\n",
       "7                    8             5.0         0.384615\n",
       "11                   2             1.0         0.333333\n",
       "4                   96            42.0         0.304348\n",
       "3                  385           152.0         0.283054\n",
       "2                 1784           686.0         0.277733\n",
       "5                   42            16.0         0.275862\n",
       "1                10922          4019.0         0.268991\n",
       "0               169277         45682.0         0.212515\n",
       "6                   17             3.0         0.150000\n",
       "9                    2             0.0         0.000000\n",
       "10                   2             0.0         0.000000\n",
       "20                   1             0.0         0.000000"
      ]
     },
     "execution_count": 155,
     "metadata": {},
     "output_type": "execute_result"
    }
   ],
   "source": [
    "delinq_dist"
   ]
  },
  {
   "cell_type": "code",
   "execution_count": 156,
   "id": "c3bc6323",
   "metadata": {},
   "outputs": [
    {
     "data": {
      "image/png": "[encoded data removed]",
      "text/plain": [
       "<Figure size 720x432 with 1 Axes>"
      ]
     },
     "metadata": {
      "needs_background": "light"
     },
     "output_type": "display_data"
    }
   ],
   "source": [
    "fig51,ax51=plt.subplots(1,1,figsize=(10,6));\n",
    "ax51.boxplot([loan_df.CREDIT_HISTORY_LENGTH[loan_df.loan_default==0],loan_df.CREDIT_HISTORY_LENGTH[loan_df.loan_default==1]]);\n",
    "ax51.set_xticklabels(['Non Defaulters','Defaulters'],size=10);\n",
    "ax51.set_ylabel('Loans defaulted in last 6 months',size=20);\n"
   ]
  },
  {
   "cell_type": "code",
   "execution_count": 157,
   "id": "fa4ccf29",
   "metadata": {},
   "outputs": [
    {
     "data": {
      "image/png": "[encoded data removed]",
      "text/plain": [
       "<Figure size 720x432 with 1 Axes>"
      ]
     },
     "metadata": {
      "needs_background": "light"
     },
     "output_type": "display_data"
    }
   ],
   "source": [
    "fig52,ax52=plt.subplots(1,1,figsize=(10,6));\n",
    "loan_df.CREDIT_HISTORY_LENGTH[loan_df.loan_default==0].hist(ax=ax52,bins=50);"
   ]
  },
  {
   "cell_type": "code",
   "execution_count": 158,
   "id": "7b4c2900",
   "metadata": {},
   "outputs": [
    {
     "data": {
      "image/png": "[encoded data removed]",
      "text/plain": [
       "<Figure size 720x432 with 1 Axes>"
      ]
     },
     "metadata": {
      "needs_background": "light"
     },
     "output_type": "display_data"
    }
   ],
   "source": [
    "fig53,ax53=plt.subplots(1,1,figsize=(10,6));\n",
    "loan_df.CREDIT_HISTORY_LENGTH[loan_df.loan_default==1].hist(ax=ax53,bins=50);"
   ]
  },
  {
   "cell_type": "code",
   "execution_count": 482,
   "id": "51a2c4eb",
   "metadata": {},
   "outputs": [
    {
     "data": {
      "text/html": [
       "<div>\n",
       "<style scoped>\n",
       "    .dataframe tbody tr th:only-of-type {\n",
       "        vertical-align: middle;\n",
       "    }\n",
       "\n",
       "    .dataframe tbody tr th {\n",
       "        vertical-align: top;\n",
       "    }\n",
       "\n",
       "    .dataframe thead th {\n",
       "        text-align: right;\n",
       "    }\n",
       "</style>\n",
       "<table border=\"1\" class=\"dataframe\">\n",
       "  <thead>\n",
       "    <tr style=\"text-align: right;\">\n",
       "      <th></th>\n",
       "      <th>UniqueID</th>\n",
       "      <th>disbursed_amount</th>\n",
       "      <th>asset_cost</th>\n",
       "      <th>ltv</th>\n",
       "      <th>branch_id</th>\n",
       "      <th>supplier_id</th>\n",
       "      <th>manufacturer_id</th>\n",
       "      <th>Current_pincode_ID</th>\n",
       "      <th>State_ID</th>\n",
       "      <th>Employee_code_ID</th>\n",
       "      <th>...</th>\n",
       "      <th>SEC_DISBURSED_AMOUNT</th>\n",
       "      <th>PRIMARY_INSTAL_AMT</th>\n",
       "      <th>SEC_INSTAL_AMT</th>\n",
       "      <th>NEW_ACCTS_IN_LAST_SIX_MONTHS</th>\n",
       "      <th>DELINQUENT_ACCTS_IN_LAST_SIX_MONTHS</th>\n",
       "      <th>AVERAGE_ACCT_AGE</th>\n",
       "      <th>CREDIT_HISTORY_LENGTH</th>\n",
       "      <th>NO_OF_INQUIRIES</th>\n",
       "      <th>loan_default</th>\n",
       "      <th>age</th>\n",
       "    </tr>\n",
       "  </thead>\n",
       "  <tbody>\n",
       "    <tr>\n",
       "      <th>UniqueID</th>\n",
       "      <td>1.000000</td>\n",
       "      <td>0.170198</td>\n",
       "      <td>0.254508</td>\n",
       "      <td>-0.034926</td>\n",
       "      <td>-0.011604</td>\n",
       "      <td>0.029701</td>\n",
       "      <td>-0.020731</td>\n",
       "      <td>0.023511</td>\n",
       "      <td>-0.074115</td>\n",
       "      <td>0.065614</td>\n",
       "      <td>...</td>\n",
       "      <td>-0.054384</td>\n",
       "      <td>-0.014828</td>\n",
       "      <td>-0.043115</td>\n",
       "      <td>-0.004234</td>\n",
       "      <td>-0.008289</td>\n",
       "      <td>-0.016982</td>\n",
       "      <td>-0.019391</td>\n",
       "      <td>0.016886</td>\n",
       "      <td>0.033890</td>\n",
       "      <td>0.004604</td>\n",
       "    </tr>\n",
       "    <tr>\n",
       "      <th>disbursed_amount</th>\n",
       "      <td>0.170198</td>\n",
       "      <td>1.000000</td>\n",
       "      <td>0.670569</td>\n",
       "      <td>0.422282</td>\n",
       "      <td>-0.028878</td>\n",
       "      <td>0.065078</td>\n",
       "      <td>0.176631</td>\n",
       "      <td>0.100940</td>\n",
       "      <td>-0.011831</td>\n",
       "      <td>0.005535</td>\n",
       "      <td>...</td>\n",
       "      <td>-0.018416</td>\n",
       "      <td>0.024342</td>\n",
       "      <td>-0.016586</td>\n",
       "      <td>0.031688</td>\n",
       "      <td>0.019590</td>\n",
       "      <td>0.009000</td>\n",
       "      <td>0.015402</td>\n",
       "      <td>0.046513</td>\n",
       "      <td>0.092884</td>\n",
       "      <td>-0.059652</td>\n",
       "    </tr>\n",
       "    <tr>\n",
       "      <th>asset_cost</th>\n",
       "      <td>0.254508</td>\n",
       "      <td>0.670569</td>\n",
       "      <td>1.000000</td>\n",
       "      <td>-0.273647</td>\n",
       "      <td>-0.051369</td>\n",
       "      <td>0.152296</td>\n",
       "      <td>0.174760</td>\n",
       "      <td>0.374856</td>\n",
       "      <td>-0.060331</td>\n",
       "      <td>-0.004864</td>\n",
       "      <td>...</td>\n",
       "      <td>-0.034542</td>\n",
       "      <td>-0.063060</td>\n",
       "      <td>-0.032002</td>\n",
       "      <td>-0.039551</td>\n",
       "      <td>-0.015897</td>\n",
       "      <td>-0.056938</td>\n",
       "      <td>-0.058846</td>\n",
       "      <td>-0.040374</td>\n",
       "      <td>0.017208</td>\n",
       "      <td>-0.124432</td>\n",
       "    </tr>\n",
       "    <tr>\n",
       "      <th>ltv</th>\n",
       "      <td>-0.034926</td>\n",
       "      <td>0.422282</td>\n",
       "      <td>-0.273647</td>\n",
       "      <td>1.000000</td>\n",
       "      <td>-0.001586</td>\n",
       "      <td>-0.123789</td>\n",
       "      <td>0.099864</td>\n",
       "      <td>-0.291783</td>\n",
       "      <td>0.038164</td>\n",
       "      <td>0.000549</td>\n",
       "      <td>...</td>\n",
       "      <td>0.012572</td>\n",
       "      <td>0.114325</td>\n",
       "      <td>0.013296</td>\n",
       "      <td>0.093593</td>\n",
       "      <td>0.045766</td>\n",
       "      <td>0.082620</td>\n",
       "      <td>0.094579</td>\n",
       "      <td>0.110737</td>\n",
       "      <td>0.099088</td>\n",
       "      <td>0.098122</td>\n",
       "    </tr>\n",
       "    <tr>\n",
       "      <th>branch_id</th>\n",
       "      <td>-0.011604</td>\n",
       "      <td>-0.028878</td>\n",
       "      <td>-0.051369</td>\n",
       "      <td>-0.001586</td>\n",
       "      <td>1.000000</td>\n",
       "      <td>0.184861</td>\n",
       "      <td>-0.062171</td>\n",
       "      <td>0.061458</td>\n",
       "      <td>0.251599</td>\n",
       "      <td>0.099850</td>\n",
       "      <td>...</td>\n",
       "      <td>-0.007634</td>\n",
       "      <td>-0.007845</td>\n",
       "      <td>-0.007697</td>\n",
       "      <td>-0.005489</td>\n",
       "      <td>-0.000062</td>\n",
       "      <td>0.002903</td>\n",
       "      <td>0.001184</td>\n",
       "      <td>-0.010169</td>\n",
       "      <td>0.031462</td>\n",
       "      <td>0.004098</td>\n",
       "    </tr>\n",
       "    <tr>\n",
       "      <th>supplier_id</th>\n",
       "      <td>0.029701</td>\n",
       "      <td>0.065078</td>\n",
       "      <td>0.152296</td>\n",
       "      <td>-0.123789</td>\n",
       "      <td>0.184861</td>\n",
       "      <td>1.000000</td>\n",
       "      <td>-0.044982</td>\n",
       "      <td>0.167404</td>\n",
       "      <td>0.090393</td>\n",
       "      <td>0.113349</td>\n",
       "      <td>...</td>\n",
       "      <td>-0.027161</td>\n",
       "      <td>-0.074827</td>\n",
       "      <td>-0.025211</td>\n",
       "      <td>-0.063308</td>\n",
       "      <td>-0.026682</td>\n",
       "      <td>-0.072565</td>\n",
       "      <td>-0.082190</td>\n",
       "      <td>-0.053327</td>\n",
       "      <td>0.028757</td>\n",
       "      <td>-0.039670</td>\n",
       "    </tr>\n",
       "    <tr>\n",
       "      <th>manufacturer_id</th>\n",
       "      <td>-0.020731</td>\n",
       "      <td>0.176631</td>\n",
       "      <td>0.174760</td>\n",
       "      <td>0.099864</td>\n",
       "      <td>-0.062171</td>\n",
       "      <td>-0.044982</td>\n",
       "      <td>1.000000</td>\n",
       "      <td>-0.052732</td>\n",
       "      <td>0.047746</td>\n",
       "      <td>-0.035696</td>\n",
       "      <td>...</td>\n",
       "      <td>0.011200</td>\n",
       "      <td>0.060300</td>\n",
       "      <td>0.009238</td>\n",
       "      <td>0.055331</td>\n",
       "      <td>0.020030</td>\n",
       "      <td>0.072658</td>\n",
       "      <td>0.080381</td>\n",
       "      <td>0.005318</td>\n",
       "      <td>-0.027774</td>\n",
       "      <td>0.047688</td>\n",
       "    </tr>\n",
       "    <tr>\n",
       "      <th>Current_pincode_ID</th>\n",
       "      <td>0.023511</td>\n",
       "      <td>0.100940</td>\n",
       "      <td>0.374856</td>\n",
       "      <td>-0.291783</td>\n",
       "      <td>0.061458</td>\n",
       "      <td>0.167404</td>\n",
       "      <td>-0.052732</td>\n",
       "      <td>1.000000</td>\n",
       "      <td>0.049689</td>\n",
       "      <td>-0.039446</td>\n",
       "      <td>...</td>\n",
       "      <td>-0.061059</td>\n",
       "      <td>-0.117825</td>\n",
       "      <td>-0.053143</td>\n",
       "      <td>-0.114297</td>\n",
       "      <td>-0.053453</td>\n",
       "      <td>-0.131324</td>\n",
       "      <td>-0.139401</td>\n",
       "      <td>-0.100171</td>\n",
       "      <td>0.031026</td>\n",
       "      <td>-0.074980</td>\n",
       "    </tr>\n",
       "    <tr>\n",
       "      <th>State_ID</th>\n",
       "      <td>-0.074115</td>\n",
       "      <td>-0.011831</td>\n",
       "      <td>-0.060331</td>\n",
       "      <td>0.038164</td>\n",
       "      <td>0.251599</td>\n",
       "      <td>0.090393</td>\n",
       "      <td>0.047746</td>\n",
       "      <td>0.049689</td>\n",
       "      <td>1.000000</td>\n",
       "      <td>0.117416</td>\n",
       "      <td>...</td>\n",
       "      <td>0.024775</td>\n",
       "      <td>0.018079</td>\n",
       "      <td>0.020912</td>\n",
       "      <td>-0.000871</td>\n",
       "      <td>0.010633</td>\n",
       "      <td>0.001046</td>\n",
       "      <td>0.003586</td>\n",
       "      <td>-0.016524</td>\n",
       "      <td>0.047944</td>\n",
       "      <td>0.040902</td>\n",
       "    </tr>\n",
       "    <tr>\n",
       "      <th>Employee_code_ID</th>\n",
       "      <td>0.065614</td>\n",
       "      <td>0.005535</td>\n",
       "      <td>-0.004864</td>\n",
       "      <td>0.000549</td>\n",
       "      <td>0.099850</td>\n",
       "      <td>0.113349</td>\n",
       "      <td>-0.035696</td>\n",
       "      <td>-0.039446</td>\n",
       "      <td>0.117416</td>\n",
       "      <td>1.000000</td>\n",
       "      <td>...</td>\n",
       "      <td>-0.003408</td>\n",
       "      <td>0.000625</td>\n",
       "      <td>0.001505</td>\n",
       "      <td>-0.000001</td>\n",
       "      <td>0.003850</td>\n",
       "      <td>-0.001138</td>\n",
       "      <td>-0.000175</td>\n",
       "      <td>-0.006579</td>\n",
       "      <td>0.020583</td>\n",
       "      <td>0.010830</td>\n",
       "    </tr>\n",
       "    <tr>\n",
       "      <th>MobileNo_Avl_Flag</th>\n",
       "      <td>NaN</td>\n",
       "      <td>NaN</td>\n",
       "      <td>NaN</td>\n",
       "      <td>NaN</td>\n",
       "      <td>NaN</td>\n",
       "      <td>NaN</td>\n",
       "      <td>NaN</td>\n",
       "      <td>NaN</td>\n",
       "      <td>NaN</td>\n",
       "      <td>NaN</td>\n",
       "      <td>...</td>\n",
       "      <td>NaN</td>\n",
       "      <td>NaN</td>\n",
       "      <td>NaN</td>\n",
       "      <td>NaN</td>\n",
       "      <td>NaN</td>\n",
       "      <td>NaN</td>\n",
       "      <td>NaN</td>\n",
       "      <td>NaN</td>\n",
       "      <td>NaN</td>\n",
       "      <td>NaN</td>\n",
       "    </tr>\n",
       "    <tr>\n",
       "      <th>Aadhar_flag</th>\n",
       "      <td>-0.001362</td>\n",
       "      <td>-0.016562</td>\n",
       "      <td>-0.109125</td>\n",
       "      <td>0.118617</td>\n",
       "      <td>-0.002930</td>\n",
       "      <td>-0.082098</td>\n",
       "      <td>0.041638</td>\n",
       "      <td>-0.282816</td>\n",
       "      <td>-0.149745</td>\n",
       "      <td>0.043012</td>\n",
       "      <td>...</td>\n",
       "      <td>0.011501</td>\n",
       "      <td>0.053942</td>\n",
       "      <td>0.014496</td>\n",
       "      <td>0.067873</td>\n",
       "      <td>0.024483</td>\n",
       "      <td>0.051158</td>\n",
       "      <td>0.059106</td>\n",
       "      <td>0.053126</td>\n",
       "      <td>-0.041593</td>\n",
       "      <td>0.018677</td>\n",
       "    </tr>\n",
       "    <tr>\n",
       "      <th>PAN_flag</th>\n",
       "      <td>-0.014290</td>\n",
       "      <td>-0.006784</td>\n",
       "      <td>0.016092</td>\n",
       "      <td>-0.046502</td>\n",
       "      <td>-0.000193</td>\n",
       "      <td>0.035667</td>\n",
       "      <td>-0.025521</td>\n",
       "      <td>0.023961</td>\n",
       "      <td>0.087156</td>\n",
       "      <td>-0.025197</td>\n",
       "      <td>...</td>\n",
       "      <td>0.022514</td>\n",
       "      <td>0.003266</td>\n",
       "      <td>0.016789</td>\n",
       "      <td>0.008775</td>\n",
       "      <td>-0.001786</td>\n",
       "      <td>0.010281</td>\n",
       "      <td>0.009313</td>\n",
       "      <td>0.017036</td>\n",
       "      <td>0.002046</td>\n",
       "      <td>-0.012659</td>\n",
       "    </tr>\n",
       "    <tr>\n",
       "      <th>VoterID_flag</th>\n",
       "      <td>0.008193</td>\n",
       "      <td>0.011043</td>\n",
       "      <td>0.095769</td>\n",
       "      <td>-0.110274</td>\n",
       "      <td>-0.011212</td>\n",
       "      <td>0.079179</td>\n",
       "      <td>-0.046784</td>\n",
       "      <td>0.254058</td>\n",
       "      <td>0.130973</td>\n",
       "      <td>-0.041704</td>\n",
       "      <td>...</td>\n",
       "      <td>-0.009368</td>\n",
       "      <td>-0.049928</td>\n",
       "      <td>-0.012497</td>\n",
       "      <td>-0.067433</td>\n",
       "      <td>-0.027991</td>\n",
       "      <td>-0.056121</td>\n",
       "      <td>-0.064367</td>\n",
       "      <td>-0.042001</td>\n",
       "      <td>0.043747</td>\n",
       "      <td>-0.016326</td>\n",
       "    </tr>\n",
       "    <tr>\n",
       "      <th>Driving_flag</th>\n",
       "      <td>-0.026069</td>\n",
       "      <td>0.000012</td>\n",
       "      <td>0.018923</td>\n",
       "      <td>-0.024183</td>\n",
       "      <td>-0.022267</td>\n",
       "      <td>-0.015647</td>\n",
       "      <td>0.005014</td>\n",
       "      <td>0.039869</td>\n",
       "      <td>0.022047</td>\n",
       "      <td>-0.015544</td>\n",
       "      <td>...</td>\n",
       "      <td>0.008191</td>\n",
       "      <td>-0.001621</td>\n",
       "      <td>0.002788</td>\n",
       "      <td>-0.000873</td>\n",
       "      <td>0.010650</td>\n",
       "      <td>0.016998</td>\n",
       "      <td>0.018214</td>\n",
       "      <td>-0.022965</td>\n",
       "      <td>-0.005821</td>\n",
       "      <td>-0.003504</td>\n",
       "    </tr>\n",
       "    <tr>\n",
       "      <th>Passport_flag</th>\n",
       "      <td>-0.001382</td>\n",
       "      <td>0.008041</td>\n",
       "      <td>0.006157</td>\n",
       "      <td>0.005078</td>\n",
       "      <td>-0.011857</td>\n",
       "      <td>-0.008677</td>\n",
       "      <td>0.016112</td>\n",
       "      <td>-0.008485</td>\n",
       "      <td>-0.000641</td>\n",
       "      <td>-0.006757</td>\n",
       "      <td>...</td>\n",
       "      <td>0.003055</td>\n",
       "      <td>0.002571</td>\n",
       "      <td>0.005100</td>\n",
       "      <td>0.008101</td>\n",
       "      <td>0.006408</td>\n",
       "      <td>0.014627</td>\n",
       "      <td>0.015947</td>\n",
       "      <td>-0.000246</td>\n",
       "      <td>-0.007602</td>\n",
       "      <td>-0.005042</td>\n",
       "    </tr>\n",
       "    <tr>\n",
       "      <th>PERFORM_CNS_SCORE</th>\n",
       "      <td>-0.012829</td>\n",
       "      <td>0.007156</td>\n",
       "      <td>-0.069557</td>\n",
       "      <td>0.095146</td>\n",
       "      <td>-0.007821</td>\n",
       "      <td>-0.084845</td>\n",
       "      <td>0.076666</td>\n",
       "      <td>-0.164320</td>\n",
       "      <td>-0.014673</td>\n",
       "      <td>-0.007863</td>\n",
       "      <td>...</td>\n",
       "      <td>0.069220</td>\n",
       "      <td>0.619586</td>\n",
       "      <td>0.058291</td>\n",
       "      <td>0.459074</td>\n",
       "      <td>0.182056</td>\n",
       "      <td>0.833218</td>\n",
       "      <td>0.829151</td>\n",
       "      <td>0.186098</td>\n",
       "      <td>-0.059210</td>\n",
       "      <td>0.197969</td>\n",
       "    </tr>\n",
       "    <tr>\n",
       "      <th>PRI_NO_OF_ACCTS</th>\n",
       "      <td>-0.014284</td>\n",
       "      <td>0.029319</td>\n",
       "      <td>-0.064129</td>\n",
       "      <td>0.121949</td>\n",
       "      <td>-0.004954</td>\n",
       "      <td>-0.097907</td>\n",
       "      <td>0.090957</td>\n",
       "      <td>-0.157091</td>\n",
       "      <td>0.001606</td>\n",
       "      <td>-0.000965</td>\n",
       "      <td>...</td>\n",
       "      <td>0.083953</td>\n",
       "      <td>0.732627</td>\n",
       "      <td>0.068791</td>\n",
       "      <td>0.600900</td>\n",
       "      <td>0.342962</td>\n",
       "      <td>0.850845</td>\n",
       "      <td>0.902981</td>\n",
       "      <td>0.247207</td>\n",
       "      <td>-0.043032</td>\n",
       "      <td>0.252126</td>\n",
       "    </tr>\n",
       "    <tr>\n",
       "      <th>PRI_ACTIVE_ACCTS</th>\n",
       "      <td>-0.015694</td>\n",
       "      <td>0.033595</td>\n",
       "      <td>-0.046406</td>\n",
       "      <td>0.104898</td>\n",
       "      <td>0.001884</td>\n",
       "      <td>-0.073876</td>\n",
       "      <td>0.078236</td>\n",
       "      <td>-0.132938</td>\n",
       "      <td>0.000662</td>\n",
       "      <td>0.000311</td>\n",
       "      <td>...</td>\n",
       "      <td>0.072202</td>\n",
       "      <td>0.659213</td>\n",
       "      <td>0.057651</td>\n",
       "      <td>0.678718</td>\n",
       "      <td>0.360176</td>\n",
       "      <td>0.728103</td>\n",
       "      <td>0.788321</td>\n",
       "      <td>0.255139</td>\n",
       "      <td>-0.034658</td>\n",
       "      <td>0.202774</td>\n",
       "    </tr>\n",
       "    <tr>\n",
       "      <th>PRI_OVERDUE_ACCTS</th>\n",
       "      <td>-0.009346</td>\n",
       "      <td>0.021071</td>\n",
       "      <td>-0.022693</td>\n",
       "      <td>0.057947</td>\n",
       "      <td>-0.002016</td>\n",
       "      <td>-0.044737</td>\n",
       "      <td>0.028943</td>\n",
       "      <td>-0.059904</td>\n",
       "      <td>-0.000258</td>\n",
       "      <td>-0.000987</td>\n",
       "      <td>...</td>\n",
       "      <td>0.050270</td>\n",
       "      <td>0.333676</td>\n",
       "      <td>0.039501</td>\n",
       "      <td>0.126725</td>\n",
       "      <td>0.463899</td>\n",
       "      <td>0.416460</td>\n",
       "      <td>0.442239</td>\n",
       "      <td>0.098377</td>\n",
       "      <td>0.049607</td>\n",
       "      <td>0.157934</td>\n",
       "    </tr>\n",
       "    <tr>\n",
       "      <th>PRI_CURRENT_BALANCE</th>\n",
       "      <td>-0.009810</td>\n",
       "      <td>0.027983</td>\n",
       "      <td>-0.040089</td>\n",
       "      <td>0.088457</td>\n",
       "      <td>0.011816</td>\n",
       "      <td>-0.053599</td>\n",
       "      <td>0.071183</td>\n",
       "      <td>-0.113582</td>\n",
       "      <td>0.014995</td>\n",
       "      <td>0.003678</td>\n",
       "      <td>...</td>\n",
       "      <td>0.062068</td>\n",
       "      <td>0.650486</td>\n",
       "      <td>0.050129</td>\n",
       "      <td>0.621531</td>\n",
       "      <td>0.356345</td>\n",
       "      <td>0.694030</td>\n",
       "      <td>0.743813</td>\n",
       "      <td>0.224673</td>\n",
       "      <td>-0.033196</td>\n",
       "      <td>0.205152</td>\n",
       "    </tr>\n",
       "    <tr>\n",
       "      <th>PRI_SANCTIONED_AMOUNT</th>\n",
       "      <td>-0.015390</td>\n",
       "      <td>0.026791</td>\n",
       "      <td>-0.042076</td>\n",
       "      <td>0.088748</td>\n",
       "      <td>0.006792</td>\n",
       "      <td>-0.060983</td>\n",
       "      <td>0.077110</td>\n",
       "      <td>-0.124110</td>\n",
       "      <td>0.008380</td>\n",
       "      <td>0.003121</td>\n",
       "      <td>...</td>\n",
       "      <td>0.068925</td>\n",
       "      <td>0.652142</td>\n",
       "      <td>0.054381</td>\n",
       "      <td>0.598278</td>\n",
       "      <td>0.359688</td>\n",
       "      <td>0.742430</td>\n",
       "      <td>0.789234</td>\n",
       "      <td>0.212295</td>\n",
       "      <td>-0.038669</td>\n",
       "      <td>0.219350</td>\n",
       "    </tr>\n",
       "    <tr>\n",
       "      <th>PRI_DISBURSED_AMOUNT</th>\n",
       "      <td>-0.014476</td>\n",
       "      <td>0.027575</td>\n",
       "      <td>-0.042517</td>\n",
       "      <td>0.090526</td>\n",
       "      <td>0.007325</td>\n",
       "      <td>-0.060633</td>\n",
       "      <td>0.076848</td>\n",
       "      <td>-0.123704</td>\n",
       "      <td>0.009952</td>\n",
       "      <td>0.003379</td>\n",
       "      <td>...</td>\n",
       "      <td>0.068151</td>\n",
       "      <td>0.656837</td>\n",
       "      <td>0.053916</td>\n",
       "      <td>0.597550</td>\n",
       "      <td>0.360858</td>\n",
       "      <td>0.742145</td>\n",
       "      <td>0.788950</td>\n",
       "      <td>0.214332</td>\n",
       "      <td>-0.037356</td>\n",
       "      <td>0.220191</td>\n",
       "    </tr>\n",
       "    <tr>\n",
       "      <th>SEC_NO_OF_ACCTS</th>\n",
       "      <td>-0.067650</td>\n",
       "      <td>-0.017641</td>\n",
       "      <td>-0.041356</td>\n",
       "      <td>0.020691</td>\n",
       "      <td>-0.009778</td>\n",
       "      <td>-0.038524</td>\n",
       "      <td>0.017003</td>\n",
       "      <td>-0.073705</td>\n",
       "      <td>0.028813</td>\n",
       "      <td>-0.001699</td>\n",
       "      <td>...</td>\n",
       "      <td>0.792648</td>\n",
       "      <td>0.078844</td>\n",
       "      <td>0.612495</td>\n",
       "      <td>0.106665</td>\n",
       "      <td>0.096540</td>\n",
       "      <td>0.173847</td>\n",
       "      <td>0.192301</td>\n",
       "      <td>0.013738</td>\n",
       "      <td>-0.010744</td>\n",
       "      <td>0.042281</td>\n",
       "    </tr>\n",
       "    <tr>\n",
       "      <th>SEC_ACTIVE_ACCTS</th>\n",
       "      <td>-0.055297</td>\n",
       "      <td>-0.018313</td>\n",
       "      <td>-0.034437</td>\n",
       "      <td>0.012581</td>\n",
       "      <td>-0.007955</td>\n",
       "      <td>-0.027374</td>\n",
       "      <td>0.011232</td>\n",
       "      <td>-0.061507</td>\n",
       "      <td>0.024970</td>\n",
       "      <td>-0.003134</td>\n",
       "      <td>...</td>\n",
       "      <td>0.984922</td>\n",
       "      <td>0.058618</td>\n",
       "      <td>0.534606</td>\n",
       "      <td>0.105837</td>\n",
       "      <td>0.094344</td>\n",
       "      <td>0.140274</td>\n",
       "      <td>0.156396</td>\n",
       "      <td>0.010278</td>\n",
       "      <td>-0.008585</td>\n",
       "      <td>0.027965</td>\n",
       "    </tr>\n",
       "    <tr>\n",
       "      <th>SEC_OVERDUE_ACCTS</th>\n",
       "      <td>-0.031788</td>\n",
       "      <td>-0.006809</td>\n",
       "      <td>-0.018070</td>\n",
       "      <td>0.011240</td>\n",
       "      <td>-0.008905</td>\n",
       "      <td>-0.018074</td>\n",
       "      <td>0.009865</td>\n",
       "      <td>-0.036793</td>\n",
       "      <td>0.011594</td>\n",
       "      <td>-0.006399</td>\n",
       "      <td>...</td>\n",
       "      <td>0.462576</td>\n",
       "      <td>0.034816</td>\n",
       "      <td>0.349970</td>\n",
       "      <td>0.044085</td>\n",
       "      <td>0.095463</td>\n",
       "      <td>0.089385</td>\n",
       "      <td>0.100121</td>\n",
       "      <td>0.008998</td>\n",
       "      <td>-0.002780</td>\n",
       "      <td>0.018228</td>\n",
       "    </tr>\n",
       "    <tr>\n",
       "      <th>SEC_CURRENT_BALANCE</th>\n",
       "      <td>-0.047697</td>\n",
       "      <td>-0.017019</td>\n",
       "      <td>-0.030558</td>\n",
       "      <td>0.010197</td>\n",
       "      <td>-0.006047</td>\n",
       "      <td>-0.022024</td>\n",
       "      <td>0.010084</td>\n",
       "      <td>-0.054568</td>\n",
       "      <td>0.023296</td>\n",
       "      <td>-0.003693</td>\n",
       "      <td>...</td>\n",
       "      <td>0.909716</td>\n",
       "      <td>0.052025</td>\n",
       "      <td>0.537744</td>\n",
       "      <td>0.102688</td>\n",
       "      <td>0.090948</td>\n",
       "      <td>0.122625</td>\n",
       "      <td>0.137732</td>\n",
       "      <td>0.009691</td>\n",
       "      <td>-0.007526</td>\n",
       "      <td>0.023704</td>\n",
       "    </tr>\n",
       "    <tr>\n",
       "      <th>SEC_SANCTIONED_AMOUNT</th>\n",
       "      <td>-0.054630</td>\n",
       "      <td>-0.018331</td>\n",
       "      <td>-0.034474</td>\n",
       "      <td>0.012632</td>\n",
       "      <td>-0.007963</td>\n",
       "      <td>-0.027334</td>\n",
       "      <td>0.011059</td>\n",
       "      <td>-0.061140</td>\n",
       "      <td>0.024387</td>\n",
       "      <td>-0.002947</td>\n",
       "      <td>...</td>\n",
       "      <td>0.995140</td>\n",
       "      <td>0.058297</td>\n",
       "      <td>0.536494</td>\n",
       "      <td>0.105574</td>\n",
       "      <td>0.095072</td>\n",
       "      <td>0.138491</td>\n",
       "      <td>0.154618</td>\n",
       "      <td>0.010743</td>\n",
       "      <td>-0.008411</td>\n",
       "      <td>0.027949</td>\n",
       "    </tr>\n",
       "    <tr>\n",
       "      <th>SEC_DISBURSED_AMOUNT</th>\n",
       "      <td>-0.054384</td>\n",
       "      <td>-0.018416</td>\n",
       "      <td>-0.034542</td>\n",
       "      <td>0.012572</td>\n",
       "      <td>-0.007634</td>\n",
       "      <td>-0.027161</td>\n",
       "      <td>0.011200</td>\n",
       "      <td>-0.061059</td>\n",
       "      <td>0.024775</td>\n",
       "      <td>-0.003408</td>\n",
       "      <td>...</td>\n",
       "      <td>1.000000</td>\n",
       "      <td>0.057869</td>\n",
       "      <td>0.538988</td>\n",
       "      <td>0.104753</td>\n",
       "      <td>0.095390</td>\n",
       "      <td>0.137985</td>\n",
       "      <td>0.154056</td>\n",
       "      <td>0.010525</td>\n",
       "      <td>-0.008448</td>\n",
       "      <td>0.027797</td>\n",
       "    </tr>\n",
       "    <tr>\n",
       "      <th>PRIMARY_INSTAL_AMT</th>\n",
       "      <td>-0.014828</td>\n",
       "      <td>0.024342</td>\n",
       "      <td>-0.063060</td>\n",
       "      <td>0.114325</td>\n",
       "      <td>-0.007845</td>\n",
       "      <td>-0.074827</td>\n",
       "      <td>0.060300</td>\n",
       "      <td>-0.117825</td>\n",
       "      <td>0.018079</td>\n",
       "      <td>0.000625</td>\n",
       "      <td>...</td>\n",
       "      <td>0.057869</td>\n",
       "      <td>1.000000</td>\n",
       "      <td>0.051975</td>\n",
       "      <td>0.460287</td>\n",
       "      <td>0.308415</td>\n",
       "      <td>0.604466</td>\n",
       "      <td>0.648993</td>\n",
       "      <td>0.274443</td>\n",
       "      <td>-0.010040</td>\n",
       "      <td>0.186376</td>\n",
       "    </tr>\n",
       "    <tr>\n",
       "      <th>SEC_INSTAL_AMT</th>\n",
       "      <td>-0.043115</td>\n",
       "      <td>-0.016586</td>\n",
       "      <td>-0.032002</td>\n",
       "      <td>0.013296</td>\n",
       "      <td>-0.007697</td>\n",
       "      <td>-0.025211</td>\n",
       "      <td>0.009238</td>\n",
       "      <td>-0.053143</td>\n",
       "      <td>0.020912</td>\n",
       "      <td>0.001505</td>\n",
       "      <td>...</td>\n",
       "      <td>0.538988</td>\n",
       "      <td>0.051975</td>\n",
       "      <td>1.000000</td>\n",
       "      <td>0.077630</td>\n",
       "      <td>0.074353</td>\n",
       "      <td>0.103295</td>\n",
       "      <td>0.117696</td>\n",
       "      <td>0.011927</td>\n",
       "      <td>-0.006802</td>\n",
       "      <td>0.021710</td>\n",
       "    </tr>\n",
       "    <tr>\n",
       "      <th>NEW_ACCTS_IN_LAST_SIX_MONTHS</th>\n",
       "      <td>-0.004234</td>\n",
       "      <td>0.031688</td>\n",
       "      <td>-0.039551</td>\n",
       "      <td>0.093593</td>\n",
       "      <td>-0.005489</td>\n",
       "      <td>-0.063308</td>\n",
       "      <td>0.055331</td>\n",
       "      <td>-0.114297</td>\n",
       "      <td>-0.000871</td>\n",
       "      <td>-0.000001</td>\n",
       "      <td>...</td>\n",
       "      <td>0.104753</td>\n",
       "      <td>0.460287</td>\n",
       "      <td>0.077630</td>\n",
       "      <td>1.000000</td>\n",
       "      <td>0.190572</td>\n",
       "      <td>0.318869</td>\n",
       "      <td>0.410966</td>\n",
       "      <td>0.319832</td>\n",
       "      <td>-0.033167</td>\n",
       "      <td>0.065819</td>\n",
       "    </tr>\n",
       "    <tr>\n",
       "      <th>DELINQUENT_ACCTS_IN_LAST_SIX_MONTHS</th>\n",
       "      <td>-0.008289</td>\n",
       "      <td>0.019590</td>\n",
       "      <td>-0.015897</td>\n",
       "      <td>0.045766</td>\n",
       "      <td>-0.000062</td>\n",
       "      <td>-0.026682</td>\n",
       "      <td>0.020030</td>\n",
       "      <td>-0.053453</td>\n",
       "      <td>0.010633</td>\n",
       "      <td>0.003850</td>\n",
       "      <td>...</td>\n",
       "      <td>0.095390</td>\n",
       "      <td>0.308415</td>\n",
       "      <td>0.074353</td>\n",
       "      <td>0.190572</td>\n",
       "      <td>1.000000</td>\n",
       "      <td>0.303061</td>\n",
       "      <td>0.327947</td>\n",
       "      <td>0.089959</td>\n",
       "      <td>0.038058</td>\n",
       "      <td>0.091361</td>\n",
       "    </tr>\n",
       "    <tr>\n",
       "      <th>AVERAGE_ACCT_AGE</th>\n",
       "      <td>-0.016982</td>\n",
       "      <td>0.009000</td>\n",
       "      <td>-0.056938</td>\n",
       "      <td>0.082620</td>\n",
       "      <td>0.002903</td>\n",
       "      <td>-0.072565</td>\n",
       "      <td>0.072658</td>\n",
       "      <td>-0.131324</td>\n",
       "      <td>0.001046</td>\n",
       "      <td>-0.001138</td>\n",
       "      <td>...</td>\n",
       "      <td>0.137985</td>\n",
       "      <td>0.604466</td>\n",
       "      <td>0.103295</td>\n",
       "      <td>0.318869</td>\n",
       "      <td>0.303061</td>\n",
       "      <td>1.000000</td>\n",
       "      <td>0.981693</td>\n",
       "      <td>0.139499</td>\n",
       "      <td>-0.035110</td>\n",
       "      <td>0.278798</td>\n",
       "    </tr>\n",
       "    <tr>\n",
       "      <th>CREDIT_HISTORY_LENGTH</th>\n",
       "      <td>-0.019391</td>\n",
       "      <td>0.015402</td>\n",
       "      <td>-0.058846</td>\n",
       "      <td>0.094579</td>\n",
       "      <td>0.001184</td>\n",
       "      <td>-0.082190</td>\n",
       "      <td>0.080381</td>\n",
       "      <td>-0.139401</td>\n",
       "      <td>0.003586</td>\n",
       "      <td>-0.000175</td>\n",
       "      <td>...</td>\n",
       "      <td>0.154056</td>\n",
       "      <td>0.648993</td>\n",
       "      <td>0.117696</td>\n",
       "      <td>0.410966</td>\n",
       "      <td>0.327947</td>\n",
       "      <td>0.981693</td>\n",
       "      <td>1.000000</td>\n",
       "      <td>0.166800</td>\n",
       "      <td>-0.040426</td>\n",
       "      <td>0.285823</td>\n",
       "    </tr>\n",
       "    <tr>\n",
       "      <th>NO_OF_INQUIRIES</th>\n",
       "      <td>0.016886</td>\n",
       "      <td>0.046513</td>\n",
       "      <td>-0.040374</td>\n",
       "      <td>0.110737</td>\n",
       "      <td>-0.010169</td>\n",
       "      <td>-0.053327</td>\n",
       "      <td>0.005318</td>\n",
       "      <td>-0.100171</td>\n",
       "      <td>-0.016524</td>\n",
       "      <td>-0.006579</td>\n",
       "      <td>...</td>\n",
       "      <td>0.010525</td>\n",
       "      <td>0.274443</td>\n",
       "      <td>0.011927</td>\n",
       "      <td>0.319832</td>\n",
       "      <td>0.089959</td>\n",
       "      <td>0.139499</td>\n",
       "      <td>0.166800</td>\n",
       "      <td>1.000000</td>\n",
       "      <td>0.040540</td>\n",
       "      <td>-0.004136</td>\n",
       "    </tr>\n",
       "    <tr>\n",
       "      <th>loan_default</th>\n",
       "      <td>0.033890</td>\n",
       "      <td>0.092884</td>\n",
       "      <td>0.017208</td>\n",
       "      <td>0.099088</td>\n",
       "      <td>0.031462</td>\n",
       "      <td>0.028757</td>\n",
       "      <td>-0.027774</td>\n",
       "      <td>0.031026</td>\n",
       "      <td>0.047944</td>\n",
       "      <td>0.020583</td>\n",
       "      <td>...</td>\n",
       "      <td>-0.008448</td>\n",
       "      <td>-0.010040</td>\n",
       "      <td>-0.006802</td>\n",
       "      <td>-0.033167</td>\n",
       "      <td>0.038058</td>\n",
       "      <td>-0.035110</td>\n",
       "      <td>-0.040426</td>\n",
       "      <td>0.040540</td>\n",
       "      <td>1.000000</td>\n",
       "      <td>-0.037930</td>\n",
       "    </tr>\n",
       "    <tr>\n",
       "      <th>age</th>\n",
       "      <td>0.004604</td>\n",
       "      <td>-0.059652</td>\n",
       "      <td>-0.124432</td>\n",
       "      <td>0.098122</td>\n",
       "      <td>0.004098</td>\n",
       "      <td>-0.039670</td>\n",
       "      <td>0.047688</td>\n",
       "      <td>-0.074980</td>\n",
       "      <td>0.040902</td>\n",
       "      <td>0.010830</td>\n",
       "      <td>...</td>\n",
       "      <td>0.027797</td>\n",
       "      <td>0.186376</td>\n",
       "      <td>0.021710</td>\n",
       "      <td>0.065819</td>\n",
       "      <td>0.091361</td>\n",
       "      <td>0.278798</td>\n",
       "      <td>0.285823</td>\n",
       "      <td>-0.004136</td>\n",
       "      <td>-0.037930</td>\n",
       "      <td>1.000000</td>\n",
       "    </tr>\n",
       "  </tbody>\n",
       "</table>\n",
       "<p>38 rows × 38 columns</p>\n",
       "</div>"
      ],
      "text/plain": [
       "                                     UniqueID  disbursed_amount  asset_cost  \\\n",
       "UniqueID                             1.000000          0.170198    0.254508   \n",
       "disbursed_amount                     0.170198          1.000000    0.670569   \n",
       "asset_cost                           0.254508          0.670569    1.000000   \n",
       "ltv                                 -0.034926          0.422282   -0.273647   \n",
       "branch_id                           -0.011604         -0.028878   -0.051369   \n",
       "supplier_id                          0.029701          0.065078    0.152296   \n",
       "manufacturer_id                     -0.020731          0.176631    0.174760   \n",
       "Current_pincode_ID                   0.023511          0.100940    0.374856   \n",
       "State_ID                            -0.074115         -0.011831   -0.060331   \n",
       "Employee_code_ID                     0.065614          0.005535   -0.004864   \n",
       "MobileNo_Avl_Flag                         NaN               NaN         NaN   \n",
       "Aadhar_flag                         -0.001362         -0.016562   -0.109125   \n",
       "PAN_flag                            -0.014290         -0.006784    0.016092   \n",
       "VoterID_flag                         0.008193          0.011043    0.095769   \n",
       "Driving_flag                        -0.026069          0.000012    0.018923   \n",
       "Passport_flag                       -0.001382          0.008041    0.006157   \n",
       "PERFORM_CNS_SCORE                   -0.012829          0.007156   -0.069557   \n",
       "PRI_NO_OF_ACCTS                     -0.014284          0.029319   -0.064129   \n",
       "PRI_ACTIVE_ACCTS                    -0.015694          0.033595   -0.046406   \n",
       "PRI_OVERDUE_ACCTS                   -0.009346          0.021071   -0.022693   \n",
       "PRI_CURRENT_BALANCE                 -0.009810          0.027983   -0.040089   \n",
       "PRI_SANCTIONED_AMOUNT               -0.015390          0.026791   -0.042076   \n",
       "PRI_DISBURSED_AMOUNT                -0.014476          0.027575   -0.042517   \n",
       "SEC_NO_OF_ACCTS                     -0.067650         -0.017641   -0.041356   \n",
       "SEC_ACTIVE_ACCTS                    -0.055297         -0.018313   -0.034437   \n",
       "SEC_OVERDUE_ACCTS                   -0.031788         -0.006809   -0.018070   \n",
       "SEC_CURRENT_BALANCE                 -0.047697         -0.017019   -0.030558   \n",
       "SEC_SANCTIONED_AMOUNT               -0.054630         -0.018331   -0.034474   \n",
       "SEC_DISBURSED_AMOUNT                -0.054384         -0.018416   -0.034542   \n",
       "PRIMARY_INSTAL_AMT                  -0.014828          0.024342   -0.063060   \n",
       "SEC_INSTAL_AMT                      -0.043115         -0.016586   -0.032002   \n",
       "NEW_ACCTS_IN_LAST_SIX_MONTHS        -0.004234          0.031688   -0.039551   \n",
       "DELINQUENT_ACCTS_IN_LAST_SIX_MONTHS -0.008289          0.019590   -0.015897   \n",
       "AVERAGE_ACCT_AGE                    -0.016982          0.009000   -0.056938   \n",
       "CREDIT_HISTORY_LENGTH               -0.019391          0.015402   -0.058846   \n",
       "NO_OF_INQUIRIES                      0.016886          0.046513   -0.040374   \n",
       "loan_default                         0.033890          0.092884    0.017208   \n",
       "age                                  0.004604         -0.059652   -0.124432   \n",
       "\n",
       "                                          ltv  branch_id  supplier_id  \\\n",
       "UniqueID                            -0.034926  -0.011604     0.029701   \n",
       "disbursed_amount                     0.422282  -0.028878     0.065078   \n",
       "asset_cost                          -0.273647  -0.051369     0.152296   \n",
       "ltv                                  1.000000  -0.001586    -0.123789   \n",
       "branch_id                           -0.001586   1.000000     0.184861   \n",
       "supplier_id                         -0.123789   0.184861     1.000000   \n",
       "manufacturer_id                      0.099864  -0.062171    -0.044982   \n",
       "Current_pincode_ID                  -0.291783   0.061458     0.167404   \n",
       "State_ID                             0.038164   0.251599     0.090393   \n",
       "Employee_code_ID                     0.000549   0.099850     0.113349   \n",
       "MobileNo_Avl_Flag                         NaN        NaN          NaN   \n",
       "Aadhar_flag                          0.118617  -0.002930    -0.082098   \n",
       "PAN_flag                            -0.046502  -0.000193     0.035667   \n",
       "VoterID_flag                        -0.110274  -0.011212     0.079179   \n",
       "Driving_flag                        -0.024183  -0.022267    -0.015647   \n",
       "Passport_flag                        0.005078  -0.011857    -0.008677   \n",
       "PERFORM_CNS_SCORE                    0.095146  -0.007821    -0.084845   \n",
       "PRI_NO_OF_ACCTS                      0.121949  -0.004954    -0.097907   \n",
       "PRI_ACTIVE_ACCTS                     0.104898   0.001884    -0.073876   \n",
       "PRI_OVERDUE_ACCTS                    0.057947  -0.002016    -0.044737   \n",
       "PRI_CURRENT_BALANCE                  0.088457   0.011816    -0.053599   \n",
       "PRI_SANCTIONED_AMOUNT                0.088748   0.006792    -0.060983   \n",
       "PRI_DISBURSED_AMOUNT                 0.090526   0.007325    -0.060633   \n",
       "SEC_NO_OF_ACCTS                      0.020691  -0.009778    -0.038524   \n",
       "SEC_ACTIVE_ACCTS                     0.012581  -0.007955    -0.027374   \n",
       "SEC_OVERDUE_ACCTS                    0.011240  -0.008905    -0.018074   \n",
       "SEC_CURRENT_BALANCE                  0.010197  -0.006047    -0.022024   \n",
       "SEC_SANCTIONED_AMOUNT                0.012632  -0.007963    -0.027334   \n",
       "SEC_DISBURSED_AMOUNT                 0.012572  -0.007634    -0.027161   \n",
       "PRIMARY_INSTAL_AMT                   0.114325  -0.007845    -0.074827   \n",
       "SEC_INSTAL_AMT                       0.013296  -0.007697    -0.025211   \n",
       "NEW_ACCTS_IN_LAST_SIX_MONTHS         0.093593  -0.005489    -0.063308   \n",
       "DELINQUENT_ACCTS_IN_LAST_SIX_MONTHS  0.045766  -0.000062    -0.026682   \n",
       "AVERAGE_ACCT_AGE                     0.082620   0.002903    -0.072565   \n",
       "CREDIT_HISTORY_LENGTH                0.094579   0.001184    -0.082190   \n",
       "NO_OF_INQUIRIES                      0.110737  -0.010169    -0.053327   \n",
       "loan_default                         0.099088   0.031462     0.028757   \n",
       "age                                  0.098122   0.004098    -0.039670   \n",
       "\n",
       "                                     manufacturer_id  Current_pincode_ID  \\\n",
       "UniqueID                                   -0.020731            0.023511   \n",
       "disbursed_amount                            0.176631            0.100940   \n",
       "asset_cost                                  0.174760            0.374856   \n",
       "ltv                                         0.099864           -0.291783   \n",
       "branch_id                                  -0.062171            0.061458   \n",
       "supplier_id                                -0.044982            0.167404   \n",
       "manufacturer_id                             1.000000           -0.052732   \n",
       "Current_pincode_ID                         -0.052732            1.000000   \n",
       "State_ID                                    0.047746            0.049689   \n",
       "Employee_code_ID                           -0.035696           -0.039446   \n",
       "MobileNo_Avl_Flag                                NaN                 NaN   \n",
       "Aadhar_flag                                 0.041638           -0.282816   \n",
       "PAN_flag                                   -0.025521            0.023961   \n",
       "VoterID_flag                               -0.046784            0.254058   \n",
       "Driving_flag                                0.005014            0.039869   \n",
       "Passport_flag                               0.016112           -0.008485   \n",
       "PERFORM_CNS_SCORE                           0.076666           -0.164320   \n",
       "PRI_NO_OF_ACCTS                             0.090957           -0.157091   \n",
       "PRI_ACTIVE_ACCTS                            0.078236           -0.132938   \n",
       "PRI_OVERDUE_ACCTS                           0.028943           -0.059904   \n",
       "PRI_CURRENT_BALANCE                         0.071183           -0.113582   \n",
       "PRI_SANCTIONED_AMOUNT                       0.077110           -0.124110   \n",
       "PRI_DISBURSED_AMOUNT                        0.076848           -0.123704   \n",
       "SEC_NO_OF_ACCTS                             0.017003           -0.073705   \n",
       "SEC_ACTIVE_ACCTS                            0.011232           -0.061507   \n",
       "SEC_OVERDUE_ACCTS                           0.009865           -0.036793   \n",
       "SEC_CURRENT_BALANCE                         0.010084           -0.054568   \n",
       "SEC_SANCTIONED_AMOUNT                       0.011059           -0.061140   \n",
       "SEC_DISBURSED_AMOUNT                        0.011200           -0.061059   \n",
       "PRIMARY_INSTAL_AMT                          0.060300           -0.117825   \n",
       "SEC_INSTAL_AMT                              0.009238           -0.053143   \n",
       "NEW_ACCTS_IN_LAST_SIX_MONTHS                0.055331           -0.114297   \n",
       "DELINQUENT_ACCTS_IN_LAST_SIX_MONTHS         0.020030           -0.053453   \n",
       "AVERAGE_ACCT_AGE                            0.072658           -0.131324   \n",
       "CREDIT_HISTORY_LENGTH                       0.080381           -0.139401   \n",
       "NO_OF_INQUIRIES                             0.005318           -0.100171   \n",
       "loan_default                               -0.027774            0.031026   \n",
       "age                                         0.047688           -0.074980   \n",
       "\n",
       "                                     State_ID  Employee_code_ID  ...  \\\n",
       "UniqueID                            -0.074115          0.065614  ...   \n",
       "disbursed_amount                    -0.011831          0.005535  ...   \n",
       "asset_cost                          -0.060331         -0.004864  ...   \n",
       "ltv                                  0.038164          0.000549  ...   \n",
       "branch_id                            0.251599          0.099850  ...   \n",
       "supplier_id                          0.090393          0.113349  ...   \n",
       "manufacturer_id                      0.047746         -0.035696  ...   \n",
       "Current_pincode_ID                   0.049689         -0.039446  ...   \n",
       "State_ID                             1.000000          0.117416  ...   \n",
       "Employee_code_ID                     0.117416          1.000000  ...   \n",
       "MobileNo_Avl_Flag                         NaN               NaN  ...   \n",
       "Aadhar_flag                         -0.149745          0.043012  ...   \n",
       "PAN_flag                             0.087156         -0.025197  ...   \n",
       "VoterID_flag                         0.130973         -0.041704  ...   \n",
       "Driving_flag                         0.022047         -0.015544  ...   \n",
       "Passport_flag                       -0.000641         -0.006757  ...   \n",
       "PERFORM_CNS_SCORE                   -0.014673         -0.007863  ...   \n",
       "PRI_NO_OF_ACCTS                      0.001606         -0.000965  ...   \n",
       "PRI_ACTIVE_ACCTS                     0.000662          0.000311  ...   \n",
       "PRI_OVERDUE_ACCTS                   -0.000258         -0.000987  ...   \n",
       "PRI_CURRENT_BALANCE                  0.014995          0.003678  ...   \n",
       "PRI_SANCTIONED_AMOUNT                0.008380          0.003121  ...   \n",
       "PRI_DISBURSED_AMOUNT                 0.009952          0.003379  ...   \n",
       "SEC_NO_OF_ACCTS                      0.028813         -0.001699  ...   \n",
       "SEC_ACTIVE_ACCTS                     0.024970         -0.003134  ...   \n",
       "SEC_OVERDUE_ACCTS                    0.011594         -0.006399  ...   \n",
       "SEC_CURRENT_BALANCE                  0.023296         -0.003693  ...   \n",
       "SEC_SANCTIONED_AMOUNT                0.024387         -0.002947  ...   \n",
       "SEC_DISBURSED_AMOUNT                 0.024775         -0.003408  ...   \n",
       "PRIMARY_INSTAL_AMT                   0.018079          0.000625  ...   \n",
       "SEC_INSTAL_AMT                       0.020912          0.001505  ...   \n",
       "NEW_ACCTS_IN_LAST_SIX_MONTHS        -0.000871         -0.000001  ...   \n",
       "DELINQUENT_ACCTS_IN_LAST_SIX_MONTHS  0.010633          0.003850  ...   \n",
       "AVERAGE_ACCT_AGE                     0.001046         -0.001138  ...   \n",
       "CREDIT_HISTORY_LENGTH                0.003586         -0.000175  ...   \n",
       "NO_OF_INQUIRIES                     -0.016524         -0.006579  ...   \n",
       "loan_default                         0.047944          0.020583  ...   \n",
       "age                                  0.040902          0.010830  ...   \n",
       "\n",
       "                                     SEC_DISBURSED_AMOUNT  PRIMARY_INSTAL_AMT  \\\n",
       "UniqueID                                        -0.054384           -0.014828   \n",
       "disbursed_amount                                -0.018416            0.024342   \n",
       "asset_cost                                      -0.034542           -0.063060   \n",
       "ltv                                              0.012572            0.114325   \n",
       "branch_id                                       -0.007634           -0.007845   \n",
       "supplier_id                                     -0.027161           -0.074827   \n",
       "manufacturer_id                                  0.011200            0.060300   \n",
       "Current_pincode_ID                              -0.061059           -0.117825   \n",
       "State_ID                                         0.024775            0.018079   \n",
       "Employee_code_ID                                -0.003408            0.000625   \n",
       "MobileNo_Avl_Flag                                     NaN                 NaN   \n",
       "Aadhar_flag                                      0.011501            0.053942   \n",
       "PAN_flag                                         0.022514            0.003266   \n",
       "VoterID_flag                                    -0.009368           -0.049928   \n",
       "Driving_flag                                     0.008191           -0.001621   \n",
       "Passport_flag                                    0.003055            0.002571   \n",
       "PERFORM_CNS_SCORE                                0.069220            0.619586   \n",
       "PRI_NO_OF_ACCTS                                  0.083953            0.732627   \n",
       "PRI_ACTIVE_ACCTS                                 0.072202            0.659213   \n",
       "PRI_OVERDUE_ACCTS                                0.050270            0.333676   \n",
       "PRI_CURRENT_BALANCE                              0.062068            0.650486   \n",
       "PRI_SANCTIONED_AMOUNT                            0.068925            0.652142   \n",
       "PRI_DISBURSED_AMOUNT                             0.068151            0.656837   \n",
       "SEC_NO_OF_ACCTS                                  0.792648            0.078844   \n",
       "SEC_ACTIVE_ACCTS                                 0.984922            0.058618   \n",
       "SEC_OVERDUE_ACCTS                                0.462576            0.034816   \n",
       "SEC_CURRENT_BALANCE                              0.909716            0.052025   \n",
       "SEC_SANCTIONED_AMOUNT                            0.995140            0.058297   \n",
       "SEC_DISBURSED_AMOUNT                             1.000000            0.057869   \n",
       "PRIMARY_INSTAL_AMT                               0.057869            1.000000   \n",
       "SEC_INSTAL_AMT                                   0.538988            0.051975   \n",
       "NEW_ACCTS_IN_LAST_SIX_MONTHS                     0.104753            0.460287   \n",
       "DELINQUENT_ACCTS_IN_LAST_SIX_MONTHS              0.095390            0.308415   \n",
       "AVERAGE_ACCT_AGE                                 0.137985            0.604466   \n",
       "CREDIT_HISTORY_LENGTH                            0.154056            0.648993   \n",
       "NO_OF_INQUIRIES                                  0.010525            0.274443   \n",
       "loan_default                                    -0.008448           -0.010040   \n",
       "age                                              0.027797            0.186376   \n",
       "\n",
       "                                     SEC_INSTAL_AMT  \\\n",
       "UniqueID                                  -0.043115   \n",
       "disbursed_amount                          -0.016586   \n",
       "asset_cost                                -0.032002   \n",
       "ltv                                        0.013296   \n",
       "branch_id                                 -0.007697   \n",
       "supplier_id                               -0.025211   \n",
       "manufacturer_id                            0.009238   \n",
       "Current_pincode_ID                        -0.053143   \n",
       "State_ID                                   0.020912   \n",
       "Employee_code_ID                           0.001505   \n",
       "MobileNo_Avl_Flag                               NaN   \n",
       "Aadhar_flag                                0.014496   \n",
       "PAN_flag                                   0.016789   \n",
       "VoterID_flag                              -0.012497   \n",
       "Driving_flag                               0.002788   \n",
       "Passport_flag                              0.005100   \n",
       "PERFORM_CNS_SCORE                          0.058291   \n",
       "PRI_NO_OF_ACCTS                            0.068791   \n",
       "PRI_ACTIVE_ACCTS                           0.057651   \n",
       "PRI_OVERDUE_ACCTS                          0.039501   \n",
       "PRI_CURRENT_BALANCE                        0.050129   \n",
       "PRI_SANCTIONED_AMOUNT                      0.054381   \n",
       "PRI_DISBURSED_AMOUNT                       0.053916   \n",
       "SEC_NO_OF_ACCTS                            0.612495   \n",
       "SEC_ACTIVE_ACCTS                           0.534606   \n",
       "SEC_OVERDUE_ACCTS                          0.349970   \n",
       "SEC_CURRENT_BALANCE                        0.537744   \n",
       "SEC_SANCTIONED_AMOUNT                      0.536494   \n",
       "SEC_DISBURSED_AMOUNT                       0.538988   \n",
       "PRIMARY_INSTAL_AMT                         0.051975   \n",
       "SEC_INSTAL_AMT                             1.000000   \n",
       "NEW_ACCTS_IN_LAST_SIX_MONTHS               0.077630   \n",
       "DELINQUENT_ACCTS_IN_LAST_SIX_MONTHS        0.074353   \n",
       "AVERAGE_ACCT_AGE                           0.103295   \n",
       "CREDIT_HISTORY_LENGTH                      0.117696   \n",
       "NO_OF_INQUIRIES                            0.011927   \n",
       "loan_default                              -0.006802   \n",
       "age                                        0.021710   \n",
       "\n",
       "                                     NEW_ACCTS_IN_LAST_SIX_MONTHS  \\\n",
       "UniqueID                                                -0.004234   \n",
       "disbursed_amount                                         0.031688   \n",
       "asset_cost                                              -0.039551   \n",
       "ltv                                                      0.093593   \n",
       "branch_id                                               -0.005489   \n",
       "supplier_id                                             -0.063308   \n",
       "manufacturer_id                                          0.055331   \n",
       "Current_pincode_ID                                      -0.114297   \n",
       "State_ID                                                -0.000871   \n",
       "Employee_code_ID                                        -0.000001   \n",
       "MobileNo_Avl_Flag                                             NaN   \n",
       "Aadhar_flag                                              0.067873   \n",
       "PAN_flag                                                 0.008775   \n",
       "VoterID_flag                                            -0.067433   \n",
       "Driving_flag                                            -0.000873   \n",
       "Passport_flag                                            0.008101   \n",
       "PERFORM_CNS_SCORE                                        0.459074   \n",
       "PRI_NO_OF_ACCTS                                          0.600900   \n",
       "PRI_ACTIVE_ACCTS                                         0.678718   \n",
       "PRI_OVERDUE_ACCTS                                        0.126725   \n",
       "PRI_CURRENT_BALANCE                                      0.621531   \n",
       "PRI_SANCTIONED_AMOUNT                                    0.598278   \n",
       "PRI_DISBURSED_AMOUNT                                     0.597550   \n",
       "SEC_NO_OF_ACCTS                                          0.106665   \n",
       "SEC_ACTIVE_ACCTS                                         0.105837   \n",
       "SEC_OVERDUE_ACCTS                                        0.044085   \n",
       "SEC_CURRENT_BALANCE                                      0.102688   \n",
       "SEC_SANCTIONED_AMOUNT                                    0.105574   \n",
       "SEC_DISBURSED_AMOUNT                                     0.104753   \n",
       "PRIMARY_INSTAL_AMT                                       0.460287   \n",
       "SEC_INSTAL_AMT                                           0.077630   \n",
       "NEW_ACCTS_IN_LAST_SIX_MONTHS                             1.000000   \n",
       "DELINQUENT_ACCTS_IN_LAST_SIX_MONTHS                      0.190572   \n",
       "AVERAGE_ACCT_AGE                                         0.318869   \n",
       "CREDIT_HISTORY_LENGTH                                    0.410966   \n",
       "NO_OF_INQUIRIES                                          0.319832   \n",
       "loan_default                                            -0.033167   \n",
       "age                                                      0.065819   \n",
       "\n",
       "                                     DELINQUENT_ACCTS_IN_LAST_SIX_MONTHS  \\\n",
       "UniqueID                                                       -0.008289   \n",
       "disbursed_amount                                                0.019590   \n",
       "asset_cost                                                     -0.015897   \n",
       "ltv                                                             0.045766   \n",
       "branch_id                                                      -0.000062   \n",
       "supplier_id                                                    -0.026682   \n",
       "manufacturer_id                                                 0.020030   \n",
       "Current_pincode_ID                                             -0.053453   \n",
       "State_ID                                                        0.010633   \n",
       "Employee_code_ID                                                0.003850   \n",
       "MobileNo_Avl_Flag                                                    NaN   \n",
       "Aadhar_flag                                                     0.024483   \n",
       "PAN_flag                                                       -0.001786   \n",
       "VoterID_flag                                                   -0.027991   \n",
       "Driving_flag                                                    0.010650   \n",
       "Passport_flag                                                   0.006408   \n",
       "PERFORM_CNS_SCORE                                               0.182056   \n",
       "PRI_NO_OF_ACCTS                                                 0.342962   \n",
       "PRI_ACTIVE_ACCTS                                                0.360176   \n",
       "PRI_OVERDUE_ACCTS                                               0.463899   \n",
       "PRI_CURRENT_BALANCE                                             0.356345   \n",
       "PRI_SANCTIONED_AMOUNT                                           0.359688   \n",
       "PRI_DISBURSED_AMOUNT                                            0.360858   \n",
       "SEC_NO_OF_ACCTS                                                 0.096540   \n",
       "SEC_ACTIVE_ACCTS                                                0.094344   \n",
       "SEC_OVERDUE_ACCTS                                               0.095463   \n",
       "SEC_CURRENT_BALANCE                                             0.090948   \n",
       "SEC_SANCTIONED_AMOUNT                                           0.095072   \n",
       "SEC_DISBURSED_AMOUNT                                            0.095390   \n",
       "PRIMARY_INSTAL_AMT                                              0.308415   \n",
       "SEC_INSTAL_AMT                                                  0.074353   \n",
       "NEW_ACCTS_IN_LAST_SIX_MONTHS                                    0.190572   \n",
       "DELINQUENT_ACCTS_IN_LAST_SIX_MONTHS                             1.000000   \n",
       "AVERAGE_ACCT_AGE                                                0.303061   \n",
       "CREDIT_HISTORY_LENGTH                                           0.327947   \n",
       "NO_OF_INQUIRIES                                                 0.089959   \n",
       "loan_default                                                    0.038058   \n",
       "age                                                             0.091361   \n",
       "\n",
       "                                     AVERAGE_ACCT_AGE  CREDIT_HISTORY_LENGTH  \\\n",
       "UniqueID                                    -0.016982              -0.019391   \n",
       "disbursed_amount                             0.009000               0.015402   \n",
       "asset_cost                                  -0.056938              -0.058846   \n",
       "ltv                                          0.082620               0.094579   \n",
       "branch_id                                    0.002903               0.001184   \n",
       "supplier_id                                 -0.072565              -0.082190   \n",
       "manufacturer_id                              0.072658               0.080381   \n",
       "Current_pincode_ID                          -0.131324              -0.139401   \n",
       "State_ID                                     0.001046               0.003586   \n",
       "Employee_code_ID                            -0.001138              -0.000175   \n",
       "MobileNo_Avl_Flag                                 NaN                    NaN   \n",
       "Aadhar_flag                                  0.051158               0.059106   \n",
       "PAN_flag                                     0.010281               0.009313   \n",
       "VoterID_flag                                -0.056121              -0.064367   \n",
       "Driving_flag                                 0.016998               0.018214   \n",
       "Passport_flag                                0.014627               0.015947   \n",
       "PERFORM_CNS_SCORE                            0.833218               0.829151   \n",
       "PRI_NO_OF_ACCTS                              0.850845               0.902981   \n",
       "PRI_ACTIVE_ACCTS                             0.728103               0.788321   \n",
       "PRI_OVERDUE_ACCTS                            0.416460               0.442239   \n",
       "PRI_CURRENT_BALANCE                          0.694030               0.743813   \n",
       "PRI_SANCTIONED_AMOUNT                        0.742430               0.789234   \n",
       "PRI_DISBURSED_AMOUNT                         0.742145               0.788950   \n",
       "SEC_NO_OF_ACCTS                              0.173847               0.192301   \n",
       "SEC_ACTIVE_ACCTS                             0.140274               0.156396   \n",
       "SEC_OVERDUE_ACCTS                            0.089385               0.100121   \n",
       "SEC_CURRENT_BALANCE                          0.122625               0.137732   \n",
       "SEC_SANCTIONED_AMOUNT                        0.138491               0.154618   \n",
       "SEC_DISBURSED_AMOUNT                         0.137985               0.154056   \n",
       "PRIMARY_INSTAL_AMT                           0.604466               0.648993   \n",
       "SEC_INSTAL_AMT                               0.103295               0.117696   \n",
       "NEW_ACCTS_IN_LAST_SIX_MONTHS                 0.318869               0.410966   \n",
       "DELINQUENT_ACCTS_IN_LAST_SIX_MONTHS          0.303061               0.327947   \n",
       "AVERAGE_ACCT_AGE                             1.000000               0.981693   \n",
       "CREDIT_HISTORY_LENGTH                        0.981693               1.000000   \n",
       "NO_OF_INQUIRIES                              0.139499               0.166800   \n",
       "loan_default                                -0.035110              -0.040426   \n",
       "age                                          0.278798               0.285823   \n",
       "\n",
       "                                     NO_OF_INQUIRIES  loan_default       age  \n",
       "UniqueID                                    0.016886      0.033890  0.004604  \n",
       "disbursed_amount                            0.046513      0.092884 -0.059652  \n",
       "asset_cost                                 -0.040374      0.017208 -0.124432  \n",
       "ltv                                         0.110737      0.099088  0.098122  \n",
       "branch_id                                  -0.010169      0.031462  0.004098  \n",
       "supplier_id                                -0.053327      0.028757 -0.039670  \n",
       "manufacturer_id                             0.005318     -0.027774  0.047688  \n",
       "Current_pincode_ID                         -0.100171      0.031026 -0.074980  \n",
       "State_ID                                   -0.016524      0.047944  0.040902  \n",
       "Employee_code_ID                           -0.006579      0.020583  0.010830  \n",
       "MobileNo_Avl_Flag                                NaN           NaN       NaN  \n",
       "Aadhar_flag                                 0.053126     -0.041593  0.018677  \n",
       "PAN_flag                                    0.017036      0.002046 -0.012659  \n",
       "VoterID_flag                               -0.042001      0.043747 -0.016326  \n",
       "Driving_flag                               -0.022965     -0.005821 -0.003504  \n",
       "Passport_flag                              -0.000246     -0.007602 -0.005042  \n",
       "PERFORM_CNS_SCORE                           0.186098     -0.059210  0.197969  \n",
       "PRI_NO_OF_ACCTS                             0.247207     -0.043032  0.252126  \n",
       "PRI_ACTIVE_ACCTS                            0.255139     -0.034658  0.202774  \n",
       "PRI_OVERDUE_ACCTS                           0.098377      0.049607  0.157934  \n",
       "PRI_CURRENT_BALANCE                         0.224673     -0.033196  0.205152  \n",
       "PRI_SANCTIONED_AMOUNT                       0.212295     -0.038669  0.219350  \n",
       "PRI_DISBURSED_AMOUNT                        0.214332     -0.037356  0.220191  \n",
       "SEC_NO_OF_ACCTS                             0.013738     -0.010744  0.042281  \n",
       "SEC_ACTIVE_ACCTS                            0.010278     -0.008585  0.027965  \n",
       "SEC_OVERDUE_ACCTS                           0.008998     -0.002780  0.018228  \n",
       "SEC_CURRENT_BALANCE                         0.009691     -0.007526  0.023704  \n",
       "SEC_SANCTIONED_AMOUNT                       0.010743     -0.008411  0.027949  \n",
       "SEC_DISBURSED_AMOUNT                        0.010525     -0.008448  0.027797  \n",
       "PRIMARY_INSTAL_AMT                          0.274443     -0.010040  0.186376  \n",
       "SEC_INSTAL_AMT                              0.011927     -0.006802  0.021710  \n",
       "NEW_ACCTS_IN_LAST_SIX_MONTHS                0.319832     -0.033167  0.065819  \n",
       "DELINQUENT_ACCTS_IN_LAST_SIX_MONTHS         0.089959      0.038058  0.091361  \n",
       "AVERAGE_ACCT_AGE                            0.139499     -0.035110  0.278798  \n",
       "CREDIT_HISTORY_LENGTH                       0.166800     -0.040426  0.285823  \n",
       "NO_OF_INQUIRIES                             1.000000      0.040540 -0.004136  \n",
       "loan_default                                0.040540      1.000000 -0.037930  \n",
       "age                                        -0.004136     -0.037930  1.000000  \n",
       "\n",
       "[38 rows x 38 columns]"
      ]
     },
     "execution_count": 482,
     "metadata": {},
     "output_type": "execute_result"
    }
   ],
   "source": [
    "loan_df.corr(method='spearman')"
   ]
  },
  {
   "cell_type": "code",
   "execution_count": 159,
   "id": "342c6567",
   "metadata": {
    "scrolled": false
   },
   "outputs": [
    {
     "data": {
      "text/plain": [
       "SpearmanrResult(correlation=-0.033166575969647984, pvalue=9.393850315048903e-58)"
      ]
     },
     "execution_count": 159,
     "metadata": {},
     "output_type": "execute_result"
    }
   ],
   "source": [
    "spearmanr(loan_df.NEW_ACCTS_IN_LAST_SIX_MONTHS,loan_df.loan_default)"
   ]
  },
  {
   "cell_type": "code",
   "execution_count": 160,
   "id": "0d9da10b",
   "metadata": {
    "scrolled": true
   },
   "outputs": [
    {
     "data": {
      "text/plain": [
       "SpearmanrResult(correlation=0.03805781161461587, pvalue=1.7920328815785558e-75)"
      ]
     },
     "execution_count": 160,
     "metadata": {},
     "output_type": "execute_result"
    }
   ],
   "source": [
    "spearmanr(loan_df.DELINQUENT_ACCTS_IN_LAST_SIX_MONTHS,loan_df.loan_default)"
   ]
  },
  {
   "cell_type": "code",
   "execution_count": 161,
   "id": "d768b96a",
   "metadata": {
    "scrolled": true
   },
   "outputs": [
    {
     "data": {
      "text/plain": [
       "SpearmanrResult(correlation=-0.04042643503420887, pvalue=6.323461808906134e-85)"
      ]
     },
     "execution_count": 161,
     "metadata": {},
     "output_type": "execute_result"
    }
   ],
   "source": [
    "spearmanr(loan_df.CREDIT_HISTORY_LENGTH,loan_df.loan_default)"
   ]
  },
  {
   "cell_type": "markdown",
   "id": "665c5cb9",
   "metadata": {},
   "source": [
    "#### There is not significant correlation of new loans in last six month, loans defaulted in last 6 months and  time since first loan and propability of defaulting`\n",
    "\n",
    "#### However, this negligible correlation is observed because most customers have zero or very few new loan in 6 months and have zero loan defaults in 6 months. \n",
    "\n",
    "#### If we only observe outliers separately, it is noticed that many customers who have new loans in last six months are non-defaulters. Similarly, many defaulters have loans defaulted in last 6 months."
   ]
  },
  {
   "cell_type": "markdown",
   "id": "8a1d778d",
   "metadata": {},
   "source": [
    "## Observations based on Week 2 Questions 1-5\n",
    "1. Boxplots show that non-defaulter have higher average bureau score compared to defaulters. \n",
    "2. Further, those with bureau rating description indicating high-risk profile of customer showcase more defaulters while those indicating low risk profile showcase fewer defaulters.\n",
    "3. If we ignore few extreme outliers, non-defaulters tend to have more number of primary accounts with higher balance and are sanctioned and disbursed with greater amount compared to defaulters. \n",
    "4. Most customers (both defaulter and non-defaulter) do not have any secondary account. In case of few outliers, non-defaulters tend to have more number of secondary accounts with greater account balance\n",
    "5. Though there is no difference between sanctioned and disbused amount for primary and secondary accounts of most customers, significant difference is observed for few customers.\n",
    "6.  Most customers do not make any inquiry. Among outliers, few defaulters and non-defaulter make inquires. However, only few non-defaulters in the data analyzed make more than 19 inquires. None of the defaulters makes more than 19 inquiries.\n",
    "7. There is not significant correlation of new loans in last six month, loans defaulted in last 6 months and  time since first loan and propability of defaulting`\n",
    "8. However, this negligible correlation is observed because most customers have zero or very few new loan in 6 months and have zero loan defaults in 6 months. \n",
    "9. If we only observe outliers separately, it is noticed that many customers who have new loans in last six months are non-defaulters. Similarly, many defaulters have loans defaulted in last 6 months.\n"
   ]
  },
  {
   "cell_type": "code",
   "execution_count": null,
   "id": "42fb7889",
   "metadata": {},
   "outputs": [],
   "source": []
  },
  {
   "cell_type": "markdown",
   "id": "513a52a7",
   "metadata": {},
   "source": [
    "### 6. Perform logistic regression modeling, predict the outcome for the test data, and validate the results using the confusion matrix."
   ]
  },
  {
   "cell_type": "code",
   "execution_count": 162,
   "id": "fa324699",
   "metadata": {},
   "outputs": [
    {
     "data": {
      "text/html": [
       "<div>\n",
       "<style scoped>\n",
       "    .dataframe tbody tr th:only-of-type {\n",
       "        vertical-align: middle;\n",
       "    }\n",
       "\n",
       "    .dataframe tbody tr th {\n",
       "        vertical-align: top;\n",
       "    }\n",
       "\n",
       "    .dataframe thead th {\n",
       "        text-align: right;\n",
       "    }\n",
       "</style>\n",
       "<table border=\"1\" class=\"dataframe\">\n",
       "  <thead>\n",
       "    <tr style=\"text-align: right;\">\n",
       "      <th></th>\n",
       "      <th>UniqueID</th>\n",
       "      <th>disbursed_amount</th>\n",
       "      <th>asset_cost</th>\n",
       "      <th>ltv</th>\n",
       "      <th>branch_id</th>\n",
       "      <th>supplier_id</th>\n",
       "      <th>manufacturer_id</th>\n",
       "      <th>Current_pincode_ID</th>\n",
       "      <th>Date_of_Birth</th>\n",
       "      <th>Employment_Type</th>\n",
       "      <th>...</th>\n",
       "      <th>SEC_DISBURSED_AMOUNT</th>\n",
       "      <th>PRIMARY_INSTAL_AMT</th>\n",
       "      <th>SEC_INSTAL_AMT</th>\n",
       "      <th>NEW_ACCTS_IN_LAST_SIX_MONTHS</th>\n",
       "      <th>DELINQUENT_ACCTS_IN_LAST_SIX_MONTHS</th>\n",
       "      <th>AVERAGE_ACCT_AGE</th>\n",
       "      <th>CREDIT_HISTORY_LENGTH</th>\n",
       "      <th>NO_OF_INQUIRIES</th>\n",
       "      <th>loan_default</th>\n",
       "      <th>age</th>\n",
       "    </tr>\n",
       "  </thead>\n",
       "  <tbody>\n",
       "    <tr>\n",
       "      <th>0</th>\n",
       "      <td>420825</td>\n",
       "      <td>50578</td>\n",
       "      <td>58400</td>\n",
       "      <td>89.55</td>\n",
       "      <td>67</td>\n",
       "      <td>22807</td>\n",
       "      <td>45</td>\n",
       "      <td>1441</td>\n",
       "      <td>1984-01-01</td>\n",
       "      <td>Salaried</td>\n",
       "      <td>...</td>\n",
       "      <td>0</td>\n",
       "      <td>0</td>\n",
       "      <td>0</td>\n",
       "      <td>0</td>\n",
       "      <td>0</td>\n",
       "      <td>0.000000</td>\n",
       "      <td>0.000000</td>\n",
       "      <td>0</td>\n",
       "      <td>0</td>\n",
       "      <td>38</td>\n",
       "    </tr>\n",
       "    <tr>\n",
       "      <th>1</th>\n",
       "      <td>417566</td>\n",
       "      <td>53278</td>\n",
       "      <td>61360</td>\n",
       "      <td>89.63</td>\n",
       "      <td>67</td>\n",
       "      <td>22807</td>\n",
       "      <td>45</td>\n",
       "      <td>1497</td>\n",
       "      <td>1985-08-24</td>\n",
       "      <td>Self employed</td>\n",
       "      <td>...</td>\n",
       "      <td>0</td>\n",
       "      <td>0</td>\n",
       "      <td>0</td>\n",
       "      <td>0</td>\n",
       "      <td>0</td>\n",
       "      <td>0.000000</td>\n",
       "      <td>0.000000</td>\n",
       "      <td>0</td>\n",
       "      <td>0</td>\n",
       "      <td>37</td>\n",
       "    </tr>\n",
       "    <tr>\n",
       "      <th>2</th>\n",
       "      <td>539055</td>\n",
       "      <td>52378</td>\n",
       "      <td>60300</td>\n",
       "      <td>88.39</td>\n",
       "      <td>67</td>\n",
       "      <td>22807</td>\n",
       "      <td>45</td>\n",
       "      <td>1495</td>\n",
       "      <td>1977-12-09</td>\n",
       "      <td>Self employed</td>\n",
       "      <td>...</td>\n",
       "      <td>0</td>\n",
       "      <td>0</td>\n",
       "      <td>0</td>\n",
       "      <td>0</td>\n",
       "      <td>0</td>\n",
       "      <td>0.000000</td>\n",
       "      <td>0.000000</td>\n",
       "      <td>1</td>\n",
       "      <td>1</td>\n",
       "      <td>44</td>\n",
       "    </tr>\n",
       "    <tr>\n",
       "      <th>3</th>\n",
       "      <td>529269</td>\n",
       "      <td>46349</td>\n",
       "      <td>61500</td>\n",
       "      <td>76.42</td>\n",
       "      <td>67</td>\n",
       "      <td>22807</td>\n",
       "      <td>45</td>\n",
       "      <td>1502</td>\n",
       "      <td>1988-06-01</td>\n",
       "      <td>Salaried</td>\n",
       "      <td>...</td>\n",
       "      <td>0</td>\n",
       "      <td>0</td>\n",
       "      <td>0</td>\n",
       "      <td>0</td>\n",
       "      <td>0</td>\n",
       "      <td>0.000000</td>\n",
       "      <td>0.000000</td>\n",
       "      <td>0</td>\n",
       "      <td>0</td>\n",
       "      <td>34</td>\n",
       "    </tr>\n",
       "    <tr>\n",
       "      <th>4</th>\n",
       "      <td>563215</td>\n",
       "      <td>43594</td>\n",
       "      <td>78256</td>\n",
       "      <td>57.50</td>\n",
       "      <td>67</td>\n",
       "      <td>22744</td>\n",
       "      <td>86</td>\n",
       "      <td>1499</td>\n",
       "      <td>1994-07-14</td>\n",
       "      <td>Self employed</td>\n",
       "      <td>...</td>\n",
       "      <td>0</td>\n",
       "      <td>0</td>\n",
       "      <td>0</td>\n",
       "      <td>0</td>\n",
       "      <td>0</td>\n",
       "      <td>0.000000</td>\n",
       "      <td>0.000000</td>\n",
       "      <td>0</td>\n",
       "      <td>0</td>\n",
       "      <td>28</td>\n",
       "    </tr>\n",
       "    <tr>\n",
       "      <th>...</th>\n",
       "      <td>...</td>\n",
       "      <td>...</td>\n",
       "      <td>...</td>\n",
       "      <td>...</td>\n",
       "      <td>...</td>\n",
       "      <td>...</td>\n",
       "      <td>...</td>\n",
       "      <td>...</td>\n",
       "      <td>...</td>\n",
       "      <td>...</td>\n",
       "      <td>...</td>\n",
       "      <td>...</td>\n",
       "      <td>...</td>\n",
       "      <td>...</td>\n",
       "      <td>...</td>\n",
       "      <td>...</td>\n",
       "      <td>...</td>\n",
       "      <td>...</td>\n",
       "      <td>...</td>\n",
       "      <td>...</td>\n",
       "      <td>...</td>\n",
       "    </tr>\n",
       "    <tr>\n",
       "      <th>233149</th>\n",
       "      <td>561031</td>\n",
       "      <td>57759</td>\n",
       "      <td>76350</td>\n",
       "      <td>77.28</td>\n",
       "      <td>5</td>\n",
       "      <td>22289</td>\n",
       "      <td>51</td>\n",
       "      <td>3326</td>\n",
       "      <td>1981-11-10</td>\n",
       "      <td>Self employed</td>\n",
       "      <td>...</td>\n",
       "      <td>0</td>\n",
       "      <td>0</td>\n",
       "      <td>0</td>\n",
       "      <td>0</td>\n",
       "      <td>0</td>\n",
       "      <td>2.333333</td>\n",
       "      <td>2.333333</td>\n",
       "      <td>0</td>\n",
       "      <td>0</td>\n",
       "      <td>41</td>\n",
       "    </tr>\n",
       "    <tr>\n",
       "      <th>233150</th>\n",
       "      <td>649600</td>\n",
       "      <td>55009</td>\n",
       "      <td>71200</td>\n",
       "      <td>78.72</td>\n",
       "      <td>138</td>\n",
       "      <td>17408</td>\n",
       "      <td>51</td>\n",
       "      <td>3385</td>\n",
       "      <td>1992-10-15</td>\n",
       "      <td>Self employed</td>\n",
       "      <td>...</td>\n",
       "      <td>0</td>\n",
       "      <td>15209</td>\n",
       "      <td>0</td>\n",
       "      <td>0</td>\n",
       "      <td>0</td>\n",
       "      <td>1.416667</td>\n",
       "      <td>1.416667</td>\n",
       "      <td>1</td>\n",
       "      <td>0</td>\n",
       "      <td>30</td>\n",
       "    </tr>\n",
       "    <tr>\n",
       "      <th>233151</th>\n",
       "      <td>603445</td>\n",
       "      <td>58513</td>\n",
       "      <td>68000</td>\n",
       "      <td>88.24</td>\n",
       "      <td>135</td>\n",
       "      <td>23313</td>\n",
       "      <td>45</td>\n",
       "      <td>1797</td>\n",
       "      <td>1981-12-19</td>\n",
       "      <td>Self employed</td>\n",
       "      <td>...</td>\n",
       "      <td>0</td>\n",
       "      <td>257948</td>\n",
       "      <td>0</td>\n",
       "      <td>35</td>\n",
       "      <td>5</td>\n",
       "      <td>0.750000</td>\n",
       "      <td>3.833333</td>\n",
       "      <td>1</td>\n",
       "      <td>0</td>\n",
       "      <td>40</td>\n",
       "    </tr>\n",
       "    <tr>\n",
       "      <th>233152</th>\n",
       "      <td>442948</td>\n",
       "      <td>22824</td>\n",
       "      <td>40458</td>\n",
       "      <td>61.79</td>\n",
       "      <td>160</td>\n",
       "      <td>16212</td>\n",
       "      <td>48</td>\n",
       "      <td>96</td>\n",
       "      <td>1989-07-31</td>\n",
       "      <td>Self employed</td>\n",
       "      <td>...</td>\n",
       "      <td>0</td>\n",
       "      <td>26046</td>\n",
       "      <td>0</td>\n",
       "      <td>9</td>\n",
       "      <td>1</td>\n",
       "      <td>1.166667</td>\n",
       "      <td>3.166667</td>\n",
       "      <td>0</td>\n",
       "      <td>0</td>\n",
       "      <td>33</td>\n",
       "    </tr>\n",
       "    <tr>\n",
       "      <th>233153</th>\n",
       "      <td>545300</td>\n",
       "      <td>35299</td>\n",
       "      <td>72698</td>\n",
       "      <td>52.27</td>\n",
       "      <td>3</td>\n",
       "      <td>14573</td>\n",
       "      <td>45</td>\n",
       "      <td>17</td>\n",
       "      <td>1968-08-01</td>\n",
       "      <td>Self employed</td>\n",
       "      <td>...</td>\n",
       "      <td>0</td>\n",
       "      <td>293886</td>\n",
       "      <td>0</td>\n",
       "      <td>5</td>\n",
       "      <td>0</td>\n",
       "      <td>2.916667</td>\n",
       "      <td>5.333333</td>\n",
       "      <td>0</td>\n",
       "      <td>0</td>\n",
       "      <td>54</td>\n",
       "    </tr>\n",
       "  </tbody>\n",
       "</table>\n",
       "<p>233154 rows × 42 columns</p>\n",
       "</div>"
      ],
      "text/plain": [
       "        UniqueID  disbursed_amount  asset_cost    ltv  branch_id  supplier_id  \\\n",
       "0         420825             50578       58400  89.55         67        22807   \n",
       "1         417566             53278       61360  89.63         67        22807   \n",
       "2         539055             52378       60300  88.39         67        22807   \n",
       "3         529269             46349       61500  76.42         67        22807   \n",
       "4         563215             43594       78256  57.50         67        22744   \n",
       "...          ...               ...         ...    ...        ...          ...   \n",
       "233149    561031             57759       76350  77.28          5        22289   \n",
       "233150    649600             55009       71200  78.72        138        17408   \n",
       "233151    603445             58513       68000  88.24        135        23313   \n",
       "233152    442948             22824       40458  61.79        160        16212   \n",
       "233153    545300             35299       72698  52.27          3        14573   \n",
       "\n",
       "        manufacturer_id  Current_pincode_ID Date_of_Birth Employment_Type  \\\n",
       "0                    45                1441    1984-01-01        Salaried   \n",
       "1                    45                1497    1985-08-24   Self employed   \n",
       "2                    45                1495    1977-12-09   Self employed   \n",
       "3                    45                1502    1988-06-01        Salaried   \n",
       "4                    86                1499    1994-07-14   Self employed   \n",
       "...                 ...                 ...           ...             ...   \n",
       "233149               51                3326    1981-11-10   Self employed   \n",
       "233150               51                3385    1992-10-15   Self employed   \n",
       "233151               45                1797    1981-12-19   Self employed   \n",
       "233152               48                  96    1989-07-31   Self employed   \n",
       "233153               45                  17    1968-08-01   Self employed   \n",
       "\n",
       "        ... SEC_DISBURSED_AMOUNT  PRIMARY_INSTAL_AMT  SEC_INSTAL_AMT  \\\n",
       "0       ...                    0                   0               0   \n",
       "1       ...                    0                   0               0   \n",
       "2       ...                    0                   0               0   \n",
       "3       ...                    0                   0               0   \n",
       "4       ...                    0                   0               0   \n",
       "...     ...                  ...                 ...             ...   \n",
       "233149  ...                    0                   0               0   \n",
       "233150  ...                    0               15209               0   \n",
       "233151  ...                    0              257948               0   \n",
       "233152  ...                    0               26046               0   \n",
       "233153  ...                    0              293886               0   \n",
       "\n",
       "        NEW_ACCTS_IN_LAST_SIX_MONTHS  DELINQUENT_ACCTS_IN_LAST_SIX_MONTHS  \\\n",
       "0                                  0                                    0   \n",
       "1                                  0                                    0   \n",
       "2                                  0                                    0   \n",
       "3                                  0                                    0   \n",
       "4                                  0                                    0   \n",
       "...                              ...                                  ...   \n",
       "233149                             0                                    0   \n",
       "233150                             0                                    0   \n",
       "233151                            35                                    5   \n",
       "233152                             9                                    1   \n",
       "233153                             5                                    0   \n",
       "\n",
       "        AVERAGE_ACCT_AGE  CREDIT_HISTORY_LENGTH  NO_OF_INQUIRIES  \\\n",
       "0               0.000000               0.000000                0   \n",
       "1               0.000000               0.000000                0   \n",
       "2               0.000000               0.000000                1   \n",
       "3               0.000000               0.000000                0   \n",
       "4               0.000000               0.000000                0   \n",
       "...                  ...                    ...              ...   \n",
       "233149          2.333333               2.333333                0   \n",
       "233150          1.416667               1.416667                1   \n",
       "233151          0.750000               3.833333                1   \n",
       "233152          1.166667               3.166667                0   \n",
       "233153          2.916667               5.333333                0   \n",
       "\n",
       "        loan_default  age  \n",
       "0                  0   38  \n",
       "1                  0   37  \n",
       "2                  1   44  \n",
       "3                  0   34  \n",
       "4                  0   28  \n",
       "...              ...  ...  \n",
       "233149             0   41  \n",
       "233150             0   30  \n",
       "233151             0   40  \n",
       "233152             0   33  \n",
       "233153             0   54  \n",
       "\n",
       "[233154 rows x 42 columns]"
      ]
     },
     "execution_count": 162,
     "metadata": {},
     "output_type": "execute_result"
    }
   ],
   "source": [
    "loan_df"
   ]
  },
  {
   "cell_type": "code",
   "execution_count": 163,
   "id": "28b5743c",
   "metadata": {
    "scrolled": true
   },
   "outputs": [
    {
     "data": {
      "text/plain": [
       "Index(['UniqueID', 'disbursed_amount', 'asset_cost', 'ltv', 'branch_id',\n",
       "       'supplier_id', 'manufacturer_id', 'Current_pincode_ID', 'Date_of_Birth',\n",
       "       'Employment_Type', 'DisbursalDate', 'State_ID', 'Employee_code_ID',\n",
       "       'MobileNo_Avl_Flag', 'Aadhar_flag', 'PAN_flag', 'VoterID_flag',\n",
       "       'Driving_flag', 'Passport_flag', 'PERFORM_CNS_SCORE',\n",
       "       'PERFORM_CNS_SCORE_DESCRIPTION', 'PRI_NO_OF_ACCTS', 'PRI_ACTIVE_ACCTS',\n",
       "       'PRI_OVERDUE_ACCTS', 'PRI_CURRENT_BALANCE', 'PRI_SANCTIONED_AMOUNT',\n",
       "       'PRI_DISBURSED_AMOUNT', 'SEC_NO_OF_ACCTS', 'SEC_ACTIVE_ACCTS',\n",
       "       'SEC_OVERDUE_ACCTS', 'SEC_CURRENT_BALANCE', 'SEC_SANCTIONED_AMOUNT',\n",
       "       'SEC_DISBURSED_AMOUNT', 'PRIMARY_INSTAL_AMT', 'SEC_INSTAL_AMT',\n",
       "       'NEW_ACCTS_IN_LAST_SIX_MONTHS', 'DELINQUENT_ACCTS_IN_LAST_SIX_MONTHS',\n",
       "       'AVERAGE_ACCT_AGE', 'CREDIT_HISTORY_LENGTH', 'NO_OF_INQUIRIES',\n",
       "       'loan_default', 'age'],\n",
       "      dtype='object')"
      ]
     },
     "execution_count": 163,
     "metadata": {},
     "output_type": "execute_result"
    }
   ],
   "source": [
    "loan_df.columns"
   ]
  },
  {
   "cell_type": "code",
   "execution_count": 164,
   "id": "d87ca826",
   "metadata": {},
   "outputs": [
    {
     "data": {
      "text/plain": [
       "(233154, 42)"
      ]
     },
     "execution_count": 164,
     "metadata": {},
     "output_type": "execute_result"
    }
   ],
   "source": [
    "np.shape(loan_df)"
   ]
  },
  {
   "cell_type": "code",
   "execution_count": 165,
   "id": "8f31c6fa",
   "metadata": {},
   "outputs": [],
   "source": [
    "# Drop\n",
    "# UniqueID\n",
    "# Date_of_Birth\n",
    "# DisbursalDate\n",
    "# MobileNo_Avl_Flag\n",
    "# PERFORM_CNS_SCORE"
   ]
  },
  {
   "cell_type": "code",
   "execution_count": 277,
   "id": "3b88918c",
   "metadata": {},
   "outputs": [],
   "source": [
    "loan_df_2=loan_df.drop(columns=['UniqueID','Date_of_Birth','DisbursalDate','MobileNo_Avl_Flag','PERFORM_CNS_SCORE','Current_pincode_ID','Employee_code_ID'])"
   ]
  },
  {
   "cell_type": "code",
   "execution_count": 278,
   "id": "a80a56da",
   "metadata": {},
   "outputs": [
    {
     "data": {
      "text/plain": [
       "(233154, 35)"
      ]
     },
     "execution_count": 278,
     "metadata": {},
     "output_type": "execute_result"
    }
   ],
   "source": [
    "np.shape(loan_df_2)"
   ]
  },
  {
   "cell_type": "code",
   "execution_count": 279,
   "id": "b4fba32e",
   "metadata": {},
   "outputs": [],
   "source": [
    "# get_dummies\n",
    "# branch_id\n",
    "# manufacturer_id\n",
    "# Employment_Type\n",
    "# State_ID\n",
    "# PERFORM_CNS_SCORE_DESCRIPTION"
   ]
  },
  {
   "cell_type": "code",
   "execution_count": 280,
   "id": "eb1d05e8",
   "metadata": {},
   "outputs": [],
   "source": [
    "loan_df_2_dummies=pd.get_dummies(loan_df_2[['branch_id','manufacturer_id','Employment_Type','State_ID','PERFORM_CNS_SCORE_DESCRIPTION']].astype(str),drop_first=True)"
   ]
  },
  {
   "cell_type": "code",
   "execution_count": 281,
   "id": "e16cd747",
   "metadata": {},
   "outputs": [
    {
     "data": {
      "text/plain": [
       "(233154, 132)"
      ]
     },
     "execution_count": 281,
     "metadata": {},
     "output_type": "execute_result"
    }
   ],
   "source": [
    "np.shape(loan_df_2_dummies)"
   ]
  },
  {
   "cell_type": "code",
   "execution_count": 282,
   "id": "ea1162dc",
   "metadata": {},
   "outputs": [],
   "source": [
    "loan_df_2=pd.merge(loan_df_2,loan_df_2_dummies ,how='left',left_index=True,right_index=True); \n",
    "loan_df_2=loan_df_2.drop(columns=['branch_id','supplier_id','manufacturer_id','Employment_Type','State_ID','PERFORM_CNS_SCORE_DESCRIPTION']);"
   ]
  },
  {
   "cell_type": "code",
   "execution_count": 283,
   "id": "63a2f6f6",
   "metadata": {
    "scrolled": true
   },
   "outputs": [
    {
     "data": {
      "text/plain": [
       "(233154, 161)"
      ]
     },
     "execution_count": 283,
     "metadata": {},
     "output_type": "execute_result"
    }
   ],
   "source": [
    "np.shape(loan_df_2)"
   ]
  },
  {
   "cell_type": "code",
   "execution_count": 284,
   "id": "9d3c154a",
   "metadata": {},
   "outputs": [
    {
     "data": {
      "text/plain": [
       "SpearmanrResult(correlation=0.670569337078484, pvalue=0.0)"
      ]
     },
     "execution_count": 284,
     "metadata": {},
     "output_type": "execute_result"
    }
   ],
   "source": [
    "spearmanr(loan_df.disbursed_amount,loan_df.asset_cost)"
   ]
  },
  {
   "cell_type": "code",
   "execution_count": 285,
   "id": "8780350f",
   "metadata": {
    "scrolled": false
   },
   "outputs": [
    {
     "data": {
      "text/plain": [
       "SpearmanrResult(correlation=0.4222823320162862, pvalue=0.0)"
      ]
     },
     "execution_count": 285,
     "metadata": {},
     "output_type": "execute_result"
    }
   ],
   "source": [
    "spearmanr(loan_df.disbursed_amount,loan_df.ltv)"
   ]
  },
  {
   "cell_type": "markdown",
   "id": "2c766c21",
   "metadata": {},
   "source": [
    "#### Since disbursed_amount, asset_cost and ltv are strongly correlated, we drop the asset_cost and ltv column"
   ]
  },
  {
   "cell_type": "code",
   "execution_count": 287,
   "id": "0f899156",
   "metadata": {},
   "outputs": [],
   "source": [
    "loan_df_2=loan_df_2.drop(columns=['asset_cost','ltv'])"
   ]
  },
  {
   "cell_type": "code",
   "execution_count": 288,
   "id": "45ce9498",
   "metadata": {},
   "outputs": [],
   "source": [
    "loan_df_train,loan_df_test=train_test_split(loan_df_2,test_size=0.15,random_state=0);"
   ]
  },
  {
   "cell_type": "code",
   "execution_count": 289,
   "id": "3f0d112f",
   "metadata": {},
   "outputs": [
    {
     "data": {
      "text/plain": [
       "(198180, 159)"
      ]
     },
     "execution_count": 289,
     "metadata": {},
     "output_type": "execute_result"
    }
   ],
   "source": [
    "np.shape(loan_df_train)"
   ]
  },
  {
   "cell_type": "code",
   "execution_count": 290,
   "id": "e91f59f5",
   "metadata": {},
   "outputs": [
    {
     "data": {
      "text/plain": [
       "(34974, 159)"
      ]
     },
     "execution_count": 290,
     "metadata": {},
     "output_type": "execute_result"
    }
   ],
   "source": [
    "np.shape(loan_df_test)"
   ]
  },
  {
   "cell_type": "code",
   "execution_count": 291,
   "id": "ab3da8ab",
   "metadata": {},
   "outputs": [],
   "source": [
    "X_train=loan_df_train.drop(columns=['loan_default']);\n",
    "y_train=loan_df_train.loan_default;\n",
    "X_test=loan_df_test.drop(columns=['loan_default']);\n",
    "y_test=loan_df_test.loan_default;"
   ]
  },
  {
   "cell_type": "code",
   "execution_count": 292,
   "id": "5a9b245f",
   "metadata": {},
   "outputs": [
    {
     "name": "stdout",
     "output_type": "stream",
     "text": [
      "(198180, 158)\n",
      "(198180,)\n",
      "(34974, 158)\n",
      "(34974,)\n"
     ]
    }
   ],
   "source": [
    "print(np.shape(X_train))\n",
    "print(np.shape(y_train))\n",
    "print(np.shape(X_test))\n",
    "print(np.shape(y_test))"
   ]
  },
  {
   "cell_type": "code",
   "execution_count": 296,
   "id": "17cebbb2",
   "metadata": {},
   "outputs": [],
   "source": [
    "transformer = Normalizer().fit(X_train[['disbursed_amount','PRI_NO_OF_ACCTS','PRI_ACTIVE_ACCTS','PRI_OVERDUE_ACCTS', 'PRI_CURRENT_BALANCE', 'PRI_SANCTIONED_AMOUNT','PRI_DISBURSED_AMOUNT', 'SEC_NO_OF_ACCTS', 'SEC_ACTIVE_ACCTS','SEC_OVERDUE_ACCTS', 'SEC_CURRENT_BALANCE', 'SEC_SANCTIONED_AMOUNT','SEC_DISBURSED_AMOUNT', 'PRIMARY_INSTAL_AMT', 'SEC_INSTAL_AMT','NEW_ACCTS_IN_LAST_SIX_MONTHS', 'DELINQUENT_ACCTS_IN_LAST_SIX_MONTHS','AVERAGE_ACCT_AGE', 'CREDIT_HISTORY_LENGTH', 'NO_OF_INQUIRIES','age']]);"
   ]
  },
  {
   "cell_type": "code",
   "execution_count": 297,
   "id": "49108e35",
   "metadata": {},
   "outputs": [],
   "source": [
    "X_train[['disbursed_amount','PRI_NO_OF_ACCTS','PRI_ACTIVE_ACCTS','PRI_OVERDUE_ACCTS', 'PRI_CURRENT_BALANCE', 'PRI_SANCTIONED_AMOUNT','PRI_DISBURSED_AMOUNT', 'SEC_NO_OF_ACCTS', 'SEC_ACTIVE_ACCTS','SEC_OVERDUE_ACCTS', 'SEC_CURRENT_BALANCE', 'SEC_SANCTIONED_AMOUNT','SEC_DISBURSED_AMOUNT', 'PRIMARY_INSTAL_AMT', 'SEC_INSTAL_AMT','NEW_ACCTS_IN_LAST_SIX_MONTHS', 'DELINQUENT_ACCTS_IN_LAST_SIX_MONTHS','AVERAGE_ACCT_AGE', 'CREDIT_HISTORY_LENGTH', 'NO_OF_INQUIRIES','age']]=transformer.transform(X_train[['disbursed_amount','PRI_NO_OF_ACCTS','PRI_ACTIVE_ACCTS','PRI_OVERDUE_ACCTS', 'PRI_CURRENT_BALANCE', 'PRI_SANCTIONED_AMOUNT','PRI_DISBURSED_AMOUNT', 'SEC_NO_OF_ACCTS', 'SEC_ACTIVE_ACCTS','SEC_OVERDUE_ACCTS', 'SEC_CURRENT_BALANCE', 'SEC_SANCTIONED_AMOUNT','SEC_DISBURSED_AMOUNT', 'PRIMARY_INSTAL_AMT', 'SEC_INSTAL_AMT','NEW_ACCTS_IN_LAST_SIX_MONTHS', 'DELINQUENT_ACCTS_IN_LAST_SIX_MONTHS','AVERAGE_ACCT_AGE', 'CREDIT_HISTORY_LENGTH', 'NO_OF_INQUIRIES','age']])\n"
   ]
  },
  {
   "cell_type": "code",
   "execution_count": 298,
   "id": "3a759527",
   "metadata": {},
   "outputs": [],
   "source": [
    "X_test[['disbursed_amount','PRI_NO_OF_ACCTS','PRI_ACTIVE_ACCTS','PRI_OVERDUE_ACCTS', 'PRI_CURRENT_BALANCE', 'PRI_SANCTIONED_AMOUNT','PRI_DISBURSED_AMOUNT', 'SEC_NO_OF_ACCTS', 'SEC_ACTIVE_ACCTS','SEC_OVERDUE_ACCTS', 'SEC_CURRENT_BALANCE', 'SEC_SANCTIONED_AMOUNT','SEC_DISBURSED_AMOUNT', 'PRIMARY_INSTAL_AMT', 'SEC_INSTAL_AMT','NEW_ACCTS_IN_LAST_SIX_MONTHS', 'DELINQUENT_ACCTS_IN_LAST_SIX_MONTHS','AVERAGE_ACCT_AGE', 'CREDIT_HISTORY_LENGTH', 'NO_OF_INQUIRIES','age']]=transformer.transform(X_test[['disbursed_amount','PRI_NO_OF_ACCTS','PRI_ACTIVE_ACCTS','PRI_OVERDUE_ACCTS', 'PRI_CURRENT_BALANCE', 'PRI_SANCTIONED_AMOUNT','PRI_DISBURSED_AMOUNT', 'SEC_NO_OF_ACCTS', 'SEC_ACTIVE_ACCTS','SEC_OVERDUE_ACCTS', 'SEC_CURRENT_BALANCE', 'SEC_SANCTIONED_AMOUNT','SEC_DISBURSED_AMOUNT', 'PRIMARY_INSTAL_AMT', 'SEC_INSTAL_AMT','NEW_ACCTS_IN_LAST_SIX_MONTHS', 'DELINQUENT_ACCTS_IN_LAST_SIX_MONTHS','AVERAGE_ACCT_AGE', 'CREDIT_HISTORY_LENGTH', 'NO_OF_INQUIRIES','age']]);"
   ]
  },
  {
   "cell_type": "code",
   "execution_count": 469,
   "id": "7f96f952",
   "metadata": {},
   "outputs": [],
   "source": [
    "lr_model=LogisticRegression(C=0.1,penalty='elasticnet',solver='saga',l1_ratio=0.75);"
   ]
  },
  {
   "cell_type": "code",
   "execution_count": 470,
   "id": "a0446517",
   "metadata": {
    "scrolled": false
   },
   "outputs": [
    {
     "data": {
      "text/html": [
       "<style>#sk-container-id-25 {color: black;background-color: white;}#sk-container-id-25 pre{padding: 0;}#sk-container-id-25 div.sk-toggleable {background-color: white;}#sk-container-id-25 label.sk-toggleable__label {cursor: pointer;display: block;width: 100%;margin-bottom: 0;padding: 0.3em;box-sizing: border-box;text-align: center;}#sk-container-id-25 label.sk-toggleable__label-arrow:before {content: \"▸\";float: left;margin-right: 0.25em;color: #696969;}#sk-container-id-25 label.sk-toggleable__label-arrow:hover:before {color: black;}#sk-container-id-25 div.sk-estimator:hover label.sk-toggleable__label-arrow:before {color: black;}#sk-container-id-25 div.sk-toggleable__content {max-height: 0;max-width: 0;overflow: hidden;text-align: left;background-color: #f0f8ff;}#sk-container-id-25 div.sk-toggleable__content pre {margin: 0.2em;color: black;border-radius: 0.25em;background-color: #f0f8ff;}#sk-container-id-25 input.sk-toggleable__control:checked~div.sk-toggleable__content {max-height: 200px;max-width: 100%;overflow: auto;}#sk-container-id-25 input.sk-toggleable__control:checked~label.sk-toggleable__label-arrow:before {content: \"▾\";}#sk-container-id-25 div.sk-estimator input.sk-toggleable__control:checked~label.sk-toggleable__label {background-color: #d4ebff;}#sk-container-id-25 div.sk-label input.sk-toggleable__control:checked~label.sk-toggleable__label {background-color: #d4ebff;}#sk-container-id-25 input.sk-hidden--visually {border: 0;clip: rect(1px 1px 1px 1px);clip: rect(1px, 1px, 1px, 1px);height: 1px;margin: -1px;overflow: hidden;padding: 0;position: absolute;width: 1px;}#sk-container-id-25 div.sk-estimator {font-family: monospace;background-color: #f0f8ff;border: 1px dotted black;border-radius: 0.25em;box-sizing: border-box;margin-bottom: 0.5em;}#sk-container-id-25 div.sk-estimator:hover {background-color: #d4ebff;}#sk-container-id-25 div.sk-parallel-item::after {content: \"\";width: 100%;border-bottom: 1px solid gray;flex-grow: 1;}#sk-container-id-25 div.sk-label:hover label.sk-toggleable__label {background-color: #d4ebff;}#sk-container-id-25 div.sk-serial::before {content: \"\";position: absolute;border-left: 1px solid gray;box-sizing: border-box;top: 0;bottom: 0;left: 50%;z-index: 0;}#sk-container-id-25 div.sk-serial {display: flex;flex-direction: column;align-items: center;background-color: white;padding-right: 0.2em;padding-left: 0.2em;position: relative;}#sk-container-id-25 div.sk-item {position: relative;z-index: 1;}#sk-container-id-25 div.sk-parallel {display: flex;align-items: stretch;justify-content: center;background-color: white;position: relative;}#sk-container-id-25 div.sk-item::before, #sk-container-id-25 div.sk-parallel-item::before {content: \"\";position: absolute;border-left: 1px solid gray;box-sizing: border-box;top: 0;bottom: 0;left: 50%;z-index: -1;}#sk-container-id-25 div.sk-parallel-item {display: flex;flex-direction: column;z-index: 1;position: relative;background-color: white;}#sk-container-id-25 div.sk-parallel-item:first-child::after {align-self: flex-end;width: 50%;}#sk-container-id-25 div.sk-parallel-item:last-child::after {align-self: flex-start;width: 50%;}#sk-container-id-25 div.sk-parallel-item:only-child::after {width: 0;}#sk-container-id-25 div.sk-dashed-wrapped {border: 1px dashed gray;margin: 0 0.4em 0.5em 0.4em;box-sizing: border-box;padding-bottom: 0.4em;background-color: white;}#sk-container-id-25 div.sk-label label {font-family: monospace;font-weight: bold;display: inline-block;line-height: 1.2em;}#sk-container-id-25 div.sk-label-container {text-align: center;}#sk-container-id-25 div.sk-container {/* jupyter's `normalize.less` sets `[hidden] { display: none; }` but bootstrap.min.css set `[hidden] { display: none !important; }` so we also need the `!important` here to be able to override the default hidden behavior on the sphinx rendered scikit-learn.org. See: https://github.com/scikit-learn/scikit-learn/issues/21755 */display: inline-block !important;position: relative;}#sk-container-id-25 div.sk-text-repr-fallback {display: none;}</style><div id=\"sk-container-id-25\" class=\"sk-top-container\"><div class=\"sk-text-repr-fallback\"><pre>LogisticRegression(C=0.1, l1_ratio=0.75, penalty=&#x27;elasticnet&#x27;, solver=&#x27;saga&#x27;)</pre><b>In a Jupyter environment, please rerun this cell to show the HTML representation or trust the notebook. <br />On GitHub, the HTML representation is unable to render, please try loading this page with nbviewer.org.</b></div><div class=\"sk-container\" hidden><div class=\"sk-item\"><div class=\"sk-estimator sk-toggleable\"><input class=\"sk-toggleable__control sk-hidden--visually\" id=\"sk-estimator-id-25\" type=\"checkbox\" checked><label for=\"sk-estimator-id-25\" class=\"sk-toggleable__label sk-toggleable__label-arrow\">LogisticRegression</label><div class=\"sk-toggleable__content\"><pre>LogisticRegression(C=0.1, l1_ratio=0.75, penalty=&#x27;elasticnet&#x27;, solver=&#x27;saga&#x27;)</pre></div></div></div></div></div>"
      ],
      "text/plain": [
       "LogisticRegression(C=0.1, l1_ratio=0.75, penalty='elasticnet', solver='saga')"
      ]
     },
     "execution_count": 470,
     "metadata": {},
     "output_type": "execute_result"
    }
   ],
   "source": [
    "lr_model.fit(X_train,y_train)"
   ]
  },
  {
   "cell_type": "code",
   "execution_count": 471,
   "id": "19d21c31",
   "metadata": {
    "scrolled": true
   },
   "outputs": [
    {
     "data": {
      "text/plain": [
       "0.7827934201231204"
      ]
     },
     "execution_count": 471,
     "metadata": {},
     "output_type": "execute_result"
    }
   ],
   "source": [
    "lr_model.score(X_train,y_train)"
   ]
  },
  {
   "cell_type": "code",
   "execution_count": 472,
   "id": "ec19a107",
   "metadata": {},
   "outputs": [
    {
     "data": {
      "text/plain": [
       "0.7829816435066049"
      ]
     },
     "execution_count": 472,
     "metadata": {},
     "output_type": "execute_result"
    }
   ],
   "source": [
    "lr_model.score(X_test,y_test)"
   ]
  },
  {
   "cell_type": "code",
   "execution_count": 473,
   "id": "ef6dfc73",
   "metadata": {},
   "outputs": [
    {
     "data": {
      "text/plain": [
       "array([-2.93510838])"
      ]
     },
     "execution_count": 473,
     "metadata": {},
     "output_type": "execute_result"
    }
   ],
   "source": [
    "lr_model.intercept_"
   ]
  },
  {
   "cell_type": "code",
   "execution_count": 474,
   "id": "3d354afe",
   "metadata": {},
   "outputs": [
    {
     "data": {
      "text/plain": [
       "array([[ 1.44296613, -0.08066312, -0.09834279,  0.06541072, -0.12572076,\n",
       "        -0.28048665,  0.        ,  0.        ,  0.        ,  0.76135884,\n",
       "        -0.14380981,  1.18183296,  0.        ,  0.        ,  0.        ,\n",
       "         0.        ,  0.75009289,  0.48603835,  0.26027867,  0.        ,\n",
       "         0.        ,  0.        ,  0.        ,  0.        ,  0.        ,\n",
       "         0.        ,  0.64091899, -0.21558731,  0.        , -0.17003994,\n",
       "        -0.1810993 ,  0.35274772,  0.27520353,  0.        ,  0.23823379,\n",
       "         0.0914424 , -0.01469813,  0.        ,  0.        , -0.12353892,\n",
       "        -0.09011626, -0.0227036 ,  0.13784633,  0.        ,  0.41143013,\n",
       "         0.18992182, -0.12541186, -0.13916181,  0.33541139,  0.        ,\n",
       "         0.        ,  0.41301182, -0.10509036, -0.22507407,  0.07506498,\n",
       "        -0.32292859,  0.03910454, -0.28207297, -0.13156282, -0.07650713,\n",
       "         0.        ,  0.        ,  0.        ,  0.21102777,  0.        ,\n",
       "         0.04297638,  0.16733534,  0.15558179,  0.30090079,  0.        ,\n",
       "         0.        ,  0.        ,  0.        ,  0.        ,  0.29326128,\n",
       "        -0.21020513, -0.13739119,  0.02857908,  0.        ,  0.16135986,\n",
       "        -0.0341232 , -0.05690134,  0.07382186,  0.08287561,  0.        ,\n",
       "         0.        ,  0.1290473 , -0.04297432, -0.06246636, -0.04166376,\n",
       "        -0.03073767,  0.05302329,  0.31076437, -0.07989087, -0.04527969,\n",
       "         0.        ,  0.27895563,  0.        , -0.0263836 ,  0.32025269,\n",
       "         0.00269217, -0.06791212, -0.05508942,  0.        ,  0.17426626,\n",
       "         0.26824068,  0.27067321, -0.10322147,  0.        ,  0.        ,\n",
       "         0.        ,  0.03138814,  0.12979511,  0.        , -0.03689982,\n",
       "        -0.01270142, -0.08482698,  0.16555827, -0.15352177,  0.        ,\n",
       "         0.0914424 ,  0.30514061, -0.01700545,  0.1058064 , -0.08455253,\n",
       "         0.05616811,  0.05073844, -0.05508942,  0.18992182,  0.        ,\n",
       "         0.        ,  0.        , -0.45806159,  0.03602164, -0.05821605,\n",
       "         0.        ,  0.        ,  0.19002581,  0.        , -0.26162752,\n",
       "        -0.09342347, -0.140473  ,  0.03630321,  0.11443741,  0.1872816 ,\n",
       "         0.41813375,  0.58803715,  0.55483414,  0.69796783,  0.60496215,\n",
       "         0.74879739,  0.24178285,  0.        ,  0.01630528,  0.        ,\n",
       "         0.023551  ,  0.22534659,  0.27167041]])"
      ]
     },
     "execution_count": 474,
     "metadata": {},
     "output_type": "execute_result"
    }
   ],
   "source": [
    "lr_model.coef_"
   ]
  },
  {
   "cell_type": "code",
   "execution_count": 475,
   "id": "cebb5d18",
   "metadata": {},
   "outputs": [
    {
     "data": {
      "text/plain": [
       "array(['disbursed_amount', 'Aadhar_flag', 'PAN_flag', 'VoterID_flag',\n",
       "       'Driving_flag', 'Passport_flag', 'PRI_NO_OF_ACCTS',\n",
       "       'PRI_ACTIVE_ACCTS', 'PRI_OVERDUE_ACCTS', 'PRI_CURRENT_BALANCE',\n",
       "       'PRI_SANCTIONED_AMOUNT', 'PRI_DISBURSED_AMOUNT', 'SEC_NO_OF_ACCTS',\n",
       "       'SEC_ACTIVE_ACCTS', 'SEC_OVERDUE_ACCTS', 'SEC_CURRENT_BALANCE',\n",
       "       'SEC_SANCTIONED_AMOUNT', 'SEC_DISBURSED_AMOUNT',\n",
       "       'PRIMARY_INSTAL_AMT', 'SEC_INSTAL_AMT',\n",
       "       'NEW_ACCTS_IN_LAST_SIX_MONTHS',\n",
       "       'DELINQUENT_ACCTS_IN_LAST_SIX_MONTHS', 'AVERAGE_ACCT_AGE',\n",
       "       'CREDIT_HISTORY_LENGTH', 'NO_OF_INQUIRIES', 'age', 'branch_id_10',\n",
       "       'branch_id_100', 'branch_id_101', 'branch_id_103', 'branch_id_104',\n",
       "       'branch_id_105', 'branch_id_11', 'branch_id_111', 'branch_id_117',\n",
       "       'branch_id_120', 'branch_id_121', 'branch_id_13', 'branch_id_130',\n",
       "       'branch_id_135', 'branch_id_136', 'branch_id_138', 'branch_id_14',\n",
       "       'branch_id_142', 'branch_id_146', 'branch_id_147', 'branch_id_15',\n",
       "       'branch_id_152', 'branch_id_153', 'branch_id_158', 'branch_id_159',\n",
       "       'branch_id_16', 'branch_id_160', 'branch_id_162', 'branch_id_165',\n",
       "       'branch_id_17', 'branch_id_18', 'branch_id_19', 'branch_id_2',\n",
       "       'branch_id_20', 'branch_id_202', 'branch_id_207', 'branch_id_217',\n",
       "       'branch_id_248', 'branch_id_249', 'branch_id_250', 'branch_id_251',\n",
       "       'branch_id_254', 'branch_id_255', 'branch_id_257', 'branch_id_258',\n",
       "       'branch_id_259', 'branch_id_260', 'branch_id_261', 'branch_id_29',\n",
       "       'branch_id_3', 'branch_id_34', 'branch_id_35', 'branch_id_36',\n",
       "       'branch_id_42', 'branch_id_43', 'branch_id_48', 'branch_id_5',\n",
       "       'branch_id_61', 'branch_id_62', 'branch_id_63', 'branch_id_64',\n",
       "       'branch_id_65', 'branch_id_66', 'branch_id_67', 'branch_id_68',\n",
       "       'branch_id_69', 'branch_id_7', 'branch_id_70', 'branch_id_72',\n",
       "       'branch_id_73', 'branch_id_74', 'branch_id_76', 'branch_id_77',\n",
       "       'branch_id_78', 'branch_id_79', 'branch_id_8', 'branch_id_82',\n",
       "       'branch_id_84', 'branch_id_85', 'branch_id_9', 'branch_id_97',\n",
       "       'manufacturer_id_145', 'manufacturer_id_152',\n",
       "       'manufacturer_id_153', 'manufacturer_id_156', 'manufacturer_id_45',\n",
       "       'manufacturer_id_48', 'manufacturer_id_49', 'manufacturer_id_51',\n",
       "       'manufacturer_id_67', 'manufacturer_id_86',\n",
       "       'Employment_Type_Self employed', 'State_ID_10', 'State_ID_11',\n",
       "       'State_ID_12', 'State_ID_13', 'State_ID_14', 'State_ID_15',\n",
       "       'State_ID_16', 'State_ID_17', 'State_ID_18', 'State_ID_19',\n",
       "       'State_ID_2', 'State_ID_20', 'State_ID_21', 'State_ID_22',\n",
       "       'State_ID_3', 'State_ID_4', 'State_ID_5', 'State_ID_6',\n",
       "       'State_ID_7', 'State_ID_8', 'State_ID_9',\n",
       "       'PERFORM_CNS_SCORE_DESCRIPTION_B-Very Low Risk',\n",
       "       'PERFORM_CNS_SCORE_DESCRIPTION_C-Very Low Risk',\n",
       "       'PERFORM_CNS_SCORE_DESCRIPTION_D-Very Low Risk',\n",
       "       'PERFORM_CNS_SCORE_DESCRIPTION_E-Low Risk',\n",
       "       'PERFORM_CNS_SCORE_DESCRIPTION_F-Low Risk',\n",
       "       'PERFORM_CNS_SCORE_DESCRIPTION_G-Low Risk',\n",
       "       'PERFORM_CNS_SCORE_DESCRIPTION_H-Medium Risk',\n",
       "       'PERFORM_CNS_SCORE_DESCRIPTION_I-Medium Risk',\n",
       "       'PERFORM_CNS_SCORE_DESCRIPTION_J-High Risk',\n",
       "       'PERFORM_CNS_SCORE_DESCRIPTION_K-High Risk',\n",
       "       'PERFORM_CNS_SCORE_DESCRIPTION_L-Very High Risk',\n",
       "       'PERFORM_CNS_SCORE_DESCRIPTION_M-Very High Risk',\n",
       "       'PERFORM_CNS_SCORE_DESCRIPTION_No Bureau History Available',\n",
       "       'PERFORM_CNS_SCORE_DESCRIPTION_Not Scored: More than 50 active Accounts found',\n",
       "       'PERFORM_CNS_SCORE_DESCRIPTION_Not Scored: No Activity seen on the customer (Inactive)',\n",
       "       'PERFORM_CNS_SCORE_DESCRIPTION_Not Scored: No Updates available in last 36 months',\n",
       "       'PERFORM_CNS_SCORE_DESCRIPTION_Not Scored: Not Enough Info available on the customer',\n",
       "       'PERFORM_CNS_SCORE_DESCRIPTION_Not Scored: Only a Guarantor',\n",
       "       'PERFORM_CNS_SCORE_DESCRIPTION_Not Scored: Sufficient History Not Available'],\n",
       "      dtype=object)"
      ]
     },
     "execution_count": 475,
     "metadata": {},
     "output_type": "execute_result"
    }
   ],
   "source": [
    "lr_model.feature_names_in_"
   ]
  },
  {
   "cell_type": "code",
   "execution_count": 476,
   "id": "35076c0e",
   "metadata": {},
   "outputs": [
    {
     "data": {
      "text/plain": [
       "0.7827934201231204"
      ]
     },
     "execution_count": 476,
     "metadata": {},
     "output_type": "execute_result"
    }
   ],
   "source": [
    "lr_model.score(X_train,y_train)"
   ]
  },
  {
   "cell_type": "code",
   "execution_count": 477,
   "id": "580457dd",
   "metadata": {
    "scrolled": true
   },
   "outputs": [
    {
     "data": {
      "text/plain": [
       "0.7829816435066049"
      ]
     },
     "execution_count": 477,
     "metadata": {},
     "output_type": "execute_result"
    }
   ],
   "source": [
    "lr_model.score(X_test,y_test)"
   ]
  },
  {
   "cell_type": "code",
   "execution_count": 479,
   "id": "d40a1259",
   "metadata": {},
   "outputs": [
    {
     "data": {
      "text/plain": [
       "array([[27371,     8],\n",
       "       [ 7582,    13]], dtype=int64)"
      ]
     },
     "execution_count": 479,
     "metadata": {},
     "output_type": "execute_result"
    }
   ],
   "source": [
    "confusion_matrix(y_test,lr_model.predict(X_test))"
   ]
  },
  {
   "cell_type": "markdown",
   "id": "2d9a7767",
   "metadata": {},
   "source": [
    "#### Observations based on Logistic Regression model. Week 2- Question 6\n",
    "1. The logistic Regression model developed predicts the correct result 78.28 % times \n",
    "2. On observing the coefficients of the Logistic regression model, it is found that whether the customer is defaulter majorly depends upon disbursed_amount, PRI_DISBURSED_AMOUNT, Bureau score description etc. among other features like branch id, state id, manufacturing id etc.\n",
    "3. Customers with higher disbursed_amount tend to have higher chances of being a defaulter.\n",
    "4. Customers with higher PRI_DISBURSED_AMOUNT tend to have higher chances of being a defaulter.\n",
    "5. Customers with Very Low risk bureau Score have lower chances of being defaulters while customers Higher risk bureau score have greater chances of defaulting.\n",
    "6. Based on the confusion matrix, it is observed that the model is able to identify non-defaulters more accurately but is not able to find sufficient number of defaulters. This implies that if the model predicts a defaulter, it can be suggested to not give loan to such candidate. However, if the model does not predict a defaulter, it is difficult to indicate whether the candidate will default or not."
   ]
  },
  {
   "cell_type": "code",
   "execution_count": null,
   "id": "23c6e950",
   "metadata": {},
   "outputs": [],
   "source": []
  },
  {
   "cell_type": "code",
   "execution_count": null,
   "id": "42144401",
   "metadata": {},
   "outputs": [],
   "source": []
  },
  {
   "cell_type": "code",
   "execution_count": null,
   "id": "7625cc1f",
   "metadata": {},
   "outputs": [],
   "source": [
    "\n"
   ]
  },
  {
   "cell_type": "code",
   "execution_count": null,
   "id": "4af8df3a",
   "metadata": {},
   "outputs": [],
   "source": []
  }
 ],
 "metadata": {
  "kernelspec": {
   "display_name": "Python 3 (ipykernel)",
   "language": "python",
   "name": "python3"
  },
  "language_info": {
   "codemirror_mode": {
    "name": "ipython",
    "version": 3
   },
   "file_extension": ".py",
   "mimetype": "text/x-python",
   "name": "python",
   "nbconvert_exporter": "python",
   "pygments_lexer": "ipython3",
   "version": "3.8.5"
  }
 },
 "nbformat": 4,
 "nbformat_minor": 5
}
